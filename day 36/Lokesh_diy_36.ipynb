{
 "cells": [
  {
   "cell_type": "markdown",
   "id": "2a66a5bc",
   "metadata": {},
   "source": [
    "## Q1. Discover other major types of Gradient Descent:"
   ]
  },
  {
   "cell_type": "markdown",
   "id": "25b3e631",
   "metadata": {},
   "source": [
    "* Batch Gradient Descent (BGD): \n",
    "It computes the gradient of the entire dataset and updates the weights once in each iteration. BGD can be computationally expensive for large datasets.\n",
    "\n",
    "* Stochastic Gradient Descent (SGD):\n",
    "It updates the weights after each training example. This makes it faster than BGD but introduces more noise in the optimization process.\n",
    "\n",
    "* Mini-Batch Gradient Descent:\n",
    "This is a compromise between BGD and SGD. It updates the weights using a small batch of randomly selected training examples. It combines some advantages of both BGD and SGD, offering a balance between computational efficiency and noise reduction.\n",
    "\n",
    "* Momentum Gradient Descent: \n",
    "It uses a moving average of past gradients to update the weights. This helps to accelerate convergence and overcome oscillations.\n",
    "\n",
    "* Adagrad (Adaptive Gradient Algorithm):\n",
    "It adapts the learning rates for each parameter based on the historical gradients. It performs larger updates for infrequent parameters and smaller updates for frequent ones.\n",
    "\n",
    "* RMSprop (Root Mean Square Propagation):\n",
    "It also adapts the learning rates but uses a moving average of squared gradients. It helps to normalize the learning rates for each parameter.\n",
    "\n",
    "* Adam (Adaptive Moment Estimation): \n",
    "Adam combines the ideas of momentum and RMSprop. It maintains both a moving average of gradients and a moving average of squared gradients."
   ]
  },
  {
   "cell_type": "markdown",
   "id": "74a0bd03",
   "metadata": {},
   "source": [
    "## Q2. The problem with Gradient Descent:"
   ]
  },
  {
   "cell_type": "markdown",
   "id": "fd35ee26",
   "metadata": {},
   "source": [
    "* Convergence Speed: \n",
    "     It can converge slowly, especially in cases where the cost function has irregularities or plateaus.\n",
    "\n",
    "* Sensitivity to Initial Conditions: \n",
    "     The performance of gradient descent may depend on the initial values of the parameters.\n",
    "\n",
    "* Local Minima:\n",
    "     Gradient descent may get stuck in local minima instead of finding the global minimum of the cost function.\n",
    "\n",
    "* Learning Rate Selection: \n",
    "     Choosing an appropriate learning rate can be challenging. A learning rate that is too high can cause oscillations or divergence, while a rate that is too low can result in slow convergence."
   ]
  },
  {
   "cell_type": "markdown",
   "id": "4870b1c2",
   "metadata": {},
   "source": [
    "## Q3. How to handle these problems:"
   ]
  },
  {
   "cell_type": "markdown",
   "id": "ea82ea69",
   "metadata": {},
   "source": [
    "* Learning Rate Schedules: \n",
    "    Use techniques like learning rate annealing or learning rate decay to adjust the learning rate during training.\n",
    "\n",
    "*  Random Initialization:\n",
    "    Randomly initialize model parameters to avoid getting stuck in local minima.\n",
    "\n",
    "* Batch Normalization:\n",
    "    Normalizing inputs can help with convergence and accelerate training.\n",
    "\n",
    "* Advanced Optimization Algorithms:\n",
    "    Use optimization algorithms like Adam, Adagrad, or RMSprop that adapt the learning rates during training.\n",
    "\n",
    "* Early Stopping: \n",
    "    Monitor the validation error during training and stop when it starts to degrade, preventing overfitting."
   ]
  },
  {
   "cell_type": "markdown",
   "id": "ed3045c1",
   "metadata": {},
   "source": [
    "## Q4. Limitations of Ridge and Lasso Regression:m"
   ]
  },
  {
   "cell_type": "markdown",
   "id": "eab02d83",
   "metadata": {},
   "source": [
    "* Feature Selection:\n",
    "   Ridge regression tends to shrink the coefficients towards zero but does not lead to exactly zero coefficients. Lasso, on the other hand, can result in sparse models, effectively performing feature selection. However, it may select only one variable among highly correlated ones, which can be unstable.\n",
    "\n",
    "* Sensitivity to Outliers:\n",
    "   Both methods can be sensitive to outliers in the data."
   ]
  },
  {
   "cell_type": "markdown",
   "id": "a387a1b1",
   "metadata": {},
   "source": [
    "## Q5. What is Elastic Net"
   ]
  },
  {
   "cell_type": "markdown",
   "id": "66353e4d",
   "metadata": {},
   "source": [
    "Elastic Net is a regularization technique that combines both L1 (Lasso) and L2 (Ridge) regularization terms in the linear regression cost function. It is represented by the following formula:"
   ]
  },
  {
   "attachments": {
    "WhatsApp%20Image%202023-12-13%20at%2010.18.13%20AM.jpeg": {
     "image/jpeg": "[encoded data removed]"
    }
   },
   "cell_type": "markdown",
   "id": "02fe1199",
   "metadata": {},
   "source": [
    "![WhatsApp%20Image%202023-12-13%20at%2010.18.13%20AM.jpeg](attachment:WhatsApp%20Image%202023-12-13%20at%2010.18.13%20AM.jpeg)"
   ]
  },
  {
   "cell_type": "markdown",
   "id": "95414e22",
   "metadata": {},
   "source": [
    "regularization strengths. Elastic Net addresses some of the limitations of Ridge and Lasso by combining their strengths and providing a more flexible regularization approach."
   ]
  },
  {
   "cell_type": "code",
   "execution_count": null,
   "id": "5fa31841",
   "metadata": {},
   "outputs": [],
   "source": []
  }
 ],
 "metadata": {
  "kernelspec": {
   "display_name": "Python 3 (ipykernel)",
   "language": "python",
   "name": "python3"
  },
  "language_info": {
   "codemirror_mode": {
    "name": "ipython",
    "version": 3
   },
   "file_extension": ".py",
   "mimetype": "text/x-python",
   "name": "python",
   "nbconvert_exporter": "python",
   "pygments_lexer": "ipython3",
   "version": "3.11.5"
  }
 },
 "nbformat": 4,
 "nbformat_minor": 5
}
