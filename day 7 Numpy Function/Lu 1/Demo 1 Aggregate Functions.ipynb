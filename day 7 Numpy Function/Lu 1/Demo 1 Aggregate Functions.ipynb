{
 "cells": [
  {
   "cell_type": "markdown",
   "metadata": {},
   "source": [
    "## Demo 1: Aggregate Functions"
   ]
  },
  {
   "cell_type": "markdown",
   "metadata": {},
   "source": [
    "In this demo, you will be shown how to implement aggregate functions."
   ]
  },
  {
   "cell_type": "markdown",
   "metadata": {},
   "source": [
    "#### Description about Hill Cipher"
   ]
  },
  {
   "cell_type": "markdown",
   "metadata": {},
   "source": [
    "'''\n",
    "Hill Cipher is a polygraphic substitution cipher based on linear algebra.\n",
    "Here the plain text is converted into encrypted form.\n",
    "Each letter of plain text is represented by a number modulo 26.\n",
    "Often the simple scheme A=0, B=1,....Z=25 is used\n",
    "To encrypt a message, each block of n letters is multiplied by an invertible n × n matrix, against modulus 26\n",
    "The matrix used for encryption is the cipher key, and it should be chosen randomly\n",
    "Lets us take plain text = edureka and cipher key = [11 9\n",
    "                                                     8 17]\n",
    "Plain text is converted into 2×1 matrix format i.e. [e d] [u r] [e k]\n",
    "Again plain text is converted into numbers i.e. [4 3] [20 11] [4 10]\n",
    "So, encryption of hill cipher = (each column of plain text)*(key)*mod 26\n",
    "'''"
   ]
  },
  {
   "cell_type": "markdown",
   "metadata": {},
   "source": [
    "#### Question: Perform aggregate function on marks.csv file"
   ]
  },
  {
   "cell_type": "markdown",
   "metadata": {},
   "source": [
    "### Step 1: Import the libraries"
   ]
  },
  {
   "cell_type": "code",
   "execution_count": 3,
   "metadata": {},
   "outputs": [],
   "source": [
    "import numpy as np"
   ]
  },
  {
   "cell_type": "markdown",
   "metadata": {},
   "source": [
    "### Step 2: Load marks.csv file"
   ]
  },
  {
   "cell_type": "code",
   "execution_count": 18,
   "metadata": {},
   "outputs": [],
   "source": [
    "data = np.loadtxt('Book.csv',delimiter=',',usecols=(1),skiprows=1)"
   ]
  },
  {
   "cell_type": "markdown",
   "metadata": {},
   "source": [
    "### Step 3: Display the column on which we are going to perform different aggregate functions"
   ]
  },
  {
   "cell_type": "code",
   "execution_count": 19,
   "metadata": {},
   "outputs": [
    {
     "name": "stdout",
     "output_type": "stream",
     "text": [
      "Data: [  123.        1332.        4222.        5991.333333  8040.833333\n",
      " 10090.33333  12139.83333  14189.33333  16238.83333  18288.33333\n",
      " 20337.83333  22387.33333  24436.83333  26486.33333  28535.83333\n",
      " 30585.33333  32634.83333  34684.33333  36733.83333  38783.33333\n",
      " 40832.83333  42882.33333  44931.83333  46981.33333 ]\n"
     ]
    }
   ],
   "source": [
    "print(\"Data:\", data)"
   ]
  },
  {
   "cell_type": "markdown",
   "metadata": {},
   "source": [
    "### Step 4: Calculate different aggregate function on marks.csv file"
   ]
  },
  {
   "cell_type": "code",
   "execution_count": 20,
   "metadata": {},
   "outputs": [
    {
     "name": "stdout",
     "output_type": "stream",
     "text": [
      "Sum: 561889.9999360001\n"
     ]
    }
   ],
   "source": [
    "#Calculating sum of the given data\n",
    "print(\"Sum:\",data.sum())"
   ]
  },
  {
   "cell_type": "code",
   "execution_count": 21,
   "metadata": {},
   "outputs": [
    {
     "name": "stdout",
     "output_type": "stream",
     "text": [
      "Minimum: 123.0\n"
     ]
    }
   ],
   "source": [
    "#Calculating minimum from the given data\n",
    "print(\"Minimum:\",data.min())"
   ]
  },
  {
   "cell_type": "code",
   "execution_count": 22,
   "metadata": {},
   "outputs": [
    {
     "name": "stdout",
     "output_type": "stream",
     "text": [
      "Maximum: 46981.33333\n"
     ]
    }
   ],
   "source": [
    "#Calculating maximum from the given data\n",
    "print(\"Maximum:\",data.max())"
   ]
  },
  {
   "cell_type": "code",
   "execution_count": 23,
   "metadata": {},
   "outputs": [
    {
     "name": "stdout",
     "output_type": "stream",
     "text": [
      "Mean: 23412.083330666672\n"
     ]
    }
   ],
   "source": [
    "#Calculating mean of the given data\n",
    "print(\"Mean:\",data.mean())"
   ]
  },
  {
   "cell_type": "code",
   "execution_count": 24,
   "metadata": {},
   "outputs": [
    {
     "name": "stdout",
     "output_type": "stream",
     "text": [
      "Standard Deviation: 14187.71291622837\n"
     ]
    }
   ],
   "source": [
    "#Calculating standard deviation of  the given data\n",
    "print(\"Standard Deviation:\",data.std())"
   ]
  },
  {
   "cell_type": "markdown",
   "metadata": {},
   "source": [
    "#### Conclusion: This code demonstrates how to calculate aggregate functions"
   ]
  }
 ],
 "metadata": {
  "kernelspec": {
   "display_name": "Python 3 (ipykernel)",
   "language": "python",
   "name": "python3"
  },
  "language_info": {
   "codemirror_mode": {
    "name": "ipython",
    "version": 3
   },
   "file_extension": ".py",
   "mimetype": "text/x-python",
   "name": "python",
   "nbconvert_exporter": "python",
   "pygments_lexer": "ipython3",
   "version": "3.11.3"
  }
 },
 "nbformat": 4,
 "nbformat_minor": 2
}
