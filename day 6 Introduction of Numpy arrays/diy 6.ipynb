{
 "cells": [
  {
   "cell_type": "code",
   "execution_count": 18,
   "id": "656630cd",
   "metadata": {},
   "outputs": [
    {
     "name": "stdout",
     "output_type": "stream",
     "text": [
      "[ 1  3  5  7  9 11 13 15 17 19 21 23 25 27 29]\n",
      "<class 'numpy.ndarray'>\n"
     ]
    }
   ],
   "source": [
    "import numpy as np \n",
    "a = np.arange(1, 30, 2)\n",
    "print(a)\n",
    "print(type(a))"
   ]
  },
  {
   "cell_type": "code",
   "execution_count": 19,
   "id": "a7ea8e5c",
   "metadata": {},
   "outputs": [
    {
     "name": "stdout",
     "output_type": "stream",
     "text": [
      "Size of each element of list in bytes:  48\n",
      "Size of the whole list in bytes:  480\n",
      "Size of each element of the array in bytes:  8\n",
      "Size of the whole array in bytes:  80\n",
      "Size of each element of the array in bytes:  8\n",
      "Size of the whole array in bytes:  80\n",
      "Size of each element of the array in bytes:  8\n",
      "Size of the whole array in bytes:  80\n"
     ]
    }
   ],
   "source": [
    "import numpy as np\n",
    "import sys  \n",
    "List = range(10) \n",
    "print(\"Size of each element of\"\\\n",
    "\" list in bytes: \", sys.getsizeof(List))  \n",
    "print(\"Size of the whole list in\"\\\n",
    "\" bytes: \", sys.getsizeof(List)*len(List)) \n",
    "array_size = 10\n",
    "\n",
    "one_dimensional_array  = np.random.rand(array_size)\n",
    "two_dimensional_array  = np.random.rand(array_size, 2)\n",
    "three_dimensional_array = np.random.rand(array_size, 3)\n",
    "print(\"Size of each element of \"\\\n",
    "\"the array in bytes: \", one_dimensional_array.itemsize) \n",
    "print(\"Size of the whole array\"\\\n",
    "\" in bytes: \", len(one_dimensional_array)*one_dimensional_array.itemsize) \n",
    "print(\"Size of each element of \"\\\n",
    "\"the array in bytes: \", two_dimensional_array.itemsize) \n",
    "print(\"Size of the whole array\"\\\n",
    "\" in bytes: \", len(two_dimensional_array)*two_dimensional_array.itemsize) \n",
    "print(\"Size of each element of \"\\\n",
    "\"the array in bytes: \", three_dimensional_array.itemsize) \n",
    "print(\"Size of the whole array\"\\\n",
    "\" in bytes: \", len(three_dimensional_array)*three_dimensional_array.itemsize) \n",
    "\n"
   ]
  },
  {
   "cell_type": "code",
   "execution_count": null,
   "id": "0eeb5ee9",
   "metadata": {},
   "outputs": [],
   "source": []
  }
 ],
 "metadata": {
  "kernelspec": {
   "display_name": "Python 3 (ipykernel)",
   "language": "python",
   "name": "python3"
  },
  "language_info": {
   "codemirror_mode": {
    "name": "ipython",
    "version": 3
   },
   "file_extension": ".py",
   "mimetype": "text/x-python",
   "name": "python",
   "nbconvert_exporter": "python",
   "pygments_lexer": "ipython3",
   "version": "3.11.3"
  }
 },
 "nbformat": 4,
 "nbformat_minor": 5
}
