{
 "cells": [
  {
   "cell_type": "code",
   "execution_count": null,
   "id": "6592fb95",
   "metadata": {
    "id": "6592fb95"
   },
   "outputs": [],
   "source": [
    "import numpy as np\n",
    "arr1 = np.random.randint(0,100,(4,4))\n",
    "arr2 = np.random.randint(0,100,(4,4))"
   ]
  },
  {
   "cell_type": "code",
   "execution_count": null,
   "id": "c613ad73",
   "metadata": {
    "id": "c613ad73",
    "outputId": "192349ff-9f51-469d-bac7-944ff094885e"
   },
   "outputs": [
    {
     "data": {
      "text/plain": [
       "array([[95, 81, 83, 41],\n",
       "       [69, 83, 94, 21],\n",
       "       [ 0,  5, 58, 66],\n",
       "       [54, 85, 47,  7]])"
      ]
     },
     "execution_count": 22,
     "metadata": {},
     "output_type": "execute_result"
    }
   ],
   "source": [
    "arr1"
   ]
  },
  {
   "cell_type": "code",
   "execution_count": null,
   "id": "171609e4",
   "metadata": {
    "id": "171609e4",
    "outputId": "21c74028-519b-43db-b2f6-e547e5ccb65c",
    "scrolled": true
   },
   "outputs": [
    {
     "data": {
      "text/plain": [
       "array([[71, 34, 98, 98],\n",
       "       [84, 13, 84, 59],\n",
       "       [88, 96, 49, 51],\n",
       "       [49, 58, 67, 55]])"
      ]
     },
     "execution_count": 23,
     "metadata": {},
     "output_type": "execute_result"
    }
   ],
   "source": [
    "arr2"
   ]
  },
  {
   "cell_type": "code",
   "execution_count": null,
   "id": "3d744c3d",
   "metadata": {
    "id": "3d744c3d",
    "outputId": "3cc3f7dd-2d5c-4e91-b03f-6428ae62be7d"
   },
   "outputs": [
    {
     "data": {
      "text/plain": [
       "array([95, 81, 83, 41, 69, 83, 94, 21,  0,  5, 58, 66, 54, 85, 47,  7, 71,\n",
       "       34, 98, 98, 84, 13, 84, 59, 88, 96, 49, 51, 49, 58, 67, 55])"
      ]
     },
     "execution_count": 24,
     "metadata": {},
     "output_type": "execute_result"
    }
   ],
   "source": [
    "np.concatenate((arr1,arr2),axis=None)"
   ]
  },
  {
   "cell_type": "code",
   "execution_count": null,
   "id": "501e4e9e",
   "metadata": {
    "id": "501e4e9e",
    "outputId": "a77e064a-2b9c-4053-85b7-55616de64006"
   },
   "outputs": [
    {
     "data": {
      "text/plain": [
       "array([[95, 81, 83, 41],\n",
       "       [69, 83, 94, 21],\n",
       "       [ 0,  5, 58, 66],\n",
       "       [54, 85, 47,  7],\n",
       "       [71, 34, 98, 98],\n",
       "       [84, 13, 84, 59],\n",
       "       [88, 96, 49, 51],\n",
       "       [49, 58, 67, 55]])"
      ]
     },
     "execution_count": 25,
     "metadata": {},
     "output_type": "execute_result"
    }
   ],
   "source": [
    "np.concatenate((arr1,arr2),axis=0)"
   ]
  },
  {
   "cell_type": "code",
   "execution_count": null,
   "id": "15884179",
   "metadata": {
    "id": "15884179",
    "outputId": "a6f680d3-1cff-4bad-c7e0-44c6d9bbd578"
   },
   "outputs": [
    {
     "data": {
      "text/plain": [
       "array([[95, 81, 83, 41, 71, 34, 98, 98],\n",
       "       [69, 83, 94, 21, 84, 13, 84, 59],\n",
       "       [ 0,  5, 58, 66, 88, 96, 49, 51],\n",
       "       [54, 85, 47,  7, 49, 58, 67, 55]])"
      ]
     },
     "execution_count": 26,
     "metadata": {},
     "output_type": "execute_result"
    }
   ],
   "source": [
    "np.concatenate((arr1,arr2),axis=1)"
   ]
  },
  {
   "cell_type": "code",
   "execution_count": null,
   "id": "6d271646",
   "metadata": {
    "id": "6d271646",
    "outputId": "ee2f1b83-5d38-4976-96bb-b3f5e092beec"
   },
   "outputs": [
    {
     "data": {
      "text/plain": [
       "array([[[95, 81, 83, 41],\n",
       "        [69, 83, 94, 21],\n",
       "        [ 0,  5, 58, 66],\n",
       "        [54, 85, 47,  7]],\n",
       "\n",
       "       [[71, 34, 98, 98],\n",
       "        [84, 13, 84, 59],\n",
       "        [88, 96, 49, 51],\n",
       "        [49, 58, 67, 55]]])"
      ]
     },
     "execution_count": 27,
     "metadata": {},
     "output_type": "execute_result"
    }
   ],
   "source": [
    "np.stack((arr1,arr2))"
   ]
  },
  {
   "cell_type": "code",
   "execution_count": null,
   "id": "664476f8",
   "metadata": {
    "id": "664476f8",
    "outputId": "64dc23ea-d48a-42d1-81d8-9718bbe66be4"
   },
   "outputs": [
    {
     "data": {
      "text/plain": [
       "array([[95, 81, 83, 41, 71, 34, 98, 98],\n",
       "       [69, 83, 94, 21, 84, 13, 84, 59],\n",
       "       [ 0,  5, 58, 66, 88, 96, 49, 51],\n",
       "       [54, 85, 47,  7, 49, 58, 67, 55]])"
      ]
     },
     "execution_count": 28,
     "metadata": {},
     "output_type": "execute_result"
    }
   ],
   "source": [
    "np.column_stack((arr1,arr2))"
   ]
  },
  {
   "cell_type": "code",
   "execution_count": null,
   "id": "9e06709f",
   "metadata": {
    "id": "9e06709f",
    "outputId": "216e8f2e-a27c-4c70-d13f-0f6044cae5e1"
   },
   "outputs": [
    {
     "data": {
      "text/plain": [
       "array([[95, 81, 83, 41, 71, 34, 98, 98],\n",
       "       [69, 83, 94, 21, 84, 13, 84, 59],\n",
       "       [ 0,  5, 58, 66, 88, 96, 49, 51],\n",
       "       [54, 85, 47,  7, 49, 58, 67, 55]])"
      ]
     },
     "execution_count": 29,
     "metadata": {},
     "output_type": "execute_result"
    }
   ],
   "source": [
    "np.hstack((arr1,arr2))"
   ]
  },
  {
   "cell_type": "code",
   "execution_count": null,
   "id": "7cbb21a4",
   "metadata": {
    "id": "7cbb21a4",
    "outputId": "1ddd8700-2c22-46d2-bb67-c292c993e3d4"
   },
   "outputs": [
    {
     "data": {
      "text/plain": [
       "array([[95, 81, 83, 41],\n",
       "       [69, 83, 94, 21],\n",
       "       [ 0,  5, 58, 66],\n",
       "       [54, 85, 47,  7],\n",
       "       [71, 34, 98, 98],\n",
       "       [84, 13, 84, 59],\n",
       "       [88, 96, 49, 51],\n",
       "       [49, 58, 67, 55]])"
      ]
     },
     "execution_count": 30,
     "metadata": {},
     "output_type": "execute_result"
    }
   ],
   "source": [
    "np.vstack((arr1,arr2))"
   ]
  },
  {
   "cell_type": "code",
   "execution_count": null,
   "id": "c8da4a57",
   "metadata": {
    "id": "c8da4a57",
    "outputId": "502bdcc0-78ac-446a-e7a6-e67202650512"
   },
   "outputs": [
    {
     "data": {
      "text/plain": [
       "[array([[95, 81, 83, 41]]),\n",
       " array([[69, 83, 94, 21]]),\n",
       " array([[ 0,  5, 58, 66]]),\n",
       " array([[54, 85, 47,  7]])]"
      ]
     },
     "execution_count": 31,
     "metadata": {},
     "output_type": "execute_result"
    }
   ],
   "source": [
    "np.split(arr1,4)"
   ]
  },
  {
   "cell_type": "code",
   "execution_count": null,
   "id": "a4695dff",
   "metadata": {
    "id": "a4695dff",
    "outputId": "57f7f44d-1c96-4f84-e6f7-a04cbce55b0f"
   },
   "outputs": [
    {
     "data": {
      "text/plain": [
       "[array([[95],\n",
       "        [69],\n",
       "        [ 0],\n",
       "        [54]]),\n",
       " array([[81],\n",
       "        [83],\n",
       "        [ 5],\n",
       "        [85]]),\n",
       " array([[83],\n",
       "        [94],\n",
       "        [58],\n",
       "        [47]]),\n",
       " array([[41],\n",
       "        [21],\n",
       "        [66],\n",
       "        [ 7]])]"
      ]
     },
     "execution_count": 32,
     "metadata": {},
     "output_type": "execute_result"
    }
   ],
   "source": [
    "np.hsplit(arr1,4)"
   ]
  },
  {
   "cell_type": "code",
   "execution_count": null,
   "id": "76d85e6d",
   "metadata": {
    "id": "76d85e6d",
    "outputId": "8abd3259-097f-4001-b133-690bf0ff62f5"
   },
   "outputs": [
    {
     "data": {
      "text/plain": [
       "[array([[95, 81, 83, 41],\n",
       "        [69, 83, 94, 21]]),\n",
       " array([[ 0,  5, 58, 66],\n",
       "        [54, 85, 47,  7]])]"
      ]
     },
     "execution_count": 33,
     "metadata": {},
     "output_type": "execute_result"
    }
   ],
   "source": [
    "np.vsplit(arr1,2)"
   ]
  },
  {
   "cell_type": "code",
   "execution_count": null,
   "id": "e58bfd92",
   "metadata": {
    "id": "e58bfd92"
   },
   "outputs": [],
   "source": []
  }
 ],
 "metadata": {
  "colab": {
   "name": "Demo - Array Manipulation- 2.ipynb",
   "provenance": []
  },
  "kernelspec": {
   "display_name": "Python 3 (ipykernel)",
   "language": "python",
   "name": "python3"
  },
  "language_info": {
   "codemirror_mode": {
    "name": "ipython",
    "version": 3
   },
   "file_extension": ".py",
   "mimetype": "text/x-python",
   "name": "python",
   "nbconvert_exporter": "python",
   "pygments_lexer": "ipython3",
   "version": "3.11.3"
  }
 },
 "nbformat": 4,
 "nbformat_minor": 5
}
