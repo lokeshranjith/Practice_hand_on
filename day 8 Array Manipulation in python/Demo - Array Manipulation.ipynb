{
 "cells": [
  {
   "cell_type": "code",
   "execution_count": 1,
   "id": "6592fb95",
   "metadata": {
    "id": "6592fb95"
   },
   "outputs": [],
   "source": [
    "import numpy as np\n",
    "arr1 = np.random.randint(0,100,(4,4))"
   ]
  },
  {
   "cell_type": "code",
   "execution_count": 2,
   "id": "7b37ca7d",
   "metadata": {
    "id": "7b37ca7d",
    "outputId": "b5de7e43-6f63-4701-8054-689673c653d2"
   },
   "outputs": [
    {
     "data": {
      "text/plain": [
       "(4, 4)"
      ]
     },
     "execution_count": 2,
     "metadata": {},
     "output_type": "execute_result"
    }
   ],
   "source": [
    "arr1.shape"
   ]
  },
  {
   "cell_type": "code",
   "execution_count": null,
   "id": "501e4e9e",
   "metadata": {
    "id": "501e4e9e",
    "outputId": "2e1880d5-68ce-4f29-b284-cf42fa9b71b2"
   },
   "outputs": [
    {
     "data": {
      "text/plain": [
       "array([[85, 98, 96, 19],\n",
       "       [95, 99, 14,  0],\n",
       "       [15, 21, 79, 43],\n",
       "       [29, 94, 34, 18]])"
      ]
     },
     "execution_count": 5,
     "metadata": {},
     "output_type": "execute_result"
    }
   ],
   "source": [
    "arr1"
   ]
  },
  {
   "cell_type": "code",
   "execution_count": null,
   "id": "f989624a",
   "metadata": {
    "id": "f989624a"
   },
   "outputs": [],
   "source": [
    "arr2 = arr1.reshape(2,8)"
   ]
  },
  {
   "cell_type": "code",
   "execution_count": null,
   "id": "6bffdfa8",
   "metadata": {
    "id": "6bffdfa8",
    "outputId": "5755179a-1dc6-4ebc-8fd0-8dd3b2bd23f3"
   },
   "outputs": [
    {
     "data": {
      "text/plain": [
       "array([[85, 98, 96, 19, 95, 99, 14,  0],\n",
       "       [15, 21, 79, 43, 29, 94, 34, 18]])"
      ]
     },
     "execution_count": 7,
     "metadata": {},
     "output_type": "execute_result"
    }
   ],
   "source": [
    "arr2"
   ]
  },
  {
   "cell_type": "code",
   "execution_count": null,
   "id": "ec89a1b3",
   "metadata": {
    "id": "ec89a1b3",
    "outputId": "93db4276-5904-4819-a17c-c62bf8e64a46"
   },
   "outputs": [
    {
     "data": {
      "text/plain": [
       "(2, 8)"
      ]
     },
     "execution_count": 8,
     "metadata": {},
     "output_type": "execute_result"
    }
   ],
   "source": [
    "arr2.shape"
   ]
  },
  {
   "cell_type": "code",
   "execution_count": null,
   "id": "18f8bd0b",
   "metadata": {
    "id": "18f8bd0b",
    "outputId": "41d00abb-dd00-4bc7-ee6a-41f621b1c29d"
   },
   "outputs": [
    {
     "data": {
      "text/plain": [
       "(8, 2)"
      ]
     },
     "execution_count": 9,
     "metadata": {},
     "output_type": "execute_result"
    }
   ],
   "source": [
    "arr5 = np.reshape(arr1,(8,2))\n",
    "arr5.shape"
   ]
  },
  {
   "cell_type": "code",
   "execution_count": null,
   "id": "0205e1dd",
   "metadata": {
    "id": "0205e1dd",
    "outputId": "91640fc9-df7a-4941-dadc-61f27e7df183"
   },
   "outputs": [
    {
     "data": {
      "text/plain": [
       "(4, 4)"
      ]
     },
     "execution_count": 10,
     "metadata": {},
     "output_type": "execute_result"
    }
   ],
   "source": [
    "arr1.shape"
   ]
  },
  {
   "cell_type": "code",
   "execution_count": null,
   "id": "fe7f2268",
   "metadata": {
    "id": "fe7f2268",
    "outputId": "1de06b51-0705-4322-d285-4b379036912f"
   },
   "outputs": [
    {
     "ename": "ValueError",
     "evalue": "cannot reshape array of size 16 into shape (3,7)",
     "output_type": "error",
     "traceback": [
      "\u001b[1;31m---------------------------------------------------------------------------\u001b[0m",
      "\u001b[1;31mValueError\u001b[0m                                Traceback (most recent call last)",
      "\u001b[1;32m~\\AppData\\Local\\Temp/ipykernel_19964/288151583.py\u001b[0m in \u001b[0;36m<module>\u001b[1;34m\u001b[0m\n\u001b[1;32m----> 1\u001b[1;33m \u001b[0marr3\u001b[0m \u001b[1;33m=\u001b[0m \u001b[0marr1\u001b[0m\u001b[1;33m.\u001b[0m\u001b[0mreshape\u001b[0m\u001b[1;33m(\u001b[0m\u001b[1;36m3\u001b[0m\u001b[1;33m,\u001b[0m\u001b[1;36m7\u001b[0m\u001b[1;33m)\u001b[0m\u001b[1;33m\u001b[0m\u001b[1;33m\u001b[0m\u001b[0m\n\u001b[0m",
      "\u001b[1;31mValueError\u001b[0m: cannot reshape array of size 16 into shape (3,7)"
     ]
    }
   ],
   "source": [
    "arr3 = arr1.reshape(3,7)"
   ]
  },
  {
   "cell_type": "code",
   "execution_count": null,
   "id": "bceeb202",
   "metadata": {
    "id": "bceeb202",
    "outputId": "8427c257-b659-4d01-f22a-03a397f2ab1e"
   },
   "outputs": [
    {
     "data": {
      "text/plain": [
       "(2, 8)"
      ]
     },
     "execution_count": 12,
     "metadata": {},
     "output_type": "execute_result"
    }
   ],
   "source": [
    "arr2.shape"
   ]
  },
  {
   "cell_type": "code",
   "execution_count": null,
   "id": "1cd3f485",
   "metadata": {
    "id": "1cd3f485",
    "outputId": "0cca30ca-d333-42fe-9197-63658d1884b4"
   },
   "outputs": [
    {
     "data": {
      "text/plain": [
       "array([85, 98, 96, 19, 95, 99, 14,  0, 15, 21, 79, 43, 29, 94, 34, 18])"
      ]
     },
     "execution_count": 13,
     "metadata": {},
     "output_type": "execute_result"
    }
   ],
   "source": [
    "arr2.ravel()"
   ]
  },
  {
   "cell_type": "code",
   "execution_count": null,
   "id": "83b13c0d",
   "metadata": {
    "id": "83b13c0d",
    "outputId": "4e03cf85-9b55-494b-f94d-4a781d31fa56"
   },
   "outputs": [
    {
     "data": {
      "text/plain": [
       "array([[ 1,  2,  3,  4],\n",
       "       [ 5,  6,  7,  8],\n",
       "       [ 9, 10, 11, 12]])"
      ]
     },
     "execution_count": 14,
     "metadata": {},
     "output_type": "execute_result"
    }
   ],
   "source": [
    "arr4 = np.arange(1,13).reshape(3,4)\n",
    "arr4"
   ]
  },
  {
   "cell_type": "code",
   "execution_count": null,
   "id": "c720fc02",
   "metadata": {
    "id": "c720fc02",
    "outputId": "1d1a3218-39d9-4c1c-cc34-f813f0ddff15"
   },
   "outputs": [
    {
     "data": {
      "text/plain": [
       "array([[ 1,  5,  9],\n",
       "       [ 2,  6, 10],\n",
       "       [ 3,  7, 11],\n",
       "       [ 4,  8, 12]])"
      ]
     },
     "execution_count": 15,
     "metadata": {},
     "output_type": "execute_result"
    }
   ],
   "source": [
    "np.transpose(arr4)"
   ]
  },
  {
   "cell_type": "code",
   "execution_count": null,
   "id": "9a58aa85",
   "metadata": {
    "id": "9a58aa85",
    "outputId": "8baf56d6-9701-4bfe-9ff1-a6820837ae1b"
   },
   "outputs": [
    {
     "data": {
      "text/plain": [
       "array([[ 1,  5,  9],\n",
       "       [ 2,  6, 10],\n",
       "       [ 3,  7, 11],\n",
       "       [ 4,  8, 12]])"
      ]
     },
     "execution_count": 16,
     "metadata": {},
     "output_type": "execute_result"
    }
   ],
   "source": [
    "arr4.T"
   ]
  },
  {
   "cell_type": "code",
   "execution_count": null,
   "id": "c8da4a57",
   "metadata": {
    "id": "c8da4a57"
   },
   "outputs": [],
   "source": []
  }
 ],
 "metadata": {
  "colab": {
   "name": "Demo  - Array Manipulation.ipynb",
   "provenance": []
  },
  "kernelspec": {
   "display_name": "Python 3 (ipykernel)",
   "language": "python",
   "name": "python3"
  },
  "language_info": {
   "codemirror_mode": {
    "name": "ipython",
    "version": 3
   },
   "file_extension": ".py",
   "mimetype": "text/x-python",
   "name": "python",
   "nbconvert_exporter": "python",
   "pygments_lexer": "ipython3",
   "version": "3.11.3"
  }
 },
 "nbformat": 4,
 "nbformat_minor": 5
}
