{
 "cells": [
  {
   "cell_type": "markdown",
   "metadata": {
    "id": "paySR_dwUgfc"
   },
   "source": [
    "##Day 8 - DIY Solution"
   ]
  },
  {
   "cell_type": "markdown",
   "metadata": {
    "id": "pPik1Z7iUj1P"
   },
   "source": [
    "**Q1. Problem Statement: Understanding NumPy Array Functions - I**\n",
    "\n",
    "Define a NumPy array with 4 * 5 dimensions, swap the array's dimensions to make it 5 * 4 using suitable functions.\n"
   ]
  },
  {
   "cell_type": "code",
   "execution_count": 5,
   "metadata": {
    "colab": {
     "base_uri": "https://localhost:8080/"
    },
    "id": "UROCXizUUafb",
    "outputId": "0254c3c0-9165-4201-a5df-e5c683eef537"
   },
   "outputs": [
    {
     "name": "stdout",
     "output_type": "stream",
     "text": [
      "Original Array:\n",
      "[ 0  1  2  3  4  5  6  7  8  9 10 11 12 13 14 15 16 17 18 19]\n",
      "Reshaped Array:\n",
      "[[ 0  1  2  3]\n",
      " [ 4  5  6  7]\n",
      " [ 8  9 10 11]\n",
      " [12 13 14 15]\n",
      " [16 17 18 19]]\n",
      "Transpose of Array:\n",
      "[[ 0  1  2  3]\n",
      " [ 4  5  6  7]\n",
      " [ 8  9 10 11]\n",
      " [12 13 14 15]\n",
      " [16 17 18 19]]\n"
     ]
    },
    {
     "data": {
      "text/plain": [
       "array([ 0,  1,  2,  3,  4,  5,  6,  7,  8,  9, 10, 11, 12, 13, 14, 15, 16,\n",
       "       17, 18, 19])"
      ]
     },
     "execution_count": 5,
     "metadata": {},
     "output_type": "execute_result"
    }
   ],
   "source": [
    "#Array manipulation(reshape and transpose)\n",
    "import numpy as np\n",
    "a = np.arange(20)\n",
    "print(\"Original Array:\")\n",
    "print(a)\n",
    "#Printing Reshape result\n",
    "b = a.reshape((5,4))\n",
    "print(\"Reshaped Array:\")\n",
    "print(b)\n",
    "#Printing Transpose result\n",
    "c = a.transpose()\n",
    "print(\"Transpose of Array:\")\n",
    "print(b)\n",
    "a.T"
   ]
  },
  {
   "cell_type": "markdown",
   "metadata": {
    "id": "dMuJm2xkVR0d"
   },
   "source": [
    "**Q2. Problem Statement: Understanding NumPy Array Functions - II**\n",
    "\n",
    "Write a Python program to create two 2-dimensional arrays and apply hstack(), vstack(), concatenate(), and split() functions.\n"
   ]
  },
  {
   "cell_type": "code",
   "execution_count": null,
   "metadata": {
    "colab": {
     "base_uri": "https://localhost:8080/"
    },
    "id": "HrvOqYdFVY9u",
    "outputId": "e717f655-1765-417b-cace-53944752edc5"
   },
   "outputs": [
    {
     "name": "stdout",
     "output_type": "stream",
     "text": [
      "First array is:\n",
      "[[1 2]\n",
      " [3 4]]\n",
      "Second array is:\n",
      "[[6 7]\n",
      " [8 9]]\n",
      "Applying hstack() function:\n",
      "[[1 2 6 7]\n",
      " [3 4 8 9]]\n",
      "Applying vstack() function:\n",
      "[[1 2]\n",
      " [3 4]\n",
      " [6 7]\n",
      " [8 9]]\n",
      "Applying concatenate() function:\n",
      "[[1 2]\n",
      " [3 4]\n",
      " [6 7]\n",
      " [8 9]]\n",
      "Applying split() function:\n",
      "[array([[1, 2, 6, 7]]), array([[3, 4, 8, 9]])]\n"
     ]
    }
   ],
   "source": [
    "#Slicing and Joining arrays\n",
    "import numpy as np\n",
    "a = np.arange(1,5).reshape(2,2)\n",
    "b= np.arange(6,10).reshape(2,2)\n",
    "print(\"First array is:\")\n",
    "print(a)\n",
    "print(\"Second array is:\")\n",
    "print(b)\n",
    "print(\"Applying hstack() function:\")\n",
    "arr1 = np.hstack((a, b))\n",
    "print(arr1)\n",
    "print(\"Applying vstack() function:\")\n",
    "arr2 = np.vstack((a, b))\n",
    "print(arr2)\n",
    "print(\"Applying concatenate() function:\")\n",
    "arr3 = np.concatenate((a, b))\n",
    "print(arr3)\n",
    "print(\"Applying split() function:\")\n",
    "arr4 = np.array_split(arr1, 2)\n",
    "print(arr4)"
   ]
  }
 ],
 "metadata": {
  "colab": {
   "collapsed_sections": [],
   "name": "DS_D8_DIY_Solution_V1.0.ipynb",
   "provenance": []
  },
  "kernelspec": {
   "display_name": "Python 3 (ipykernel)",
   "language": "python",
   "name": "python3"
  },
  "language_info": {
   "codemirror_mode": {
    "name": "ipython",
    "version": 3
   },
   "file_extension": ".py",
   "mimetype": "text/x-python",
   "name": "python",
   "nbconvert_exporter": "python",
   "pygments_lexer": "ipython3",
   "version": "3.11.3"
  }
 },
 "nbformat": 4,
 "nbformat_minor": 1
}
