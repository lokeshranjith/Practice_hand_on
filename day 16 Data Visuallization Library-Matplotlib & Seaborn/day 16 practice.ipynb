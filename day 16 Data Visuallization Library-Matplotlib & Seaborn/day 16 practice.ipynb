{
 "cells": [
  {
   "cell_type": "code",
   "execution_count": 35,
   "id": "65be3e6a",
   "metadata": {},
   "outputs": [],
   "source": [
    "import numpy as np\n",
    "import pandas as pd\n",
    "import matplotlib.pyplot as plt\n",
    "import seaborn as sns\n",
    "%matplotlib inline"
   ]
  },
  {
   "cell_type": "code",
   "execution_count": 36,
   "id": "851085f8",
   "metadata": {},
   "outputs": [],
   "source": [
    "df=pd.read_excel(\"Rainfall.xlsx\")"
   ]
  },
  {
   "cell_type": "code",
   "execution_count": 37,
   "id": "84d160f3",
   "metadata": {},
   "outputs": [],
   "source": [
    "df"
   ]
  },
  {
   "cell_type": "code",
   "execution_count": 38,
   "id": "e5033bcb",
   "metadata": {},
   "outputs": [],
   "source": [
    "plt.plot(df.ANNUAL[-5:])"
   ]
  },
  {
   "cell_type": "code",
   "execution_count": 39,
   "id": "76f3edaa",
   "metadata": {},
   "outputs": [],
   "source": [
    "df.corr()"
   ]
  },
  {
   "cell_type": "code",
   "execution_count": 41,
   "id": "84cfa0b2",
   "metadata": {},
   "outputs": [],
   "source": [
    "print \"loes\""
   ]
  },
  {
   "cell_type": "code",
   "execution_count": null,
   "id": "e02bdad5",
   "metadata": {},
   "outputs": [],
   "source": []
  }
 ],
 "metadata": {
  "kernelspec": {
   "display_name": "Python 3 (ipykernel)",
   "language": "python",
   "name": "python3"
  },
  "language_info": {
   "codemirror_mode": {
    "name": "ipython",
    "version": 3
   },
   "file_extension": ".py",
   "mimetype": "text/x-python",
   "name": "python",
   "nbconvert_exporter": "python",
   "pygments_lexer": "ipython3",
   "version": "3.11.3"
  }
 },
 "nbformat": 4,
 "nbformat_minor": 5
}
