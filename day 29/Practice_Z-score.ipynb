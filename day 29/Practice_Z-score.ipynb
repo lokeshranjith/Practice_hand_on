{
 "cells": [
  {
   "cell_type": "code",
   "execution_count": 42,
   "id": "c022a61d",
   "metadata": {},
   "outputs": [],
   "source": [
    "import pandas as pd\n",
    "import numpy as np"
   ]
  },
  {
   "cell_type": "code",
   "execution_count": 43,
   "id": "96b58106",
   "metadata": {},
   "outputs": [
    {
     "data": {
      "text/html": [
       "<div>\n",
       "<style scoped>\n",
       "    .dataframe tbody tr th:only-of-type {\n",
       "        vertical-align: middle;\n",
       "    }\n",
       "\n",
       "    .dataframe tbody tr th {\n",
       "        vertical-align: top;\n",
       "    }\n",
       "\n",
       "    .dataframe thead th {\n",
       "        text-align: right;\n",
       "    }\n",
       "</style>\n",
       "<table border=\"1\" class=\"dataframe\">\n",
       "  <thead>\n",
       "    <tr style=\"text-align: right;\">\n",
       "      <th></th>\n",
       "      <th>CRIM</th>\n",
       "      <th>ZN</th>\n",
       "      <th>INDUS</th>\n",
       "      <th>CHAS</th>\n",
       "      <th>NOX</th>\n",
       "      <th>RM</th>\n",
       "      <th>AGE</th>\n",
       "      <th>DIS</th>\n",
       "      <th>RAD</th>\n",
       "      <th>TAX</th>\n",
       "      <th>PTRATIO</th>\n",
       "      <th>B</th>\n",
       "      <th>LSTAT</th>\n",
       "      <th>target</th>\n",
       "    </tr>\n",
       "  </thead>\n",
       "  <tbody>\n",
       "    <tr>\n",
       "      <th>0</th>\n",
       "      <td>0.67191</td>\n",
       "      <td>0.0</td>\n",
       "      <td>8.14</td>\n",
       "      <td>0</td>\n",
       "      <td>0.538</td>\n",
       "      <td>5.949</td>\n",
       "      <td>61.8</td>\n",
       "      <td>4.7075</td>\n",
       "      <td>4</td>\n",
       "      <td>307</td>\n",
       "      <td>21.0</td>\n",
       "      <td>396.90</td>\n",
       "      <td>8.26</td>\n",
       "      <td>20.4</td>\n",
       "    </tr>\n",
       "    <tr>\n",
       "      <th>1</th>\n",
       "      <td>0.95577</td>\n",
       "      <td>0.0</td>\n",
       "      <td>8.14</td>\n",
       "      <td>0</td>\n",
       "      <td>0.538</td>\n",
       "      <td>6.096</td>\n",
       "      <td>84.5</td>\n",
       "      <td>4.4619</td>\n",
       "      <td>4</td>\n",
       "      <td>307</td>\n",
       "      <td>21.0</td>\n",
       "      <td>380.02</td>\n",
       "      <td>10.26</td>\n",
       "      <td>18.2</td>\n",
       "    </tr>\n",
       "    <tr>\n",
       "      <th>2</th>\n",
       "      <td>0.77299</td>\n",
       "      <td>0.0</td>\n",
       "      <td>8.14</td>\n",
       "      <td>0</td>\n",
       "      <td>0.538</td>\n",
       "      <td>5.834</td>\n",
       "      <td>56.5</td>\n",
       "      <td>4.4986</td>\n",
       "      <td>4</td>\n",
       "      <td>307</td>\n",
       "      <td>21.0</td>\n",
       "      <td>395.62</td>\n",
       "      <td>8.47</td>\n",
       "      <td>19.9</td>\n",
       "    </tr>\n",
       "    <tr>\n",
       "      <th>3</th>\n",
       "      <td>1.00245</td>\n",
       "      <td>0.0</td>\n",
       "      <td>8.14</td>\n",
       "      <td>0</td>\n",
       "      <td>0.538</td>\n",
       "      <td>5.935</td>\n",
       "      <td>29.3</td>\n",
       "      <td>4.4986</td>\n",
       "      <td>4</td>\n",
       "      <td>307</td>\n",
       "      <td>21.0</td>\n",
       "      <td>386.85</td>\n",
       "      <td>6.58</td>\n",
       "      <td>23.1</td>\n",
       "    </tr>\n",
       "    <tr>\n",
       "      <th>4</th>\n",
       "      <td>1.13081</td>\n",
       "      <td>0.0</td>\n",
       "      <td>8.14</td>\n",
       "      <td>0</td>\n",
       "      <td>0.538</td>\n",
       "      <td>5.990</td>\n",
       "      <td>81.7</td>\n",
       "      <td>4.2579</td>\n",
       "      <td>4</td>\n",
       "      <td>307</td>\n",
       "      <td>21.0</td>\n",
       "      <td>386.75</td>\n",
       "      <td>14.67</td>\n",
       "      <td>17.5</td>\n",
       "    </tr>\n",
       "  </tbody>\n",
       "</table>\n",
       "</div>"
      ],
      "text/plain": [
       "      CRIM   ZN  INDUS  CHAS    NOX     RM   AGE     DIS  RAD  TAX  PTRATIO  \\\n",
       "0  0.67191  0.0   8.14     0  0.538  5.949  61.8  4.7075    4  307     21.0   \n",
       "1  0.95577  0.0   8.14     0  0.538  6.096  84.5  4.4619    4  307     21.0   \n",
       "2  0.77299  0.0   8.14     0  0.538  5.834  56.5  4.4986    4  307     21.0   \n",
       "3  1.00245  0.0   8.14     0  0.538  5.935  29.3  4.4986    4  307     21.0   \n",
       "4  1.13081  0.0   8.14     0  0.538  5.990  81.7  4.2579    4  307     21.0   \n",
       "\n",
       "        B  LSTAT  target  \n",
       "0  396.90   8.26    20.4  \n",
       "1  380.02  10.26    18.2  \n",
       "2  395.62   8.47    19.9  \n",
       "3  386.85   6.58    23.1  \n",
       "4  386.75  14.67    17.5  "
      ]
     },
     "execution_count": 43,
     "metadata": {},
     "output_type": "execute_result"
    }
   ],
   "source": [
    "df=pd.read_csv(\"housing.csv\")\n",
    "df.head()"
   ]
  },
  {
   "cell_type": "markdown",
   "id": "23d8ca0e",
   "metadata": {},
   "source": [
    "Check if the sample mean differs from the population mean.\n"
   ]
  },
  {
   "cell_type": "code",
   "execution_count": 44,
   "id": "39fda671",
   "metadata": {},
   "outputs": [
    {
     "name": "stdout",
     "output_type": "stream",
     "text": [
      "Population of mean 22.47870182555781 \n",
      "population of standard deviation : 9.248120702212953\n"
     ]
    }
   ],
   "source": [
    "# Population mean and std \n",
    "pop=df.target\n",
    "mu=pop.mean()\n",
    "sigma=pop.std()\n",
    "print(\"Population of mean\",mu,'\\npopulation of standard deviation :',sigma)"
   ]
  },
  {
   "cell_type": "code",
   "execution_count": 45,
   "id": "2afb0005",
   "metadata": {},
   "outputs": [
    {
     "name": "stdout",
     "output_type": "stream",
     "text": [
      "Sample mean : 22.450000000000003 \n",
      "Sample standard deviation : 9.151436383365612\n"
     ]
    }
   ],
   "source": [
    "# Draw sample of 100\n",
    "sample_size = 100\n",
    "sample =df.sample(sample_size,random_state=4).target\n",
    "sample_mu=sample.mean()\n",
    "sample_sigma=sample.std()\n",
    "print(\"Sample mean :\",sample_mu,\"\\nSample standard deviation :\",sample_sigma)"
   ]
  },
  {
   "cell_type": "markdown",
   "id": "2c191226",
   "metadata": {},
   "source": [
    "### Perform Null Hyoothesis using Z-statistic\n",
    "                Ho: population mean = sample mean "
   ]
  },
  {
   "cell_type": "code",
   "execution_count": 54,
   "id": "cde0e3f1",
   "metadata": {},
   "outputs": [
    {
     "data": {
      "text/plain": [
       "0.028347192414610933"
      ]
     },
     "execution_count": 54,
     "metadata": {},
     "output_type": "execute_result"
    }
   ],
   "source": [
    "from statsmodels.stats.weightstats import ztest\n",
    "zstat, pval = ztest(df.target, x2= sample, value=0, alternative=\"two-sided\")\n",
    "zstat"
   ]
  },
  {
   "cell_type": "code",
   "execution_count": 55,
   "id": "eb6e40c9",
   "metadata": {},
   "outputs": [
    {
     "data": {
      "text/plain": [
       "0.977385241602543"
      ]
     },
     "execution_count": 55,
     "metadata": {},
     "output_type": "execute_result"
    }
   ],
   "source": [
    "pval"
   ]
  },
  {
   "cell_type": "code",
   "execution_count": null,
   "id": "04bfc65c",
   "metadata": {},
   "outputs": [],
   "source": []
  }
 ],
 "metadata": {
  "kernelspec": {
   "display_name": "Python 3 (ipykernel)",
   "language": "python",
   "name": "python3"
  },
  "language_info": {
   "codemirror_mode": {
    "name": "ipython",
    "version": 3
   },
   "file_extension": ".py",
   "mimetype": "text/x-python",
   "name": "python",
   "nbconvert_exporter": "python",
   "pygments_lexer": "ipython3",
   "version": "3.11.5"
  }
 },
 "nbformat": 4,
 "nbformat_minor": 5
}
