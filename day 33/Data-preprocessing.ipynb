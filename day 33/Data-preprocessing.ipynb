{
 "cells": [
  {
   "cell_type": "code",
   "execution_count": 20,
   "id": "3f7192e3",
   "metadata": {},
   "outputs": [],
   "source": [
    "import pandas as pd\n",
    "import numpy as np"
   ]
  },
  {
   "cell_type": "markdown",
   "id": "b972ff1f",
   "metadata": {},
   "source": [
    "## Imputing Missing Values \n",
    "\n",
    "   * In this process replacing the missing valus fill with mean imputation\n",
    "   * import SimpleImputer"
   ]
  },
  {
   "cell_type": "code",
   "execution_count": 10,
   "id": "25486066",
   "metadata": {},
   "outputs": [],
   "source": [
    "data ={'one': pd. Series([1, 2, 5], index=['a', 'b', 'e']),\n",
    "       'two': pd. Series ([1, 2, 3, 4], index=['a', 'b', 'c', 'd'])}"
   ]
  },
  {
   "cell_type": "code",
   "execution_count": 11,
   "id": "e12744f3",
   "metadata": {},
   "outputs": [
    {
     "data": {
      "text/html": [
       "<div>\n",
       "<style scoped>\n",
       "    .dataframe tbody tr th:only-of-type {\n",
       "        vertical-align: middle;\n",
       "    }\n",
       "\n",
       "    .dataframe tbody tr th {\n",
       "        vertical-align: top;\n",
       "    }\n",
       "\n",
       "    .dataframe thead th {\n",
       "        text-align: right;\n",
       "    }\n",
       "</style>\n",
       "<table border=\"1\" class=\"dataframe\">\n",
       "  <thead>\n",
       "    <tr style=\"text-align: right;\">\n",
       "      <th></th>\n",
       "      <th>one</th>\n",
       "      <th>two</th>\n",
       "    </tr>\n",
       "  </thead>\n",
       "  <tbody>\n",
       "    <tr>\n",
       "      <th>a</th>\n",
       "      <td>1.0</td>\n",
       "      <td>1.0</td>\n",
       "    </tr>\n",
       "    <tr>\n",
       "      <th>b</th>\n",
       "      <td>2.0</td>\n",
       "      <td>2.0</td>\n",
       "    </tr>\n",
       "    <tr>\n",
       "      <th>c</th>\n",
       "      <td>NaN</td>\n",
       "      <td>3.0</td>\n",
       "    </tr>\n",
       "    <tr>\n",
       "      <th>d</th>\n",
       "      <td>NaN</td>\n",
       "      <td>4.0</td>\n",
       "    </tr>\n",
       "    <tr>\n",
       "      <th>e</th>\n",
       "      <td>5.0</td>\n",
       "      <td>NaN</td>\n",
       "    </tr>\n",
       "  </tbody>\n",
       "</table>\n",
       "</div>"
      ],
      "text/plain": [
       "   one  two\n",
       "a  1.0  1.0\n",
       "b  2.0  2.0\n",
       "c  NaN  3.0\n",
       "d  NaN  4.0\n",
       "e  5.0  NaN"
      ]
     },
     "execution_count": 11,
     "metadata": {},
     "output_type": "execute_result"
    }
   ],
   "source": [
    "table = pd.DataFrame(data)\n",
    "table"
   ]
  },
  {
   "cell_type": "code",
   "execution_count": 14,
   "id": "1081f8b3",
   "metadata": {},
   "outputs": [],
   "source": [
    "from sklearn.impute import SimpleImputer\n",
    "\n",
    "si = SimpleImputer(missing_values=np.nan,strategy = \"mean\")\n",
    "imputer = si.fit_transform(table.values)"
   ]
  },
  {
   "cell_type": "code",
   "execution_count": 19,
   "id": "5f2e13e0",
   "metadata": {},
   "outputs": [
    {
     "data": {
      "text/html": [
       "<div>\n",
       "<style scoped>\n",
       "    .dataframe tbody tr th:only-of-type {\n",
       "        vertical-align: middle;\n",
       "    }\n",
       "\n",
       "    .dataframe tbody tr th {\n",
       "        vertical-align: top;\n",
       "    }\n",
       "\n",
       "    .dataframe thead th {\n",
       "        text-align: right;\n",
       "    }\n",
       "</style>\n",
       "<table border=\"1\" class=\"dataframe\">\n",
       "  <thead>\n",
       "    <tr style=\"text-align: right;\">\n",
       "      <th></th>\n",
       "      <th>one</th>\n",
       "      <th>two</th>\n",
       "    </tr>\n",
       "  </thead>\n",
       "  <tbody>\n",
       "    <tr>\n",
       "      <th>0</th>\n",
       "      <td>1.000000</td>\n",
       "      <td>1.0</td>\n",
       "    </tr>\n",
       "    <tr>\n",
       "      <th>1</th>\n",
       "      <td>2.000000</td>\n",
       "      <td>2.0</td>\n",
       "    </tr>\n",
       "    <tr>\n",
       "      <th>2</th>\n",
       "      <td>2.666667</td>\n",
       "      <td>3.0</td>\n",
       "    </tr>\n",
       "    <tr>\n",
       "      <th>3</th>\n",
       "      <td>2.666667</td>\n",
       "      <td>4.0</td>\n",
       "    </tr>\n",
       "    <tr>\n",
       "      <th>4</th>\n",
       "      <td>5.000000</td>\n",
       "      <td>2.5</td>\n",
       "    </tr>\n",
       "  </tbody>\n",
       "</table>\n",
       "</div>"
      ],
      "text/plain": [
       "        one  two\n",
       "0  1.000000  1.0\n",
       "1  2.000000  2.0\n",
       "2  2.666667  3.0\n",
       "3  2.666667  4.0\n",
       "4  5.000000  2.5"
      ]
     },
     "execution_count": 19,
     "metadata": {},
     "output_type": "execute_result"
    }
   ],
   "source": [
    "pd.DataFrame(imputer,columns = (\"one\",\"two\"))"
   ]
  },
  {
   "cell_type": "markdown",
   "id": "caf4b1ed",
   "metadata": {},
   "source": [
    "## Handling Categorical Variable's\n",
    "\n",
    "  * It's process is categorical variable change into the numerical variable \n",
    "  \n",
    "  * It's have three type's \n",
    "  \n",
    "        * get_dummies()\n",
    "        * LabelEncoder()\n",
    "        * OneHotEncoder()\n",
    "        "
   ]
  },
  {
   "cell_type": "markdown",
   "id": "0f447145",
   "metadata": {},
   "source": [
    "### get_dummies()"
   ]
  },
  {
   "cell_type": "code",
   "execution_count": 25,
   "id": "3edc2417",
   "metadata": {},
   "outputs": [
    {
     "name": "stdout",
     "output_type": "stream",
     "text": [
      "   Customer_id  Loan_type_Education Loan  Loan_type_Home Loan  \\\n",
      "0            1                     False                 True   \n",
      "1            2                     False                False   \n",
      "2            3                      True                False   \n",
      "3            4                     False                 True   \n",
      "4            5                     False                False   \n",
      "\n",
      "   Loan_type_Personal Loan  Income_25K  Income_30K  Income_35K  Income_40K  \n",
      "0                    False       False        True       False       False  \n",
      "1                     True        True       False       False       False  \n",
      "2                    False       False       False       False       False  \n",
      "3                    False       False       False       False        True  \n",
      "4                    False       False       False        True       False  \n"
     ]
    }
   ],
   "source": [
    "data = {'Customer_id': pd.Series([1,2,3,4,5]),\n",
    "        'Loan_type': pd.Series(['Home Loan','Personal Loan','Education Loan','Home Loan','Credit Loan'])\n",
    "        ,'Income': pd.Series(['30K','25K', '15K','40K','35K'])}\n",
    "\n",
    "loan_info = pd.DataFrame(data)\n",
    "\n",
    "loan_info = pd.get_dummies(loan_info, prefix_sep='_',drop_first=True)\n",
    "\n",
    "print(loan_info)"
   ]
  },
  {
   "cell_type": "markdown",
   "id": "7d752abb",
   "metadata": {},
   "source": [
    "### LabelEncoder()\n",
    "\n",
    " * Labelencoder is applied on categorical variable that have ordinal data when the number of categorical features are high"
   ]
  },
  {
   "cell_type": "code",
   "execution_count": 26,
   "id": "9ab09b5c",
   "metadata": {},
   "outputs": [
    {
     "data": {
      "text/html": [
       "<div>\n",
       "<style scoped>\n",
       "    .dataframe tbody tr th:only-of-type {\n",
       "        vertical-align: middle;\n",
       "    }\n",
       "\n",
       "    .dataframe tbody tr th {\n",
       "        vertical-align: top;\n",
       "    }\n",
       "\n",
       "    .dataframe thead th {\n",
       "        text-align: right;\n",
       "    }\n",
       "</style>\n",
       "<table border=\"1\" class=\"dataframe\">\n",
       "  <thead>\n",
       "    <tr style=\"text-align: right;\">\n",
       "      <th></th>\n",
       "      <th>Customer_id</th>\n",
       "      <th>Loan_type</th>\n",
       "      <th>Income</th>\n",
       "    </tr>\n",
       "  </thead>\n",
       "  <tbody>\n",
       "    <tr>\n",
       "      <th>0</th>\n",
       "      <td>1</td>\n",
       "      <td>Home Loan</td>\n",
       "      <td>30K</td>\n",
       "    </tr>\n",
       "    <tr>\n",
       "      <th>1</th>\n",
       "      <td>2</td>\n",
       "      <td>Personal Loan</td>\n",
       "      <td>25K</td>\n",
       "    </tr>\n",
       "    <tr>\n",
       "      <th>2</th>\n",
       "      <td>3</td>\n",
       "      <td>Education Loan</td>\n",
       "      <td>15K</td>\n",
       "    </tr>\n",
       "    <tr>\n",
       "      <th>3</th>\n",
       "      <td>4</td>\n",
       "      <td>Home Loan</td>\n",
       "      <td>40K</td>\n",
       "    </tr>\n",
       "    <tr>\n",
       "      <th>4</th>\n",
       "      <td>5</td>\n",
       "      <td>Credit Loan</td>\n",
       "      <td>35K</td>\n",
       "    </tr>\n",
       "  </tbody>\n",
       "</table>\n",
       "</div>"
      ],
      "text/plain": [
       "   Customer_id       Loan_type Income\n",
       "0            1       Home Loan    30K\n",
       "1            2   Personal Loan    25K\n",
       "2            3  Education Loan    15K\n",
       "3            4       Home Loan    40K\n",
       "4            5     Credit Loan    35K"
      ]
     },
     "execution_count": 26,
     "metadata": {},
     "output_type": "execute_result"
    }
   ],
   "source": [
    "data = {'Customer_id': pd.Series([1,2,3,4,5]),\n",
    "        'Loan_type': pd.Series(['Home Loan','Personal Loan','Education Loan','Home Loan','Credit Loan'])\n",
    "        ,'Income': pd.Series(['30K','25K', '15K','40K','35K'])}\n",
    "\n",
    "loan_info = pd.DataFrame (data)\n",
    "loan_info"
   ]
  },
  {
   "cell_type": "code",
   "execution_count": 30,
   "id": "24f33575",
   "metadata": {},
   "outputs": [
    {
     "name": "stdout",
     "output_type": "stream",
     "text": [
      "   Customer_id  Loan_type  Income\n",
      "0            0          2       2\n",
      "1            1          3       1\n",
      "2            2          1       0\n",
      "3            3          2       4\n",
      "4            4          0       3\n"
     ]
    }
   ],
   "source": [
    "from sklearn.preprocessing import LabelEncoder\n",
    "\n",
    "label = LabelEncoder()\n",
    "\n",
    "x=loan_info.apply( label.fit_transform)\n",
    "\n",
    "print(x)"
   ]
  },
  {
   "cell_type": "markdown",
   "id": "f8fa54e6",
   "metadata": {},
   "source": [
    "### OneHotEncoder()"
   ]
  },
  {
   "cell_type": "code",
   "execution_count": 40,
   "id": "8f367ca4",
   "metadata": {},
   "outputs": [
    {
     "name": "stdout",
     "output_type": "stream",
     "text": [
      "[[1. 0. 0. 0. 0. 0. 0. 1. 0. 0. 0. 1. 0. 0.]\n",
      " [0. 1. 0. 0. 0. 0. 0. 0. 1. 0. 1. 0. 0. 0.]\n",
      " [0. 0. 1. 0. 0. 0. 1. 0. 0. 1. 0. 0. 0. 0.]\n",
      " [0. 0. 0. 1. 0. 0. 0. 1. 0. 0. 0. 0. 0. 1.]\n",
      " [0. 0. 0. 0. 1. 1. 0. 0. 0. 0. 0. 0. 1. 0.]]\n"
     ]
    }
   ],
   "source": [
    "from sklearn.preprocessing import OneHotEncoder\n",
    "\n",
    "onehot = OneHotEncoder()\n",
    "\n",
    "X = onehot.fit_transform(loan_info).toarray()\n",
    "print(X)"
   ]
  },
  {
   "cell_type": "markdown",
   "id": "cb831011",
   "metadata": {},
   "source": [
    "## Scaling the data\n",
    "\n",
    " * Scaling that approach that allows to  limits range of variable they commpared to common ground\n",
    " * Scaling the data in 3 ways \n",
    "       \n",
    "        * StandardScaler()\n",
    "        * MinMaxScaler()\n",
    "        * RobustScaler()\n",
    "        \n",
    "\n",
    "### StandardScaler ()"
   ]
  },
  {
   "cell_type": "code",
   "execution_count": 41,
   "id": "7ecbc36c",
   "metadata": {},
   "outputs": [
    {
     "name": "stdout",
     "output_type": "stream",
     "text": [
      "Before Scaling\n",
      " [[-100.3]\n",
      " [  27.5]\n",
      " [   0. ]\n",
      " [-200.9]\n",
      " [1000. ]]\n",
      "\n",
      "After standard scaler\n",
      " [[-0.5646401 ]\n",
      " [-0.27077707]\n",
      " [-0.33401051]\n",
      " [-0.79595951]\n",
      " [ 1.96538718]]\n"
     ]
    }
   ],
   "source": [
    "from sklearn import preprocessing\n",
    "\n",
    "data1 = np.array([[-100.3],\n",
    "                  [27.5],\n",
    "                  [0],\n",
    "                  [-200.9],\n",
    "                  [1000]])\n",
    "\n",
    "print('Before Scaling\\n', data1)\n",
    "\n",
    "standard_scaler = preprocessing.StandardScaler()\n",
    "scaled = standard_scaler.fit_transform(data1)\n",
    "print('\\nAfter standard scaler\\n', scaled)"
   ]
  },
  {
   "cell_type": "markdown",
   "id": "36ffc68b",
   "metadata": {},
   "source": [
    "###  MinMaxScaler()"
   ]
  },
  {
   "cell_type": "code",
   "execution_count": 50,
   "id": "f50bca0f",
   "metadata": {},
   "outputs": [
    {
     "name": "stdout",
     "output_type": "stream",
     "text": [
      "\n",
      "Before Scaling\n",
      " [[-100.3]\n",
      " [  27.5]\n",
      " [   0. ]\n",
      " [-200.9]\n",
      " [1000. ]]\n",
      "\n",
      "After MinMaxScaler()\n",
      " [[1.08377051]\n",
      " [1.19019069]\n",
      " [1.1672912 ]\n",
      " [1.        ]\n",
      " [2.        ]]\n"
     ]
    }
   ],
   "source": [
    "from sklearn import preprocessing\n",
    "\n",
    "data1 = np.array([[-100.3],\n",
    "                  [27.5],\n",
    "                  [0],\n",
    "                  [-200.9],\n",
    "                  [1000]])\n",
    "print(\"\\nBefore Scaling\\n\",data1)\n",
    "\n",
    "min_max = preprocessing.MinMaxScaler(feature_range =(1,2))\n",
    "X = min_max.fit_transform(data1)\n",
    "\n",
    "print(\"\\nAfter MinMaxScaler()\\n\",X)"
   ]
  },
  {
   "cell_type": "markdown",
   "id": "eab5a1cd",
   "metadata": {},
   "source": [
    "### RobustScaler()"
   ]
  },
  {
   "cell_type": "code",
   "execution_count": 52,
   "id": "7e9a7274",
   "metadata": {},
   "outputs": [
    {
     "name": "stdout",
     "output_type": "stream",
     "text": [
      "\n",
      "Before Scaling\n",
      " [[-100.3]\n",
      " [  27.5]\n",
      " [   0. ]\n",
      " [-200.9]\n",
      " [1000. ]]\n",
      "\n",
      "After MinMaxScaler()\n",
      " [[-0.78482003]\n",
      " [ 0.21517997]\n",
      " [ 0.        ]\n",
      " [-1.57198748]\n",
      " [ 7.82472613]]\n"
     ]
    }
   ],
   "source": [
    "from sklearn import preprocessing\n",
    "\n",
    "data1 = np.array([[-100.3],\n",
    "                  [27.5],\n",
    "                  [0],\n",
    "                  [-200.9],\n",
    "                  [1000]])\n",
    "print(\"\\nBefore Scaling\\n\",data1)\n",
    "\n",
    "Robust = preprocessing.RobustScaler()\n",
    "X =Robust.fit_transform(data1)\n",
    "\n",
    "print(\"\\nAfter MinMaxScaler()\\n\",X)"
   ]
  },
  {
   "attachments": {
    "Screenshot%202023-11-24%20102850.png": {
     "image/png": "[encoded data removed]"
    }
   },
   "cell_type": "markdown",
   "id": "06bab732",
   "metadata": {},
   "source": [
    "### Normalization\n",
    "\n",
    "   ![Screenshot%202023-11-24%20102850.png](attachment:Screenshot%202023-11-24%20102850.png)"
   ]
  },
  {
   "cell_type": "code",
   "execution_count": 58,
   "id": "163b1212",
   "metadata": {},
   "outputs": [
    {
     "name": "stdout",
     "output_type": "stream",
     "text": [
      "Before Normalization\n",
      " [[5.1 3.5 1.4 0.2]\n",
      " [4.9 3.  1.4 0.2]\n",
      " [4.7 3.2 1.3 0.2]\n",
      " [4.6 3.1 1.5 0.2]\n",
      " [5.  3.6 1.4 0.2]]\n",
      "\n",
      "After Normalization\n",
      " [[0.80377277 0.55160877 0.22064351 0.0315205 ]\n",
      " [0.82813287 0.50702013 0.23660939 0.03380134]\n",
      " [0.80533308 0.54831188 0.2227517  0.03426949]\n",
      " [0.80003025 0.53915082 0.26087943 0.03478392]\n",
      " [0.790965   0.5694948  0.2214702  0.0316386 ]]\n"
     ]
    }
   ],
   "source": [
    "from sklearn import preprocessing\n",
    "\n",
    "data = np.array(\n",
    "[[5.1,3.5,1.4,0.2],\n",
    "[4.9,3.0,1.4,0.2],\n",
    "[4.7,3.2,1.3,0.2],\n",
    "[4.6,3.1,1.5,0.2],\n",
    "[5.0,3.6,1.4,0.2]])\n",
    "\n",
    "print('Before Normalization\\n', data)\n",
    "\n",
    "normalized_data = preprocessing.normalize(data)\n",
    "\n",
    "print('\\nAfter Normalization\\n', normalized_data)"
   ]
  },
  {
   "cell_type": "code",
   "execution_count": null,
   "id": "991bea9a",
   "metadata": {},
   "outputs": [],
   "source": []
  }
 ],
 "metadata": {
  "kernelspec": {
   "display_name": "Python 3 (ipykernel)",
   "language": "python",
   "name": "python3"
  },
  "language_info": {
   "codemirror_mode": {
    "name": "ipython",
    "version": 3
   },
   "file_extension": ".py",
   "mimetype": "text/x-python",
   "name": "python",
   "nbconvert_exporter": "python",
   "pygments_lexer": "ipython3",
   "version": "3.11.5"
  }
 },
 "nbformat": 4,
 "nbformat_minor": 5
}
