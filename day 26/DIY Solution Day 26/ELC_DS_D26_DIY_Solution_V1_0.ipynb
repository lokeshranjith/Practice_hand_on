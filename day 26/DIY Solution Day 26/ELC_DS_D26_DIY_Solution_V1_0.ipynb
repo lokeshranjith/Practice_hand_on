{
 "cells": [
  {
   "cell_type": "markdown",
   "metadata": {
    "id": "NlSlstundqG5"
   },
   "source": [
    "##Day 26 - DIY Solution"
   ]
  },
  {
   "cell_type": "markdown",
   "metadata": {
    "id": "2p79RDm2dvmH"
   },
   "source": [
    "**Q1. Problem Statement: Sampling Distribution-I**\n",
    "\n",
    "Wine can be labeled as quality \"7\" and above only if the alcohol level is greater than 11.3%. If the level of alcohol is less, then the will won't taste sour enough; if the alcohol level is less than 11.3%, the wine might be bitter. The price difference between quality \"7\" & \"8\" wine and quality \"5\" & \"6\" wine will be as much as 125%. So the company needs to be very particular to maintain this standard. The quality control person is only allowed to open ten bottles of wine in quality \"7\" & \"8\" to ensure the levels are sufficient.\n",
    "Load the winequality-red.csv data into a DataFrame and perform the following tasks:\n",
    "1.\tPick up a sample of ten bottles from \"7\" and \"8\" quality using numpy.random() function\n",
    "2.\tFind out the mean and standard deviation of the sample\n",
    "3.\tPlot the alcohol content available in the sample using a distplot\n",
    "4.\tCalculate the standard error using formula - standard_error = s/np.sqrt(n), Where, s = standard deviation of the sample, and n = sample size\n"
   ]
  },
  {
   "cell_type": "markdown",
   "metadata": {
    "id": "Kq1yL5TRd3qA"
   },
   "source": [
    "**Step-1:** Loading the dataset into a DataFrame."
   ]
  },
  {
   "cell_type": "code",
   "execution_count": 11,
   "metadata": {},
   "outputs": [],
   "source": [
    "import warnings as war\n",
    "war.filterwarnings(\"ignore\")"
   ]
  },
  {
   "cell_type": "code",
   "execution_count": 12,
   "metadata": {
    "colab": {
     "base_uri": "https://localhost:8080/",
     "height": 380
    },
    "executionInfo": {
     "elapsed": 1467,
     "status": "error",
     "timestamp": 1650300865472,
     "user": {
      "displayName": "Dhritiman Adhya",
      "userId": "02803120158750382662"
     },
     "user_tz": -330
    },
    "id": "wAdiiseedkCw",
    "outputId": "b3024849-68b7-4a82-f5c3-ae0701e697fc"
   },
   "outputs": [
    {
     "data": {
      "text/html": [
       "<div>\n",
       "<style scoped>\n",
       "    .dataframe tbody tr th:only-of-type {\n",
       "        vertical-align: middle;\n",
       "    }\n",
       "\n",
       "    .dataframe tbody tr th {\n",
       "        vertical-align: top;\n",
       "    }\n",
       "\n",
       "    .dataframe thead th {\n",
       "        text-align: right;\n",
       "    }\n",
       "</style>\n",
       "<table border=\"1\" class=\"dataframe\">\n",
       "  <thead>\n",
       "    <tr style=\"text-align: right;\">\n",
       "      <th></th>\n",
       "      <th>fixed acidity</th>\n",
       "      <th>volatile acidity</th>\n",
       "      <th>citric acid</th>\n",
       "      <th>residual sugar</th>\n",
       "      <th>chlorides</th>\n",
       "      <th>free sulfur dioxide</th>\n",
       "      <th>total sulfur dioxide</th>\n",
       "      <th>density</th>\n",
       "      <th>pH</th>\n",
       "      <th>sulphates</th>\n",
       "      <th>alcohol</th>\n",
       "      <th>quality</th>\n",
       "    </tr>\n",
       "  </thead>\n",
       "  <tbody>\n",
       "    <tr>\n",
       "      <th>0</th>\n",
       "      <td>7.4</td>\n",
       "      <td>0.70</td>\n",
       "      <td>0.00</td>\n",
       "      <td>1.9</td>\n",
       "      <td>0.076</td>\n",
       "      <td>11.0</td>\n",
       "      <td>34.0</td>\n",
       "      <td>0.9978</td>\n",
       "      <td>3.51</td>\n",
       "      <td>0.56</td>\n",
       "      <td>9.4</td>\n",
       "      <td>5</td>\n",
       "    </tr>\n",
       "    <tr>\n",
       "      <th>1</th>\n",
       "      <td>7.8</td>\n",
       "      <td>0.88</td>\n",
       "      <td>0.00</td>\n",
       "      <td>2.6</td>\n",
       "      <td>0.098</td>\n",
       "      <td>25.0</td>\n",
       "      <td>67.0</td>\n",
       "      <td>0.9968</td>\n",
       "      <td>3.20</td>\n",
       "      <td>0.68</td>\n",
       "      <td>9.8</td>\n",
       "      <td>5</td>\n",
       "    </tr>\n",
       "    <tr>\n",
       "      <th>2</th>\n",
       "      <td>7.8</td>\n",
       "      <td>0.76</td>\n",
       "      <td>0.04</td>\n",
       "      <td>2.3</td>\n",
       "      <td>0.092</td>\n",
       "      <td>15.0</td>\n",
       "      <td>54.0</td>\n",
       "      <td>0.9970</td>\n",
       "      <td>3.26</td>\n",
       "      <td>0.65</td>\n",
       "      <td>9.8</td>\n",
       "      <td>5</td>\n",
       "    </tr>\n",
       "    <tr>\n",
       "      <th>3</th>\n",
       "      <td>11.2</td>\n",
       "      <td>0.28</td>\n",
       "      <td>0.56</td>\n",
       "      <td>1.9</td>\n",
       "      <td>0.075</td>\n",
       "      <td>17.0</td>\n",
       "      <td>60.0</td>\n",
       "      <td>0.9980</td>\n",
       "      <td>3.16</td>\n",
       "      <td>0.58</td>\n",
       "      <td>9.8</td>\n",
       "      <td>6</td>\n",
       "    </tr>\n",
       "    <tr>\n",
       "      <th>4</th>\n",
       "      <td>7.4</td>\n",
       "      <td>0.70</td>\n",
       "      <td>0.00</td>\n",
       "      <td>1.9</td>\n",
       "      <td>0.076</td>\n",
       "      <td>11.0</td>\n",
       "      <td>34.0</td>\n",
       "      <td>0.9978</td>\n",
       "      <td>3.51</td>\n",
       "      <td>0.56</td>\n",
       "      <td>9.4</td>\n",
       "      <td>5</td>\n",
       "    </tr>\n",
       "  </tbody>\n",
       "</table>\n",
       "</div>"
      ],
      "text/plain": [
       "   fixed acidity  volatile acidity  citric acid  residual sugar  chlorides  \\\n",
       "0            7.4              0.70         0.00             1.9      0.076   \n",
       "1            7.8              0.88         0.00             2.6      0.098   \n",
       "2            7.8              0.76         0.04             2.3      0.092   \n",
       "3           11.2              0.28         0.56             1.9      0.075   \n",
       "4            7.4              0.70         0.00             1.9      0.076   \n",
       "\n",
       "   free sulfur dioxide  total sulfur dioxide  density    pH  sulphates  \\\n",
       "0                 11.0                  34.0   0.9978  3.51       0.56   \n",
       "1                 25.0                  67.0   0.9968  3.20       0.68   \n",
       "2                 15.0                  54.0   0.9970  3.26       0.65   \n",
       "3                 17.0                  60.0   0.9980  3.16       0.58   \n",
       "4                 11.0                  34.0   0.9978  3.51       0.56   \n",
       "\n",
       "   alcohol  quality  \n",
       "0      9.4        5  \n",
       "1      9.8        5  \n",
       "2      9.8        5  \n",
       "3      9.8        6  \n",
       "4      9.4        5  "
      ]
     },
     "execution_count": 12,
     "metadata": {},
     "output_type": "execute_result"
    }
   ],
   "source": [
    "import numpy as np # linear algebra\n",
    "import pandas as pd # data processing, CSV file I/O (e.g. pd.read_csv)\n",
    "\n",
    "import seaborn as sns\n",
    "import matplotlib.pyplot as plt\n",
    "data = pd.read_csv(\"winequality-red.csv\")\n",
    "data.head()"
   ]
  },
  {
   "cell_type": "markdown",
   "metadata": {
    "id": "LVx0pM36fs1F"
   },
   "source": [
    "**Step-2:** Picking up 10 bottles as a sample from wine with \"7\" and \"8\" quality using numpy.random.seed() function. "
   ]
  },
  {
   "cell_type": "code",
   "execution_count": 13,
   "metadata": {
    "executionInfo": {
     "elapsed": 77,
     "status": "aborted",
     "timestamp": 1650300865459,
     "user": {
      "displayName": "Dhritiman Adhya",
      "userId": "02803120158750382662"
     },
     "user_tz": -330
    },
    "id": "Qui6i5vnd9_q"
   },
   "outputs": [
    {
     "data": {
      "text/html": [
       "<div>\n",
       "<style scoped>\n",
       "    .dataframe tbody tr th:only-of-type {\n",
       "        vertical-align: middle;\n",
       "    }\n",
       "\n",
       "    .dataframe tbody tr th {\n",
       "        vertical-align: top;\n",
       "    }\n",
       "\n",
       "    .dataframe thead th {\n",
       "        text-align: right;\n",
       "    }\n",
       "</style>\n",
       "<table border=\"1\" class=\"dataframe\">\n",
       "  <thead>\n",
       "    <tr style=\"text-align: right;\">\n",
       "      <th></th>\n",
       "      <th>alcohol</th>\n",
       "    </tr>\n",
       "  </thead>\n",
       "  <tbody>\n",
       "    <tr>\n",
       "      <th>0</th>\n",
       "      <td>12.0</td>\n",
       "    </tr>\n",
       "    <tr>\n",
       "      <th>1</th>\n",
       "      <td>12.5</td>\n",
       "    </tr>\n",
       "    <tr>\n",
       "      <th>2</th>\n",
       "      <td>11.7</td>\n",
       "    </tr>\n",
       "    <tr>\n",
       "      <th>3</th>\n",
       "      <td>14.0</td>\n",
       "    </tr>\n",
       "    <tr>\n",
       "      <th>4</th>\n",
       "      <td>12.7</td>\n",
       "    </tr>\n",
       "    <tr>\n",
       "      <th>5</th>\n",
       "      <td>12.1</td>\n",
       "    </tr>\n",
       "    <tr>\n",
       "      <th>6</th>\n",
       "      <td>11.0</td>\n",
       "    </tr>\n",
       "    <tr>\n",
       "      <th>7</th>\n",
       "      <td>10.0</td>\n",
       "    </tr>\n",
       "    <tr>\n",
       "      <th>8</th>\n",
       "      <td>10.8</td>\n",
       "    </tr>\n",
       "    <tr>\n",
       "      <th>9</th>\n",
       "      <td>9.7</td>\n",
       "    </tr>\n",
       "  </tbody>\n",
       "</table>\n",
       "</div>"
      ],
      "text/plain": [
       "   alcohol\n",
       "0     12.0\n",
       "1     12.5\n",
       "2     11.7\n",
       "3     14.0\n",
       "4     12.7\n",
       "5     12.1\n",
       "6     11.0\n",
       "7     10.0\n",
       "8     10.8\n",
       "9      9.7"
      ]
     },
     "execution_count": 13,
     "metadata": {},
     "output_type": "execute_result"
    }
   ],
   "source": [
    "np.random.seed(11)\n",
    "sample_7_and_above = data[data['quality'].isin([7, 8])].sample(10)[['alcohol']].reset_index().drop(columns = ['index'])\n",
    "sample_7_and_above"
   ]
  },
  {
   "cell_type": "markdown",
   "metadata": {
    "id": "2Zg247EDfl19"
   },
   "source": [
    "**Step-3:** Finding the mean and standard deviation of the sample."
   ]
  },
  {
   "cell_type": "code",
   "execution_count": 14,
   "metadata": {
    "executionInfo": {
     "elapsed": 81,
     "status": "aborted",
     "timestamp": 1650300865464,
     "user": {
      "displayName": "Dhritiman Adhya",
      "userId": "02803120158750382662"
     },
     "user_tz": -330
    },
    "id": "5fRX98v3gYLc"
   },
   "outputs": [
    {
     "name": "stdout",
     "output_type": "stream",
     "text": [
      "The mean of the sample is:  11.65\n",
      "The standard deviation of the sample is:  1.2387493693237548\n"
     ]
    }
   ],
   "source": [
    "m = np.mean(sample_7_and_above[\"alcohol\"])\n",
    "print(\"The mean of the sample is: \", m)\n",
    "sd = np.std(sample_7_and_above[\"alcohol\"])\n",
    "print(\"The standard deviation of the sample is: \", sd)"
   ]
  },
  {
   "cell_type": "markdown",
   "metadata": {
    "id": "O6QncOaGga9a"
   },
   "source": [
    "**Step-4:** Plotting alcohol levels of the given sample using the Seaborn library."
   ]
  },
  {
   "cell_type": "code",
   "execution_count": 15,
   "metadata": {
    "executionInfo": {
     "elapsed": 81,
     "status": "aborted",
     "timestamp": 1650300865465,
     "user": {
      "displayName": "Dhritiman Adhya",
      "userId": "02803120158750382662"
     },
     "user_tz": -330
    },
    "id": "0rlg8n1hg-QE"
   },
   "outputs": [
    {
     "data": {
      "text/plain": [
       "Text(0.5, 1.0, 'mean of sample 1 = 11.65, standard deviation ofsample 1 = 1.2387493693237548')"
      ]
     },
     "execution_count": 15,
     "metadata": {},
     "output_type": "execute_result"
    },
    {
     "data": {
      "image/png": "[encoded data removed]",
      "text/plain": [
       "<Figure size 640x480 with 1 Axes>"
      ]
     },
     "metadata": {},
     "output_type": "display_data"
    }
   ],
   "source": [
    "sns.distplot(sample_7_and_above[\"alcohol\"], hist=False)\n",
    "title = \"mean of sample 1 = \" + str(m) + \", standard deviation ofsample 1 = \"+ str(sd)\n",
    "plt.title(title)"
   ]
  },
  {
   "cell_type": "markdown",
   "metadata": {
    "id": "knwGqEJUhFL9"
   },
   "source": [
    "**Step-5:** Calculating the standard error."
   ]
  },
  {
   "cell_type": "code",
   "execution_count": 16,
   "metadata": {
    "executionInfo": {
     "elapsed": 81,
     "status": "aborted",
     "timestamp": 1650300865466,
     "user": {
      "displayName": "Dhritiman Adhya",
      "userId": "02803120158750382662"
     },
     "user_tz": -330
    },
    "id": "3YTbxf78hJ99"
   },
   "outputs": [
    {
     "name": "stdout",
     "output_type": "stream",
     "text": [
      "Standard Error is: 0.39172694571601785\n"
     ]
    }
   ],
   "source": [
    "# calculating the Standard Error\n",
    "n=10 # sample size\n",
    "s= sd\n",
    "standard_error = s/np.sqrt(n)\n",
    "print('Standard Error is:',standard_error)"
   ]
  },
  {
   "cell_type": "markdown",
   "metadata": {
    "id": "pIE-zrP5tFg2"
   },
   "source": [
    "**Q2. Problem Statement: Sampling Distribution-II**\n",
    "\n",
    "**Note:** This problem is in continuation with the previous one.\n",
    "\n",
    "Our goal was to get a mean of 11.3, but we got 11.65 for our samples. Since this is a sample and we do not expect it to be precisely 11.3, it is 11.65. Does this batch of the sample accurately reflect the alcohol content of the entire population? To answer these questions, perform the following tasks:\n",
    "1.\tTake nine samples of size ten each from the population and find the means and standard deviations of all the nine samples\n",
    "2.\tPlot the means of the sampling distribution\n",
    "3.\tFind the standard error of the sampling distribution\n"
   ]
  },
  {
   "cell_type": "markdown",
   "metadata": {
    "id": "F2u537l3vEUF"
   },
   "source": [
    "**Step-1:** Taking 9 samples each with a sample size 10, and calculating the means and standard deviations of all the 9 samples. "
   ]
  },
  {
   "cell_type": "code",
   "execution_count": 20,
   "metadata": {
    "executionInfo": {
     "elapsed": 81,
     "status": "aborted",
     "timestamp": 1650300865467,
     "user": {
      "displayName": "Dhritiman Adhya",
      "userId": "02803120158750382662"
     },
     "user_tz": -330
    },
    "id": "JcUqHVTxtnHL"
   },
   "outputs": [
    {
     "data": {
      "text/html": [
       "<div>\n",
       "<style scoped>\n",
       "    .dataframe tbody tr th:only-of-type {\n",
       "        vertical-align: middle;\n",
       "    }\n",
       "\n",
       "    .dataframe tbody tr th {\n",
       "        vertical-align: top;\n",
       "    }\n",
       "\n",
       "    .dataframe thead th {\n",
       "        text-align: right;\n",
       "    }\n",
       "</style>\n",
       "<table border=\"1\" class=\"dataframe\">\n",
       "  <thead>\n",
       "    <tr style=\"text-align: right;\">\n",
       "      <th></th>\n",
       "      <th>Sample Means (X_bar)</th>\n",
       "      <th>Sample Standard Deviation (s)</th>\n",
       "    </tr>\n",
       "  </thead>\n",
       "  <tbody>\n",
       "    <tr>\n",
       "      <th>0</th>\n",
       "      <td>11.02</td>\n",
       "      <td>0.669029</td>\n",
       "    </tr>\n",
       "    <tr>\n",
       "      <th>1</th>\n",
       "      <td>11.14</td>\n",
       "      <td>0.971802</td>\n",
       "    </tr>\n",
       "    <tr>\n",
       "      <th>2</th>\n",
       "      <td>11.21</td>\n",
       "      <td>1.013361</td>\n",
       "    </tr>\n",
       "    <tr>\n",
       "      <th>3</th>\n",
       "      <td>11.63</td>\n",
       "      <td>0.888876</td>\n",
       "    </tr>\n",
       "    <tr>\n",
       "      <th>4</th>\n",
       "      <td>11.45</td>\n",
       "      <td>0.908020</td>\n",
       "    </tr>\n",
       "    <tr>\n",
       "      <th>5</th>\n",
       "      <td>11.24</td>\n",
       "      <td>0.935094</td>\n",
       "    </tr>\n",
       "    <tr>\n",
       "      <th>6</th>\n",
       "      <td>11.32</td>\n",
       "      <td>1.231909</td>\n",
       "    </tr>\n",
       "    <tr>\n",
       "      <th>7</th>\n",
       "      <td>11.39</td>\n",
       "      <td>0.773886</td>\n",
       "    </tr>\n",
       "    <tr>\n",
       "      <th>8</th>\n",
       "      <td>11.30</td>\n",
       "      <td>0.507937</td>\n",
       "    </tr>\n",
       "  </tbody>\n",
       "</table>\n",
       "</div>"
      ],
      "text/plain": [
       "   Sample Means (X_bar)  Sample Standard Deviation (s)\n",
       "0                 11.02                       0.669029\n",
       "1                 11.14                       0.971802\n",
       "2                 11.21                       1.013361\n",
       "3                 11.63                       0.888876\n",
       "4                 11.45                       0.908020\n",
       "5                 11.24                       0.935094\n",
       "6                 11.32                       1.231909\n",
       "7                 11.39                       0.773886\n",
       "8                 11.30                       0.507937"
      ]
     },
     "execution_count": 20,
     "metadata": {},
     "output_type": "execute_result"
    }
   ],
   "source": [
    "seed = np.arange(0, 9)\n",
    "\n",
    "x_bar = []\n",
    "std_dev = []\n",
    "\n",
    "for s in seed:\n",
    "    np.random.seed(s)\n",
    "    sample_7_and_above = data[data['quality'].isin([7, 8])].sample(10)[['alcohol']].reset_index().drop(columns = ['index'])\n",
    "    x_bar.append(np.mean(sample_7_and_above[\"alcohol\"]))\n",
    "    std_dev.append(np.std(sample_7_and_above[\"alcohol\"]))\n",
    "    \n",
    "samples = pd.DataFrame(columns = [\"Sample Means (X_bar)\", \"Sample Standard Deviation (s)\"], data= list(zip(x_bar, std_dev)))\n",
    "samples"
   ]
  },
  {
   "cell_type": "markdown",
   "metadata": {
    "id": "tBooTDSvvn7I"
   },
   "source": [
    "**Step-2:** Plotting the means of the sample using the Seaborn library."
   ]
  },
  {
   "cell_type": "code",
   "execution_count": 24,
   "metadata": {
    "executionInfo": {
     "elapsed": 82,
     "status": "aborted",
     "timestamp": 1650300865469,
     "user": {
      "displayName": "Dhritiman Adhya",
      "userId": "02803120158750382662"
     },
     "user_tz": -330
    },
    "id": "6jfDOwbut56H",
    "scrolled": true
   },
   "outputs": [
    {
     "data": {
      "text/plain": [
       "Text(0.5, 1.0, 'Distribution of the sample means')"
      ]
     },
     "execution_count": 24,
     "metadata": {},
     "output_type": "execute_result"
    },
    {
     "data": {
      "image/png": "[encoded data removed]",
      "text/plain": [
       "<Figure size 400x300 with 1 Axes>"
      ]
     },
     "metadata": {},
     "output_type": "display_data"
    }
   ],
   "source": [
    "plt.figure(figsize=(4,3))\n",
    "sns.distplot(samples[\"Sample Means (X_bar)\"])\n",
    "plt.title(\"Distribution of the sample means\")"
   ]
  },
  {
   "cell_type": "markdown",
   "metadata": {
    "id": "WTxHn9FouCcu"
   },
   "source": [
    "**Step-3:** Find the standard deviation of the means of the Samples/Sampling distribution.\n"
   ]
  },
  {
   "cell_type": "code",
   "execution_count": 26,
   "metadata": {
    "executionInfo": {
     "elapsed": 83,
     "status": "aborted",
     "timestamp": 1650300865471,
     "user": {
      "displayName": "Dhritiman Adhya",
      "userId": "02803120158750382662"
     },
     "user_tz": -330
    },
    "id": "gOvUzHzzt9oq"
   },
   "outputs": [
    {
     "name": "stdout",
     "output_type": "stream",
     "text": [
      "The Standard Error is: 0.16852299546352748\n"
     ]
    }
   ],
   "source": [
    "# Lets find the Standard Deviation of the Sampling Distribution which is also the Standard Error of statistic distribution\n",
    "\n",
    "standard_error = np.array(samples['Sample Means (X_bar)']).std()\n",
    "print('The Standard Error is:',standard_error)"
   ]
  },
  {
   "cell_type": "code",
   "execution_count": null,
   "metadata": {},
   "outputs": [],
   "source": []
  }
 ],
 "metadata": {
  "colab": {
   "collapsed_sections": [],
   "name": "DS_D26_DIY_Solution_V1_0.ipynb",
   "provenance": []
  },
  "kernelspec": {
   "display_name": "Python 3 (ipykernel)",
   "language": "python",
   "name": "python3"
  },
  "language_info": {
   "codemirror_mode": {
    "name": "ipython",
    "version": 3
   },
   "file_extension": ".py",
   "mimetype": "text/x-python",
   "name": "python",
   "nbconvert_exporter": "python",
   "pygments_lexer": "ipython3",
   "version": "3.11.5"
  }
 },
 "nbformat": 4,
 "nbformat_minor": 1
}
