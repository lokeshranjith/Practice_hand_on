{
 "cells": [
  {
   "cell_type": "markdown",
   "id": "89bbee54",
   "metadata": {},
   "source": [
    "# Topics covered:\n",
    "    - Population and Sample\n",
    "    - Sampling Distribution\n",
    "    - Standard Error"
   ]
  },
  {
   "cell_type": "markdown",
   "id": "4baeca00",
   "metadata": {},
   "source": [
    "# Objectives\n",
    "In this demo we will,\n",
    "- Obtain samples from a population and calculate the statitics and parameters\n",
    "- Find the sampling distribution of a population\n",
    "- Calculate the standard error to know the variation of population parameter and its estimated sample statistic"
   ]
  },
  {
   "cell_type": "code",
   "execution_count": 3,
   "id": "cdc27891",
   "metadata": {},
   "outputs": [],
   "source": [
    "# importing packages\n",
    "\n",
    "import pandas as pd\n",
    "import numpy as np\n",
    "import seaborn as sns"
   ]
  },
  {
   "cell_type": "code",
   "execution_count": 4,
   "id": "6a989d99",
   "metadata": {},
   "outputs": [
    {
     "data": {
      "text/html": [
       "<div>\n",
       "<style scoped>\n",
       "    .dataframe tbody tr th:only-of-type {\n",
       "        vertical-align: middle;\n",
       "    }\n",
       "\n",
       "    .dataframe tbody tr th {\n",
       "        vertical-align: top;\n",
       "    }\n",
       "\n",
       "    .dataframe thead th {\n",
       "        text-align: right;\n",
       "    }\n",
       "</style>\n",
       "<table border=\"1\" class=\"dataframe\">\n",
       "  <thead>\n",
       "    <tr style=\"text-align: right;\">\n",
       "      <th></th>\n",
       "      <th>stud.id</th>\n",
       "      <th>name</th>\n",
       "      <th>gender</th>\n",
       "      <th>age</th>\n",
       "      <th>height</th>\n",
       "      <th>weight</th>\n",
       "      <th>religion</th>\n",
       "      <th>nc.score</th>\n",
       "      <th>semester</th>\n",
       "      <th>major</th>\n",
       "      <th>minor</th>\n",
       "      <th>score1</th>\n",
       "      <th>score2</th>\n",
       "      <th>online.tutorial</th>\n",
       "      <th>graduated</th>\n",
       "      <th>salary</th>\n",
       "    </tr>\n",
       "  </thead>\n",
       "  <tbody>\n",
       "    <tr>\n",
       "      <th>1</th>\n",
       "      <td>833917</td>\n",
       "      <td>Gonzales, Christina</td>\n",
       "      <td>Female</td>\n",
       "      <td>19</td>\n",
       "      <td>160</td>\n",
       "      <td>64.8</td>\n",
       "      <td>Muslim</td>\n",
       "      <td>1.91</td>\n",
       "      <td>1st</td>\n",
       "      <td>Political Science</td>\n",
       "      <td>Social Sciences</td>\n",
       "      <td>NaN</td>\n",
       "      <td>NaN</td>\n",
       "      <td>0</td>\n",
       "      <td>0</td>\n",
       "      <td>NaN</td>\n",
       "    </tr>\n",
       "    <tr>\n",
       "      <th>2</th>\n",
       "      <td>898539</td>\n",
       "      <td>Lozano, T'Hani</td>\n",
       "      <td>Female</td>\n",
       "      <td>19</td>\n",
       "      <td>172</td>\n",
       "      <td>73.0</td>\n",
       "      <td>Other</td>\n",
       "      <td>1.56</td>\n",
       "      <td>2nd</td>\n",
       "      <td>Social Sciences</td>\n",
       "      <td>Mathematics and Statistics</td>\n",
       "      <td>NaN</td>\n",
       "      <td>NaN</td>\n",
       "      <td>0</td>\n",
       "      <td>0</td>\n",
       "      <td>NaN</td>\n",
       "    </tr>\n",
       "    <tr>\n",
       "      <th>3</th>\n",
       "      <td>379678</td>\n",
       "      <td>Williams, Hanh</td>\n",
       "      <td>Female</td>\n",
       "      <td>22</td>\n",
       "      <td>168</td>\n",
       "      <td>70.6</td>\n",
       "      <td>Protestant</td>\n",
       "      <td>1.24</td>\n",
       "      <td>3rd</td>\n",
       "      <td>Social Sciences</td>\n",
       "      <td>Mathematics and Statistics</td>\n",
       "      <td>45.0</td>\n",
       "      <td>46.0</td>\n",
       "      <td>0</td>\n",
       "      <td>0</td>\n",
       "      <td>NaN</td>\n",
       "    </tr>\n",
       "    <tr>\n",
       "      <th>4</th>\n",
       "      <td>807564</td>\n",
       "      <td>Nem, Denzel</td>\n",
       "      <td>Male</td>\n",
       "      <td>19</td>\n",
       "      <td>183</td>\n",
       "      <td>79.7</td>\n",
       "      <td>Other</td>\n",
       "      <td>1.37</td>\n",
       "      <td>2nd</td>\n",
       "      <td>Environmental Sciences</td>\n",
       "      <td>Mathematics and Statistics</td>\n",
       "      <td>NaN</td>\n",
       "      <td>NaN</td>\n",
       "      <td>0</td>\n",
       "      <td>0</td>\n",
       "      <td>NaN</td>\n",
       "    </tr>\n",
       "    <tr>\n",
       "      <th>5</th>\n",
       "      <td>383291</td>\n",
       "      <td>Powell, Heather</td>\n",
       "      <td>Female</td>\n",
       "      <td>21</td>\n",
       "      <td>175</td>\n",
       "      <td>71.4</td>\n",
       "      <td>Catholic</td>\n",
       "      <td>1.46</td>\n",
       "      <td>1st</td>\n",
       "      <td>Environmental Sciences</td>\n",
       "      <td>Mathematics and Statistics</td>\n",
       "      <td>NaN</td>\n",
       "      <td>NaN</td>\n",
       "      <td>0</td>\n",
       "      <td>0</td>\n",
       "      <td>NaN</td>\n",
       "    </tr>\n",
       "  </tbody>\n",
       "</table>\n",
       "</div>"
      ],
      "text/plain": [
       "   stud.id                 name  gender  age  height  weight    religion  \\\n",
       "1   833917  Gonzales, Christina  Female   19     160    64.8      Muslim   \n",
       "2   898539       Lozano, T'Hani  Female   19     172    73.0       Other   \n",
       "3   379678       Williams, Hanh  Female   22     168    70.6  Protestant   \n",
       "4   807564          Nem, Denzel    Male   19     183    79.7       Other   \n",
       "5   383291      Powell, Heather  Female   21     175    71.4    Catholic   \n",
       "\n",
       "   nc.score semester                   major                       minor  \\\n",
       "1      1.91      1st       Political Science             Social Sciences   \n",
       "2      1.56      2nd         Social Sciences  Mathematics and Statistics   \n",
       "3      1.24      3rd         Social Sciences  Mathematics and Statistics   \n",
       "4      1.37      2nd  Environmental Sciences  Mathematics and Statistics   \n",
       "5      1.46      1st  Environmental Sciences  Mathematics and Statistics   \n",
       "\n",
       "   score1  score2  online.tutorial  graduated  salary  \n",
       "1     NaN     NaN                0          0     NaN  \n",
       "2     NaN     NaN                0          0     NaN  \n",
       "3    45.0    46.0                0          0     NaN  \n",
       "4     NaN     NaN                0          0     NaN  \n",
       "5     NaN     NaN                0          0     NaN  "
      ]
     },
     "execution_count": 4,
     "metadata": {},
     "output_type": "execute_result"
    }
   ],
   "source": [
    "df=pd.read_csv(\"students.csv\")\n",
    "df.head()"
   ]
  },
  {
   "cell_type": "markdown",
   "id": "99de1af7",
   "metadata": {},
   "source": [
    "## Population and Sample\n",
    "<br>\n",
    "<strong>Population: </strong>Entire set of data on which we want to draw conclusions<br>\n",
    "<strong>Sample: </strong>Collection of observations drawn from a population. It is a subset of population\n",
    "<br><br>\n",
    "\n",
    "### Consider the given dataset of students as population, extract the age column and find its parameters (mean, variance and standard deviation)"
   ]
  },
  {
   "cell_type": "markdown",
   "id": "ab4b6bdf",
   "metadata": {},
   "source": [
    "The above data is the data of the university, let us assume it as a whole population<br>\n",
    "Let's calculate the population parameters of age data from the above data."
   ]
  },
  {
   "cell_type": "code",
   "execution_count": 8,
   "id": "fa4ce114",
   "metadata": {},
   "outputs": [
    {
     "name": "stdout",
     "output_type": "stream",
     "text": [
      "Population Mean of Age 22.541570578953756\n",
      "\n",
      "Population Standard deviation of Age: 6.065110745167151\n",
      "\n",
      "Population variance of Age: 36.78556835114203\n"
     ]
    }
   ],
   "source": [
    "# Finding the population parameters of age\n",
    "\n",
    "# Extracting \"age\" data from the above data\n",
    "\n",
    "age=df.age\n",
    "\n",
    "# Population Mean\n",
    "mu=age.mean()\n",
    "print(\"Population Mean of Age\",mu)\n",
    "\n",
    "#Population of standard deviation \n",
    "sigma = age.std()\n",
    "print(\"\\nPopulation Standard deviation of Age:\",sigma)\n",
    "\n",
    "\n",
    "# population Variance\n",
    "sigma_square = age.var()\n",
    "print(\"\\nPopulation variance of Age:\",sigma_square)"
   ]
  },
  {
   "cell_type": "markdown",
   "id": "5d451cb8",
   "metadata": {},
   "source": [
    "We have calculated the population parameters. Sometimes it is hard to find the population because\n",
    "    - It may be expensive to collect data or\n",
    "    - It may be impossible to collect the data in the short time\n",
    "\n",
    "### Take a sample of age with sample size (n) = 1000 from the population and find its statistics (mean, variance and standard deviation) and state whether the statistics calculated from the sample are good estimations of population parameters or not. \n",
    "\n",
    "Now let's have a look at how to take samples from the population and calculate the statistics"
   ]
  },
  {
   "cell_type": "code",
   "execution_count": 12,
   "id": "ded305b2",
   "metadata": {},
   "outputs": [
    {
     "name": "stdout",
     "output_type": "stream",
     "text": [
      "Number of instance in the sample: 1000\n"
     ]
    }
   ],
   "source": [
    "# Taking a samples\n",
    "sampledata=df.sample(1000)\n",
    "print(\"Number of instance in the sample:\",sampledata.shape[0])"
   ]
  },
  {
   "cell_type": "code",
   "execution_count": 19,
   "id": "d682c924",
   "metadata": {},
   "outputs": [
    {
     "name": "stdout",
     "output_type": "stream",
     "text": [
      "Mean of age from sample data: 22.58\n",
      "\n",
      "standard deviation of age from sample data 6.084621814264452\n",
      "\n",
      "Variance of age from sample data: 37.022622622622826\n"
     ]
    }
   ],
   "source": [
    "# Calculating the statistics of te sample\n",
    "sample_data_age=sampledata.age\n",
    "\n",
    "\n",
    "# Mean of th sample\n",
    "x_bar=sample_data_age.mean()\n",
    "print(\"Mean of age from sample data:\",x_bar)\n",
    "\n",
    "# Standard deviation of sample\n",
    "s=sample_data_age.std()\n",
    "print(\"\\nstandard deviation of age from sample data\",s)\n",
    "\n",
    "\n",
    "# Variance of sample\n",
    "s_square= sample_data_age.var()\n",
    "print(\"\\nVariance of age from sample data:\",s_square)"
   ]
  },
  {
   "cell_type": "markdown",
   "id": "2ac3bd0f",
   "metadata": {},
   "source": [
    "## Sampling Distribution\n",
    "Sampling distribution is the distribution of a statistic obtained from several samples,\n",
    "    - Consider different samples of data, let 'n' be the number of samples\n",
    "    - Calculate the statistic of every sample\n",
    "    - The distribution of values of the statistic obtained from 'n' samples is known as Sampling Distribution\n",
    "\n",
    "### Consider 20 samples of 'nc.score' with sample size of 200, find the sampling distribution of mean "
   ]
  },
  {
   "cell_type": "code",
   "execution_count": 20,
   "id": "d2e5968b",
   "metadata": {},
   "outputs": [],
   "source": [
    "# let us extract the nc.score column from the data\n",
    "score=df['nc.score']"
   ]
  },
  {
   "cell_type": "code",
   "execution_count": 27,
   "id": "e0d1e597",
   "metadata": {},
   "outputs": [
    {
     "name": "stdout",
     "output_type": "stream",
     "text": [
      "\n",
      "Means of all the samples; [2.2321, 2.1567, 2.1590999999999996, 2.2007499999999998, 2.20865, 2.0991999999999997, 2.2225, 2.2594, 2.1346, 2.25025, 2.1558499999999996, 2.1719000000000004, 2.19295, 2.1757, 2.17115, 2.1372, 2.25895, 2.1672, 2.15, 2.18535]\n"
     ]
    }
   ],
   "source": [
    "# Calculating means of each sample\n",
    "\n",
    "means=list()\n",
    "\n",
    "for i in range(20):\n",
    "    sample_score=score.sample(200)\n",
    "    mean=sample_score.mean()\n",
    "    means.append(mean)\n",
    "\n",
    "print(\"\\nMeans of all the samples;\",means)"
   ]
  },
  {
   "cell_type": "code",
   "execution_count": 28,
   "id": "4806e31f",
   "metadata": {},
   "outputs": [],
   "source": [
    "import warnings as war\n",
    "war.filterwarnings(\"ignore\")"
   ]
  },
  {
   "cell_type": "code",
   "execution_count": 29,
   "id": "a954db79",
   "metadata": {},
   "outputs": [
    {
     "data": {
      "text/plain": [
       "<Axes: ylabel='Density'>"
      ]
     },
     "execution_count": 29,
     "metadata": {},
     "output_type": "execute_result"
    },
    {
     "data": {
      "image/png": "[encoded data removed]",
      "text/plain": [
       "<Figure size 640x480 with 1 Axes>"
      ]
     },
     "metadata": {},
     "output_type": "display_data"
    }
   ],
   "source": [
    "sns.distplot(means)"
   ]
  },
  {
   "cell_type": "markdown",
   "id": "1fc7ea3c",
   "metadata": {},
   "source": [
    "### Standard Error with one sample\n",
    "\n",
    "      Consider the weights of students in university, take a sample, calculate the standard error of the mean of that sample and describe variation of sample mean with the population mean"
   ]
  },
  {
   "attachments": {
    "standard%20error.png": {
     "image/png": "[encoded data removed]"
    }
   },
   "cell_type": "markdown",
   "id": "29a8d6da",
   "metadata": {},
   "source": [
    "![standard%20error.png](attachment:standard%20error.png)"
   ]
  },
  {
   "cell_type": "code",
   "execution_count": 30,
   "id": "4f823486",
   "metadata": {},
   "outputs": [
    {
     "name": "stdout",
     "output_type": "stream",
     "text": [
      "The Mean of the sample is: 73.0866\n"
     ]
    }
   ],
   "source": [
    "sample_weight=df.weight.sample(500)\n",
    "\n",
    "#finding Sample mean\n",
    "\n",
    "sample_weight_mean=sample_weight.mean()\n",
    "print(\"The Mean of the sample is:\",sample_weight_mean)"
   ]
  },
  {
   "cell_type": "code",
   "execution_count": 31,
   "id": "41c38ae6",
   "metadata": {},
   "outputs": [
    {
     "name": "stdout",
     "output_type": "stream",
     "text": [
      "std: 8.204473609831952\n",
      "Number of sample is : 500\n"
     ]
    }
   ],
   "source": [
    "# Finding standard deviation\n",
    "s=sample_weight.std()\n",
    "print(\"std:\",s)\n",
    "\n",
    "# Finding the sample size\n",
    "n=sample_weight.shape[0]\n",
    "print(\"Number of sample is :\",n)"
   ]
  },
  {
   "cell_type": "code",
   "execution_count": 35,
   "id": "5c910ef7",
   "metadata": {},
   "outputs": [
    {
     "name": "stdout",
     "output_type": "stream",
     "text": [
      "Standard Error is: 0.3669152142237466\n"
     ]
    }
   ],
   "source": [
    "# Calculating standard Error\n",
    "standard_error=s/np.sqrt(n)\n",
    "print(\"Standard Error is:\",standard_error)"
   ]
  },
  {
   "cell_type": "code",
   "execution_count": 37,
   "id": "c1371bc7",
   "metadata": {},
   "outputs": [
    {
     "name": "stdout",
     "output_type": "stream",
     "text": [
      "The Means of the samples: [72.4855, 72.0185, 72.3295, 73.37450000000001, 72.8785, 72.2765, 72.589, 72.6325, 72.821, 72.6955, 72.967, 73.495, 71.7765, 72.1665, 73.1365, 73.593, 72.043, 72.01450000000001, 72.60700000000001, 73.37]\n"
     ]
    }
   ],
   "source": [
    "means=list()\n",
    "\n",
    "# Taking samples of weight data and finding its means\n",
    "for i in range(20):\n",
    "    sample=df.weight.sample(200)\n",
    "    man=sample.mean()\n",
    "    means.append(man)\n",
    "print(\"The Means of the samples:\",means)"
   ]
  },
  {
   "cell_type": "code",
   "execution_count": 38,
   "id": "cdb8403e",
   "metadata": {
    "scrolled": true
   },
   "outputs": [
    {
     "data": {
      "text/plain": [
       "<Axes: ylabel='Density'>"
      ]
     },
     "execution_count": 38,
     "metadata": {},
     "output_type": "execute_result"
    },
    {
     "data": {
      "image/png": "[encoded data removed]",
      "text/plain": [
       "<Figure size 640x480 with 1 Axes>"
      ]
     },
     "metadata": {},
     "output_type": "display_data"
    }
   ],
   "source": [
    "sns.distplot(means)"
   ]
  },
  {
   "cell_type": "code",
   "execution_count": 40,
   "id": "e35b723d",
   "metadata": {},
   "outputs": [
    {
     "data": {
      "text/plain": [
       "0.5247217834243216"
      ]
     },
     "execution_count": 40,
     "metadata": {},
     "output_type": "execute_result"
    }
   ],
   "source": [
    "np.array(means).std()"
   ]
  },
  {
   "cell_type": "markdown",
   "id": "4cea7f19",
   "metadata": {},
   "source": [
    "# Day_26_ diy"
   ]
  },
  {
   "cell_type": "code",
   "execution_count": 55,
   "id": "74c49834",
   "metadata": {},
   "outputs": [
    {
     "name": "stdout",
     "output_type": "stream",
     "text": [
      " Volume in drive C has no label.\n",
      " Volume Serial Number is CAB5-589B\n",
      "\n",
      " Directory of C:\\Users\\ADMIN\\Documents\\lokesh_demos_&_diy\\day 26\n",
      "\n",
      "11/06/2023  12:37 PM    <DIR>          .\n",
      "11/06/2023  12:37 PM    <DIR>          ..\n",
      "11/06/2023  11:54 AM    <DIR>          .ipynb_checkpoints\n",
      "11/06/2023  12:30 PM           447,741 Demo - Sampling Distribution and Standard Error.ipynb\n",
      "11/06/2023  12:32 PM    <DIR>          DIY Solution Day 26\n",
      "11/06/2023  12:36 PM           105,753 Practice_day_26.ipynb\n",
      "02/26/2022  05:27 PM         1,085,084 students.csv\n",
      "04/29/2022  04:47 PM           100,951 winequality-red.csv\n",
      "               4 File(s)      1,739,529 bytes\n",
      "               4 Dir(s)  185,780,383,744 bytes free\n"
     ]
    }
   ],
   "source": [
    "ls"
   ]
  },
  {
   "cell_type": "code",
   "execution_count": 73,
   "id": "dc7a34ea",
   "metadata": {},
   "outputs": [
    {
     "data": {
      "text/html": [
       "<div>\n",
       "<style scoped>\n",
       "    .dataframe tbody tr th:only-of-type {\n",
       "        vertical-align: middle;\n",
       "    }\n",
       "\n",
       "    .dataframe tbody tr th {\n",
       "        vertical-align: top;\n",
       "    }\n",
       "\n",
       "    .dataframe thead th {\n",
       "        text-align: right;\n",
       "    }\n",
       "</style>\n",
       "<table border=\"1\" class=\"dataframe\">\n",
       "  <thead>\n",
       "    <tr style=\"text-align: right;\">\n",
       "      <th></th>\n",
       "      <th>fixed acidity</th>\n",
       "      <th>volatile acidity</th>\n",
       "      <th>citric acid</th>\n",
       "      <th>residual sugar</th>\n",
       "      <th>chlorides</th>\n",
       "      <th>free sulfur dioxide</th>\n",
       "      <th>total sulfur dioxide</th>\n",
       "      <th>density</th>\n",
       "      <th>pH</th>\n",
       "      <th>sulphates</th>\n",
       "      <th>alcohol</th>\n",
       "      <th>quality</th>\n",
       "    </tr>\n",
       "  </thead>\n",
       "  <tbody>\n",
       "    <tr>\n",
       "      <th>0</th>\n",
       "      <td>7.4</td>\n",
       "      <td>0.70</td>\n",
       "      <td>0.00</td>\n",
       "      <td>1.9</td>\n",
       "      <td>0.076</td>\n",
       "      <td>11.0</td>\n",
       "      <td>34.0</td>\n",
       "      <td>0.9978</td>\n",
       "      <td>3.51</td>\n",
       "      <td>0.56</td>\n",
       "      <td>9.4</td>\n",
       "      <td>5</td>\n",
       "    </tr>\n",
       "    <tr>\n",
       "      <th>1</th>\n",
       "      <td>7.8</td>\n",
       "      <td>0.88</td>\n",
       "      <td>0.00</td>\n",
       "      <td>2.6</td>\n",
       "      <td>0.098</td>\n",
       "      <td>25.0</td>\n",
       "      <td>67.0</td>\n",
       "      <td>0.9968</td>\n",
       "      <td>3.20</td>\n",
       "      <td>0.68</td>\n",
       "      <td>9.8</td>\n",
       "      <td>5</td>\n",
       "    </tr>\n",
       "    <tr>\n",
       "      <th>2</th>\n",
       "      <td>7.8</td>\n",
       "      <td>0.76</td>\n",
       "      <td>0.04</td>\n",
       "      <td>2.3</td>\n",
       "      <td>0.092</td>\n",
       "      <td>15.0</td>\n",
       "      <td>54.0</td>\n",
       "      <td>0.9970</td>\n",
       "      <td>3.26</td>\n",
       "      <td>0.65</td>\n",
       "      <td>9.8</td>\n",
       "      <td>5</td>\n",
       "    </tr>\n",
       "    <tr>\n",
       "      <th>3</th>\n",
       "      <td>11.2</td>\n",
       "      <td>0.28</td>\n",
       "      <td>0.56</td>\n",
       "      <td>1.9</td>\n",
       "      <td>0.075</td>\n",
       "      <td>17.0</td>\n",
       "      <td>60.0</td>\n",
       "      <td>0.9980</td>\n",
       "      <td>3.16</td>\n",
       "      <td>0.58</td>\n",
       "      <td>9.8</td>\n",
       "      <td>6</td>\n",
       "    </tr>\n",
       "    <tr>\n",
       "      <th>4</th>\n",
       "      <td>7.4</td>\n",
       "      <td>0.70</td>\n",
       "      <td>0.00</td>\n",
       "      <td>1.9</td>\n",
       "      <td>0.076</td>\n",
       "      <td>11.0</td>\n",
       "      <td>34.0</td>\n",
       "      <td>0.9978</td>\n",
       "      <td>3.51</td>\n",
       "      <td>0.56</td>\n",
       "      <td>9.4</td>\n",
       "      <td>5</td>\n",
       "    </tr>\n",
       "  </tbody>\n",
       "</table>\n",
       "</div>"
      ],
      "text/plain": [
       "   fixed acidity  volatile acidity  citric acid  residual sugar  chlorides  \\\n",
       "0            7.4              0.70         0.00             1.9      0.076   \n",
       "1            7.8              0.88         0.00             2.6      0.098   \n",
       "2            7.8              0.76         0.04             2.3      0.092   \n",
       "3           11.2              0.28         0.56             1.9      0.075   \n",
       "4            7.4              0.70         0.00             1.9      0.076   \n",
       "\n",
       "   free sulfur dioxide  total sulfur dioxide  density    pH  sulphates  \\\n",
       "0                 11.0                  34.0   0.9978  3.51       0.56   \n",
       "1                 25.0                  67.0   0.9968  3.20       0.68   \n",
       "2                 15.0                  54.0   0.9970  3.26       0.65   \n",
       "3                 17.0                  60.0   0.9980  3.16       0.58   \n",
       "4                 11.0                  34.0   0.9978  3.51       0.56   \n",
       "\n",
       "   alcohol  quality  \n",
       "0      9.4        5  \n",
       "1      9.8        5  \n",
       "2      9.8        5  \n",
       "3      9.8        6  \n",
       "4      9.4        5  "
      ]
     },
     "execution_count": 73,
     "metadata": {},
     "output_type": "execute_result"
    }
   ],
   "source": [
    "wine=pd.read_csv(\"winequality-red.csv\")\n",
    "wine.head()"
   ]
  },
  {
   "cell_type": "code",
   "execution_count": 77,
   "id": "57fb3e51",
   "metadata": {},
   "outputs": [
    {
     "data": {
      "text/html": [
       "<div>\n",
       "<style scoped>\n",
       "    .dataframe tbody tr th:only-of-type {\n",
       "        vertical-align: middle;\n",
       "    }\n",
       "\n",
       "    .dataframe tbody tr th {\n",
       "        vertical-align: top;\n",
       "    }\n",
       "\n",
       "    .dataframe thead th {\n",
       "        text-align: right;\n",
       "    }\n",
       "</style>\n",
       "<table border=\"1\" class=\"dataframe\">\n",
       "  <thead>\n",
       "    <tr style=\"text-align: right;\">\n",
       "      <th></th>\n",
       "      <th>alcohol</th>\n",
       "    </tr>\n",
       "  </thead>\n",
       "  <tbody>\n",
       "    <tr>\n",
       "      <th>0</th>\n",
       "      <td>12.0</td>\n",
       "    </tr>\n",
       "    <tr>\n",
       "      <th>1</th>\n",
       "      <td>12.5</td>\n",
       "    </tr>\n",
       "    <tr>\n",
       "      <th>2</th>\n",
       "      <td>11.7</td>\n",
       "    </tr>\n",
       "    <tr>\n",
       "      <th>3</th>\n",
       "      <td>14.0</td>\n",
       "    </tr>\n",
       "    <tr>\n",
       "      <th>4</th>\n",
       "      <td>12.7</td>\n",
       "    </tr>\n",
       "    <tr>\n",
       "      <th>5</th>\n",
       "      <td>12.1</td>\n",
       "    </tr>\n",
       "    <tr>\n",
       "      <th>6</th>\n",
       "      <td>11.0</td>\n",
       "    </tr>\n",
       "    <tr>\n",
       "      <th>7</th>\n",
       "      <td>10.0</td>\n",
       "    </tr>\n",
       "    <tr>\n",
       "      <th>8</th>\n",
       "      <td>10.8</td>\n",
       "    </tr>\n",
       "    <tr>\n",
       "      <th>9</th>\n",
       "      <td>9.7</td>\n",
       "    </tr>\n",
       "  </tbody>\n",
       "</table>\n",
       "</div>"
      ],
      "text/plain": [
       "   alcohol\n",
       "0     12.0\n",
       "1     12.5\n",
       "2     11.7\n",
       "3     14.0\n",
       "4     12.7\n",
       "5     12.1\n",
       "6     11.0\n",
       "7     10.0\n",
       "8     10.8\n",
       "9      9.7"
      ]
     },
     "execution_count": 77,
     "metadata": {},
     "output_type": "execute_result"
    }
   ],
   "source": [
    "np.random.seed(11)\n",
    "sample_7_and_above = data[data['quality'].isin([7, 8])].sample(10)[['alcohol']].reset_index().drop(columns = ['index'])\n",
    "sample_7_and_above"
   ]
  },
  {
   "cell_type": "code",
   "execution_count": 82,
   "id": "f60c70fa",
   "metadata": {},
   "outputs": [
    {
     "name": "stdout",
     "output_type": "stream",
     "text": [
      "The mean of the sample is:  11.65\n",
      "The standard deviation of the sample is:  1.2387493693237548\n"
     ]
    }
   ],
   "source": [
    "m = np.mean(sample_7_and_above[\"alcohol\"])\n",
    "print(\"The mean of the sample is: \", m)\n",
    "sd = np.std(sample_7_and_above[\"alcohol\"])\n",
    "print(\"The standard deviation of the sample is: \", sd)"
   ]
  },
  {
   "cell_type": "code",
   "execution_count": 88,
   "id": "f0514c4e",
   "metadata": {},
   "outputs": [],
   "source": [
    "import matplotlib.pyplot as plt"
   ]
  },
  {
   "cell_type": "code",
   "execution_count": 94,
   "id": "d8b8bd7b",
   "metadata": {},
   "outputs": [
    {
     "data": {
      "text/plain": [
       "Text(0.5, 1.0, 'mean of sample 1 = 11.65, standard deviation ofsample 1 = 1.2387493693237548')"
      ]
     },
     "execution_count": 94,
     "metadata": {},
     "output_type": "execute_result"
    },
    {
     "data": {
      "image/png": "[encoded data removed]",
      "text/plain": [
       "<Figure size 500x400 with 1 Axes>"
      ]
     },
     "metadata": {},
     "output_type": "display_data"
    }
   ],
   "source": [
    "plt.figure(figsize=(5,4))\n",
    "sns.distplot(sample_7_and_above['alcohol'],hist=False)\n",
    "title = \"mean of sample 1 = \" + str(m) + \", standard deviation ofsample 1 = \"+ str(sd)\n",
    "plt.title(title)"
   ]
  },
  {
   "cell_type": "code",
   "execution_count": 95,
   "id": "a7c2b55c",
   "metadata": {},
   "outputs": [
    {
     "name": "stdout",
     "output_type": "stream",
     "text": [
      "Standard Error is: 0.39172694571601785\n"
     ]
    }
   ],
   "source": [
    "# calculating the Standard Error\n",
    "n=10 # sample size\n",
    "s= sd\n",
    "standard_error = s/np.sqrt(n)\n",
    "print('Standard Error is:',standard_error)"
   ]
  },
  {
   "cell_type": "code",
   "execution_count": 101,
   "id": "3c1e4d0a",
   "metadata": {},
   "outputs": [
    {
     "data": {
      "text/plain": [
       "Text(9.444444444444445, 0.5, 'Density')"
      ]
     },
     "execution_count": 101,
     "metadata": {},
     "output_type": "execute_result"
    },
    {
     "data": {
      "text/plain": [
       "<Figure size 500x500 with 0 Axes>"
      ]
     },
     "metadata": {},
     "output_type": "display_data"
    },
    {
     "data": {
      "image/png": "[encoded data removed]",
      "text/plain": [
       "<Figure size 500x500 with 1 Axes>"
      ]
     },
     "metadata": {},
     "output_type": "display_data"
    }
   ],
   "source": [
    "plt.figure(figsize=(5,5))\n",
    "sns.displot(means)\n",
    "plt.xlabel(\"Means\")\n",
    "plt.ylabel(\"Density\")"
   ]
  },
  {
   "cell_type": "code",
   "execution_count": null,
   "id": "e7f23e20",
   "metadata": {},
   "outputs": [],
   "source": []
  }
 ],
 "metadata": {
  "kernelspec": {
   "display_name": "Python 3 (ipykernel)",
   "language": "python",
   "name": "python3"
  },
  "language_info": {
   "codemirror_mode": {
    "name": "ipython",
    "version": 3
   },
   "file_extension": ".py",
   "mimetype": "text/x-python",
   "name": "python",
   "nbconvert_exporter": "python",
   "pygments_lexer": "ipython3",
   "version": "3.11.5"
  }
 },
 "nbformat": 4,
 "nbformat_minor": 5
}
