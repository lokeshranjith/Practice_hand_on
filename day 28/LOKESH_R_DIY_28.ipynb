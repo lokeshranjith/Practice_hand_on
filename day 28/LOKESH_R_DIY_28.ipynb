{
 "cells": [
  {
   "cell_type": "markdown",
   "id": "e474b5cf",
   "metadata": {},
   "source": [
    "\n",
    "**Q1. Problem Statement: Statistical Hypothesis Testing** <br>\n",
    "A company claims that its employees earn approximately 5LPA on average. A random sample of 50 employees was taken, and it turned out to have a mean of 2 LPA. Perform hypothesis testing for the given claim having a population mean of 5 LPA with a standard deviation of 3.<br>\n",
    "\n",
    "H0:u (Null hypothesis)  = Employees are earning on an average around 5LPA <br>\n",
    "H1:u (Alternate hypothesis) = Employees are not earning 5LPA on an average <br>\n"
   ]
  },
  {
   "cell_type": "code",
   "execution_count": 3,
   "id": "5688c02f",
   "metadata": {},
   "outputs": [],
   "source": [
    "# Enter the values as given in question\n",
    "total_mean=5\n",
    "sample_mean=2\n",
    "standard_deviation =3\n",
    "sample_size=50"
   ]
  },
  {
   "cell_type": "code",
   "execution_count": 5,
   "id": "92d84937",
   "metadata": {},
   "outputs": [
    {
     "name": "stdout",
     "output_type": "stream",
     "text": [
      "5 4\n"
     ]
    }
   ],
   "source": [
    "# Calculate significant interval and upper and lower values\n",
    "import math\n",
    "significant_interval = 1.98\n",
    "error_rate =standard_deviation/(math.sqrt(sample_size))\n",
    "UCV = int(total_mean + (significant_interval*error_rate))\n",
    "LCV = int(total_mean - (significant_interval*error_rate))\n",
    "print(UCV,LCV)"
   ]
  },
  {
   "cell_type": "code",
   "execution_count": 6,
   "id": "f00046b6",
   "metadata": {},
   "outputs": [
    {
     "name": "stdout",
     "output_type": "stream",
     "text": [
      " we are rejecting null hypothesis and accepting alternate hypothesis\n"
     ]
    }
   ],
   "source": [
    "if UCV < sample_mean or sample_mean < LCV:\n",
    "    print(\" we are rejecting null hypothesis and accepting alternate hypothesis\")\n",
    "else:\n",
    "    print(\"we are accepting null hyporhesis\")"
   ]
  },
  {
   "cell_type": "markdown",
   "id": "0277dc82",
   "metadata": {},
   "source": [
    "**Q2. Problem Statement: Statistical Hypothesis Testing** <br>\n",
    "A Tyre manufacturing company claims that their original Tyres to run for about 50,000 km before having to replace them. A random sample of 100 tyres has been taken and turned out that the average life of the sample is about 48,000 Km. To find out that the company said the truth or lie, based  28,000 standard deviations."
   ]
  },
  {
   "cell_type": "markdown",
   "id": "dccbcb42",
   "metadata": {},
   "source": [
    "H0: u  = Tyres run for about 50,000 km before having to replace them (null hypothesis)<br>\n",
    "H1: u = Tyres can’t run for about 50,000 km before having to replace them(alternate hypothesis)\n"
   ]
  },
  {
   "cell_type": "code",
   "execution_count": 9,
   "id": "826525cd",
   "metadata": {},
   "outputs": [],
   "source": [
    "# Ente the value as given\n",
    "total_mean = 50000\n",
    "sample_mean = 48000\n",
    "standard_deviation = 15\n",
    "sample_size = 100"
   ]
  },
  {
   "cell_type": "code",
   "execution_count": 10,
   "id": "fcd2868f",
   "metadata": {},
   "outputs": [],
   "source": [
    "#Calculate significant interval and upeer and lower value.\n",
    "import math\n",
    "significant_interval = 1.96\n",
    "error_rate = standard_deviation/(math.sqrt(sample_size))\n",
    "UCV = int(total_mean + (significant_interval*error_rate))\n",
    "LCV = int(total_mean - (significant_interval*error_rate))"
   ]
  },
  {
   "cell_type": "code",
   "execution_count": 14,
   "id": "42409f8c",
   "metadata": {},
   "outputs": [
    {
     "name": "stdout",
     "output_type": "stream",
     "text": [
      " we are rejecting null hypothesis and accepting alternate hypothesis\n"
     ]
    }
   ],
   "source": [
    "\n",
    "if UCV < sample_mean or sample_mean < LCV:\n",
    "    print(\" we are rejecting null hypothesis and accepting alternate hypothesis\")\n",
    "else:\n",
    "    print(\"we are accepting null hyporhesis\")"
   ]
  },
  {
   "cell_type": "code",
   "execution_count": null,
   "id": "2148ab78",
   "metadata": {},
   "outputs": [],
   "source": []
  }
 ],
 "metadata": {
  "kernelspec": {
   "display_name": "Python 3 (ipykernel)",
   "language": "python",
   "name": "python3"
  },
  "language_info": {
   "codemirror_mode": {
    "name": "ipython",
    "version": 3
   },
   "file_extension": ".py",
   "mimetype": "text/x-python",
   "name": "python",
   "nbconvert_exporter": "python",
   "pygments_lexer": "ipython3",
   "version": "3.11.5"
  }
 },
 "nbformat": 4,
 "nbformat_minor": 5
}
