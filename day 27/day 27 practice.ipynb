{
 "cells": [
  {
   "cell_type": "code",
   "execution_count": 1,
   "id": "be090fff",
   "metadata": {},
   "outputs": [],
   "source": [
    "# import the required library\n",
    "import pandas as pd\n",
    "import numpy as np"
   ]
  },
  {
   "cell_type": "code",
   "execution_count": 2,
   "id": "08e5b27e",
   "metadata": {},
   "outputs": [
    {
     "data": {
      "text/plain": [
       "0.3989422804014327"
      ]
     },
     "execution_count": 2,
     "metadata": {},
     "output_type": "execute_result"
    }
   ],
   "source": [
    "from scipy.stats import norm\n",
    "x=norm.pdf(3,3,1)\n",
    "x"
   ]
  },
  {
   "cell_type": "code",
   "execution_count": 5,
   "id": "2d190f4b",
   "metadata": {},
   "outputs": [
    {
     "data": {
      "text/plain": [
       "0.07978845608028654"
      ]
     },
     "execution_count": 5,
     "metadata": {},
     "output_type": "execute_result"
    }
   ],
   "source": [
    "norm.pdf(5,5,5)"
   ]
  },
  {
   "cell_type": "code",
   "execution_count": 8,
   "id": "187d2cca",
   "metadata": {},
   "outputs": [
    {
     "data": {
      "text/plain": [
       "2.699548325659403"
      ]
     },
     "execution_count": 8,
     "metadata": {},
     "output_type": "execute_result"
    }
   ],
   "source": [
    "y=norm.pdf(3,7,2)\n",
    "y*100"
   ]
  },
  {
   "cell_type": "code",
   "execution_count": 9,
   "id": "d50f7645",
   "metadata": {},
   "outputs": [
    {
     "data": {
      "text/plain": [
       "0.2915024465028195"
      ]
     },
     "execution_count": 9,
     "metadata": {},
     "output_type": "execute_result"
    }
   ],
   "source": [
    "z=norm.pdf(2,4,1)*norm.pdf(6,4,1)\n",
    "z*100"
   ]
  },
  {
   "cell_type": "code",
   "execution_count": 7,
   "id": "3b699a0a",
   "metadata": {},
   "outputs": [
    {
     "data": {
      "text/plain": [
       "39.89422804014327"
      ]
     },
     "execution_count": 7,
     "metadata": {},
     "output_type": "execute_result"
    }
   ],
   "source": [
    "x*100"
   ]
  }
 ],
 "metadata": {
  "kernelspec": {
   "display_name": "Python 3 (ipykernel)",
   "language": "python",
   "name": "python3"
  },
  "language_info": {
   "codemirror_mode": {
    "name": "ipython",
    "version": 3
   },
   "file_extension": ".py",
   "mimetype": "text/x-python",
   "name": "python",
   "nbconvert_exporter": "python",
   "pygments_lexer": "ipython3",
   "version": "3.11.5"
  }
 },
 "nbformat": 4,
 "nbformat_minor": 5
}
