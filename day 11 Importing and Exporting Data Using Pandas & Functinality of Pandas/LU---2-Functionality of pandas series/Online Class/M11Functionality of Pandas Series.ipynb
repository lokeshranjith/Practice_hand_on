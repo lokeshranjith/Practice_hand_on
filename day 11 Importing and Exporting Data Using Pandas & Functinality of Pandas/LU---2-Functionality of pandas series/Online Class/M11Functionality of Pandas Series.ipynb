{
 "cells": [
  {
   "cell_type": "markdown",
   "id": "164c963d",
   "metadata": {},
   "source": [
    "Create a Pandas Series from a Python List with index from A to E?\n",
    "\n",
    "create a Series from a NumPy array?"
   ]
  },
  {
   "cell_type": "code",
   "execution_count": 4,
   "id": "8c43e371",
   "metadata": {},
   "outputs": [
    {
     "name": "stdout",
     "output_type": "stream",
     "text": [
      "A    10\n",
      "B    20\n",
      "C    30\n",
      "D    40\n",
      "E    50\n",
      "dtype: int64\n"
     ]
    }
   ],
   "source": [
    "# Import the Pandas library\n",
    "import pandas as pd\n",
    "\n",
    "# Create a Python list\n",
    "my_list = [10, 20, 30, 40, 50]\n",
    "\n",
    "# Create a Pandas Series from the list\n",
    "my_series = pd.Series(my_list, index= ['A','B','C','D','E'])\n",
    "\n",
    "# Display the Pandas Series\n",
    "print(my_series)\n"
   ]
  },
  {
   "cell_type": "code",
   "execution_count": 5,
   "id": "412042c7",
   "metadata": {},
   "outputs": [
    {
     "name": "stdout",
     "output_type": "stream",
     "text": [
      "[10 20 30 40 50]\n",
      "Index(['A', 'B', 'C', 'D', 'E'], dtype='object')\n",
      "(5,)\n",
      "5\n"
     ]
    }
   ],
   "source": [
    "print(my_series.values) #provide list of values in the series\n",
    "print(my_series.index)  #retrieve index value\n",
    "print(my_series.shape)  #provides no of items in the series\n",
    "print(my_series.size)  # the total number of elements in the Series"
   ]
  },
  {
   "cell_type": "code",
   "execution_count": 6,
   "id": "8dd86d6e",
   "metadata": {},
   "outputs": [
    {
     "name": "stdout",
     "output_type": "stream",
     "text": [
      "0     5\n",
      "1    10\n",
      "2    15\n",
      "3    20\n",
      "4    25\n",
      "dtype: int32\n"
     ]
    }
   ],
   "source": [
    "# Import the necessary libraries\n",
    "import pandas as pd\n",
    "import numpy as np\n",
    "\n",
    "# Create a NumPy array\n",
    "my_array = np.array([5, 10, 15, 20, 25])\n",
    "\n",
    "# Create a Pandas Series from the NumPy array\n",
    "my_series_from_numpy = pd.Series(my_array)\n",
    "\n",
    "# Display the Pandas Series\n",
    "print(my_series_from_numpy)\n"
   ]
  },
  {
   "cell_type": "markdown",
   "id": "adf81b8a",
   "metadata": {},
   "source": [
    "Accessing Elements\n",
    "\n",
    "How do you access the first element of a my_series?\n",
    "\n",
    "How can you access multiple elements at once by their index?\n",
    "\n",
    "Using .loc[] to access by label and Using .iloc[] to access by position"
   ]
  },
  {
   "cell_type": "code",
   "execution_count": 7,
   "id": "90027908",
   "metadata": {},
   "outputs": [
    {
     "name": "stdout",
     "output_type": "stream",
     "text": [
      "First Element: 10\n"
     ]
    }
   ],
   "source": [
    "# Access the first element (at position A)\n",
    "first_element = my_series['A']\n",
    "\n",
    "# Display the first element\n",
    "print(\"First Element:\", first_element)\n"
   ]
  },
  {
   "cell_type": "code",
   "execution_count": 8,
   "id": "da85f555",
   "metadata": {},
   "outputs": [
    {
     "name": "stdout",
     "output_type": "stream",
     "text": [
      "Selected Elements: B    20\n",
      "D    40\n",
      "dtype: int64\n"
     ]
    }
   ],
   "source": [
    "# Access multiple elements by their indices\n",
    "indices_to_access = [1, 3]  # Access the second and fourth elements\n",
    "selected_elements = my_series[indices_to_access]\n",
    "\n",
    "# Display the selected elements\n",
    "print(\"Selected Elements:\", selected_elements)\n"
   ]
  },
  {
   "cell_type": "code",
   "execution_count": 22,
   "id": "16109507",
   "metadata": {},
   "outputs": [
    {
     "name": "stdout",
     "output_type": "stream",
     "text": [
      "a    10\n",
      "b    20\n",
      "c    30\n",
      "dtype: int64\n",
      ".loc[] Access: 20\n",
      ".iloc[] Access: 10\n"
     ]
    }
   ],
   "source": [
    "# Create a Series with custom index labels\n",
    "s = pd.Series([10, 20, 30], index=['a', 'b', 'c'])\n",
    "\n",
    "# Using .loc[] to access by label\n",
    "a = s.loc['b']\n",
    "\n",
    "# Using .iloc[] to access by position\n",
    "b = s.iloc[0]\n",
    "\n",
    "# Display the accessed elements\n",
    "print(custom_index_series)\n",
    "print(\".loc[] Access:\", a)\n",
    "print(\".iloc[] Access:\", b)\n"
   ]
  },
  {
   "cell_type": "code",
   "execution_count": null,
   "id": "6cbb664a",
   "metadata": {},
   "outputs": [],
   "source": []
  },
  {
   "cell_type": "markdown",
   "id": "9fd135e4",
   "metadata": {},
   "source": [
    ".loc[] is primarily label-based indexing. It is used when you want to access elements by their explicit index labels.\n",
    "\n",
    ".iloc[] is integer-based indexing. It is used when you want to access elements by their integer positions (0-based)."
   ]
  },
  {
   "cell_type": "markdown",
   "id": "daabefc0",
   "metadata": {},
   "source": [
    "Sorting\n",
    "\n",
    "How can you sort a Series in ascending and descending order?\n",
    "\n",
    "sort a Series by its index instead of values? "
   ]
  },
  {
   "cell_type": "code",
   "execution_count": 10,
   "id": "80733c9d",
   "metadata": {},
   "outputs": [
    {
     "name": "stdout",
     "output_type": "stream",
     "text": [
      "Original Series:\n",
      "B    25\n",
      "A    10\n",
      "D    30\n",
      "C    15\n",
      "E    20\n",
      "dtype: int64\n",
      "\n",
      "Ascending Sorted Series:\n",
      "A    10\n",
      "C    15\n",
      "E    20\n",
      "B    25\n",
      "D    30\n",
      "dtype: int64\n",
      "\n",
      "Descending Sorted Series:\n",
      "D    30\n",
      "B    25\n",
      "E    20\n",
      "C    15\n",
      "A    10\n",
      "dtype: int64\n"
     ]
    }
   ],
   "source": [
    "#Sorting a Series in Ascending and Descending Order by Values\n",
    "import pandas as pd\n",
    "\n",
    "# Create a Pandas Series\n",
    "data = {'B': 25, 'A': 10, 'D': 30, 'C': 15, 'E': 20}\n",
    "my_series = pd.Series(data)\n",
    "\n",
    "# Sorting in ascending order by values\n",
    "ascending_sorted_series = my_series.sort_values()\n",
    "\n",
    "# Sorting in descending order by values\n",
    "descending_sorted_series = my_series.sort_values(ascending=False)\n",
    "\n",
    "# Display the sorted Series\n",
    "print(\"Original Series:\")\n",
    "print(my_series)\n",
    "\n",
    "print(\"\\nAscending Sorted Series:\")\n",
    "print(ascending_sorted_series)\n",
    "\n",
    "print(\"\\nDescending Sorted Series:\")\n",
    "print(descending_sorted_series)\n"
   ]
  },
  {
   "cell_type": "code",
   "execution_count": 11,
   "id": "55239c74",
   "metadata": {},
   "outputs": [
    {
     "name": "stdout",
     "output_type": "stream",
     "text": [
      "Original Series:\n",
      "B    25\n",
      "A    10\n",
      "D    30\n",
      "C    15\n",
      "E    20\n",
      "dtype: int64\n",
      "\n",
      "Ascending Sorted Series by Index:\n",
      "A    10\n",
      "B    25\n",
      "C    15\n",
      "D    30\n",
      "E    20\n",
      "dtype: int64\n",
      "\n",
      "Descending Sorted Series by Index:\n",
      "E    20\n",
      "D    30\n",
      "C    15\n",
      "B    25\n",
      "A    10\n",
      "dtype: int64\n"
     ]
    }
   ],
   "source": [
    "#Sorting a Series by its Index\n",
    "# Create a Pandas Series with custom index labels\n",
    "data = {'B': 25, 'A': 10, 'D': 30, 'C': 15, 'E': 20}\n",
    "my_series = pd.Series(data)\n",
    "\n",
    "# Sorting by index in ascending order\n",
    "ascending_sorted_index = my_series.sort_index()\n",
    "\n",
    "# Sorting by index in descending order\n",
    "descending_sorted_index = my_series.sort_index(ascending=False)\n",
    "\n",
    "# Display the sorted Series by index\n",
    "print(\"Original Series:\")\n",
    "print(my_series)\n",
    "\n",
    "print(\"\\nAscending Sorted Series by Index:\")\n",
    "print(ascending_sorted_index)\n",
    "\n",
    "print(\"\\nDescending Sorted Series by Index:\")\n",
    "print(descending_sorted_index)\n"
   ]
  },
  {
   "cell_type": "markdown",
   "id": "3c4c26c3",
   "metadata": {},
   "source": [
    "Combining Series\n",
    "\n",
    "How do you concatenate two or more Series?\n",
    "\n",
    "How can you Append Using Series.append()?"
   ]
  },
  {
   "cell_type": "code",
   "execution_count": 12,
   "id": "ca4ce0db",
   "metadata": {},
   "outputs": [
    {
     "name": "stdout",
     "output_type": "stream",
     "text": [
      "Concatenated Series:\n",
      "0    1\n",
      "1    2\n",
      "2    3\n",
      "0    4\n",
      "1    5\n",
      "2    6\n",
      "dtype: int64\n"
     ]
    }
   ],
   "source": [
    "#Concatenation Using pd.concat()\n",
    "# Create two Pandas Series\n",
    "series1 = pd.Series([1, 2, 3])\n",
    "series2 = pd.Series([4, 5, 6])\n",
    "\n",
    "# Concatenate the two Series vertically (along rows)\n",
    "concatenated_series = pd.concat([series1, series2])\n",
    "\n",
    "# Display the concatenated Series\n",
    "print(\"Concatenated Series:\")\n",
    "print(concatenated_series)\n"
   ]
  },
  {
   "cell_type": "code",
   "execution_count": 13,
   "id": "fa20782f",
   "metadata": {},
   "outputs": [
    {
     "name": "stdout",
     "output_type": "stream",
     "text": [
      "Appended Series:\n",
      "0    1\n",
      "1    2\n",
      "2    3\n",
      "0    4\n",
      "1    5\n",
      "2    6\n",
      "dtype: int64\n"
     ]
    },
    {
     "name": "stderr",
     "output_type": "stream",
     "text": [
      "C:\\Users\\lokeshranjith\\AppData\\Local\\Temp\\ipykernel_9900\\4117069391.py:7: FutureWarning: The series.append method is deprecated and will be removed from pandas in a future version. Use pandas.concat instead.\n",
      "  appended_series = series1.append(series2)\n"
     ]
    }
   ],
   "source": [
    "#Appending Using Series.append()\n",
    "# Create two Pandas Series\n",
    "series1 = pd.Series([1, 2, 3])\n",
    "series2 = pd.Series([4, 5, 6])\n",
    "\n",
    "# Append series2 to series1\n",
    "appended_series = series1.append(series2)\n",
    "\n",
    "# Display the appended Series\n",
    "print(\"Appended Series:\")\n",
    "print(appended_series)\n"
   ]
  },
  {
   "cell_type": "markdown",
   "id": "47de5aa5",
   "metadata": {},
   "source": [
    "How can you rename the index of a Series?"
   ]
  },
  {
   "cell_type": "code",
   "execution_count": 14,
   "id": "a82d3bbb",
   "metadata": {},
   "outputs": [
    {
     "name": "stdout",
     "output_type": "stream",
     "text": [
      "X    10\n",
      "B    20\n",
      "Y    30\n",
      "D    40\n",
      "E    50\n",
      "dtype: int64\n"
     ]
    }
   ],
   "source": [
    "# Import the Pandas library\n",
    "import pandas as pd\n",
    "\n",
    "# Create a Pandas Series with a custom index\n",
    "data = [10, 20, 30, 40, 50]\n",
    "my_series = pd.Series(data, index=['A', 'B', 'C', 'D', 'E'])\n",
    "\n",
    "# Rename both index and values using .rename() method\n",
    "my_series.rename(index={'A': 'X', 'C': 'Y'},inplace=True )\n",
    "\n",
    "# Display the renamed Series\n",
    "\n",
    "print(my_series)\n"
   ]
  },
  {
   "cell_type": "markdown",
   "id": "7a033755",
   "metadata": {},
   "source": [
    "change the values of a Pandas Series"
   ]
  },
  {
   "cell_type": "code",
   "execution_count": 15,
   "id": "39deecb9",
   "metadata": {},
   "outputs": [
    {
     "name": "stdout",
     "output_type": "stream",
     "text": [
      "Modified Series:\n",
      "0    10\n",
      "1    25\n",
      "2    30\n",
      "3    40\n",
      "4    50\n",
      "dtype: int64\n"
     ]
    }
   ],
   "source": [
    "# change the values of a Pandas Series by referencing their index. \n",
    "data = [10, 20, 30, 40, 50]\n",
    "my_series = pd.Series(data)\n",
    "\n",
    "# Change the value of the second element\n",
    "my_series[1] = 25\n",
    "\n",
    "# Display the modified Series\n",
    "print(\"Modified Series:\")\n",
    "print(my_series)\n"
   ]
  },
  {
   "cell_type": "code",
   "execution_count": 16,
   "id": "a782278f",
   "metadata": {},
   "outputs": [
    {
     "name": "stdout",
     "output_type": "stream",
     "text": [
      "Modified Series:\n",
      "A    10\n",
      "B    15\n",
      "C    30\n",
      "D    40\n",
      "E    50\n",
      "dtype: int64\n"
     ]
    }
   ],
   "source": [
    "\n",
    "# Create a Pandas Series\n",
    "data = [10, 20, 30, 40, 50]\n",
    "index_labels = ['A', 'B', 'C', 'D', 'E']\n",
    "my_series = pd.Series(data, index=index_labels)\n",
    "\n",
    "# Replace the value with index label 'B' (which is 20) with 15\n",
    "my_series['B'] = 15\n",
    "\n",
    "# Display the modified Series\n",
    "print(\"Modified Series:\")\n",
    "print(my_series)\n"
   ]
  },
  {
   "cell_type": "code",
   "execution_count": 17,
   "id": "4c0eaf7a",
   "metadata": {},
   "outputs": [
    {
     "name": "stdout",
     "output_type": "stream",
     "text": [
      "Modified Series:\n",
      "A    10\n",
      "B    15\n",
      "C    30\n",
      "D    40\n",
      "E    50\n",
      "dtype: int64\n"
     ]
    }
   ],
   "source": [
    "# Create a Pandas Series\n",
    "data = [10, 20, 30, 40, 50]\n",
    "index_labels = ['A', 'B', 'C', 'D', 'E']\n",
    "my_series = pd.Series(data, index=index_labels)\n",
    "\n",
    "\n",
    "# Replace 20 with 15\n",
    "my_series = my_series.replace(20, 15)\n",
    "\n",
    "# Display the modified Series\n",
    "print(\"Modified Series:\")\n",
    "print(my_series)\n"
   ]
  },
  {
   "cell_type": "markdown",
   "id": "f5fb5571",
   "metadata": {},
   "source": [
    " change the index labels of an existing Pandas Series without modifying the values"
   ]
  },
  {
   "cell_type": "code",
   "execution_count": 18,
   "id": "6a248384",
   "metadata": {},
   "outputs": [
    {
     "name": "stdout",
     "output_type": "stream",
     "text": [
      "Original Series:\n",
      "A    10\n",
      "B    20\n",
      "C    30\n",
      "D    40\n",
      "E    50\n",
      "dtype: int64\n",
      "\n",
      "Series with Modified Index:\n",
      "X    10\n",
      "Y    20\n",
      "Z    30\n",
      "W    40\n",
      "V    50\n",
      "dtype: int64\n"
     ]
    }
   ],
   "source": [
    "\n",
    "\n",
    "# Create a Pandas Series with an initial index\n",
    "data = [10, 20, 30, 40, 50]\n",
    "index_labels = ['A', 'B', 'C', 'D', 'E']\n",
    "my_series = pd.Series(data, index=index_labels)\n",
    "\n",
    "# Display the original Series\n",
    "print(\"Original Series:\")\n",
    "print(my_series)\n",
    "\n",
    "# Define a new set of index labels\n",
    "new_index_labels = ['X', 'Y', 'Z', 'W', 'V']\n",
    "\n",
    "# Assign the new index to the Series\n",
    "my_series.index = new_index_labels\n",
    "\n",
    "# Display the Series with the new index labels\n",
    "print(\"\\nSeries with Modified Index:\")\n",
    "print(my_series)\n"
   ]
  },
  {
   "cell_type": "markdown",
   "id": "f5765192",
   "metadata": {},
   "source": [
    "how you can Slice a Series?"
   ]
  },
  {
   "cell_type": "code",
   "execution_count": 19,
   "id": "4c50853c",
   "metadata": {},
   "outputs": [
    {
     "name": "stdout",
     "output_type": "stream",
     "text": [
      "Sliced Series:\n",
      "B    20\n",
      "C    30\n",
      "D    40\n",
      "dtype: int64\n"
     ]
    }
   ],
   "source": [
    "import pandas as pd\n",
    "\n",
    "# Create a Pandas Series\n",
    "data = [10, 20, 30, 40, 50]\n",
    "my_series = pd.Series(data, index=['A', 'B', 'C', 'D', 'E'])\n",
    "\n",
    "# Slicing: Select elements from 'B' to 'D' (inclusive) by index labels\n",
    "sliced_series = my_series['B':'D']\n",
    "\n",
    "# Display the results\n",
    "print(\"Sliced Series:\")\n",
    "print(sliced_series)\n",
    "\n",
    "\n"
   ]
  },
  {
   "cell_type": "code",
   "execution_count": 20,
   "id": "6ba981bf",
   "metadata": {},
   "outputs": [
    {
     "name": "stdout",
     "output_type": "stream",
     "text": [
      "Sliced Series:\n",
      "B    20\n",
      "C    30\n",
      "D    40\n",
      "dtype: int64\n"
     ]
    }
   ],
   "source": [
    "# Create a Pandas Series\n",
    "data = [10, 20, 30, 40, 50]\n",
    "my_series = pd.Series(data, index=['A', 'B', 'C', 'D', 'E'])\n",
    "\n",
    "# Slicing: Select elements from 1 to 4 (exclusive) by 0 index \n",
    "sliced_series = my_series[1:4]\n",
    "\n",
    "# Display the results\n",
    "print(\"Sliced Series:\")\n",
    "print(sliced_series)\n"
   ]
  },
  {
   "cell_type": "code",
   "execution_count": null,
   "id": "b0cda257",
   "metadata": {},
   "outputs": [],
   "source": []
  },
  {
   "cell_type": "code",
   "execution_count": null,
   "id": "136a716a",
   "metadata": {},
   "outputs": [],
   "source": []
  },
  {
   "cell_type": "code",
   "execution_count": null,
   "id": "0f569b73",
   "metadata": {},
   "outputs": [],
   "source": []
  },
  {
   "cell_type": "code",
   "execution_count": null,
   "id": "3d2ca1bf",
   "metadata": {},
   "outputs": [],
   "source": []
  },
  {
   "cell_type": "code",
   "execution_count": null,
   "id": "48cea084",
   "metadata": {},
   "outputs": [],
   "source": []
  },
  {
   "cell_type": "code",
   "execution_count": null,
   "id": "ba770071",
   "metadata": {},
   "outputs": [],
   "source": []
  },
  {
   "cell_type": "code",
   "execution_count": null,
   "id": "128bbd3c",
   "metadata": {},
   "outputs": [],
   "source": []
  },
  {
   "cell_type": "code",
   "execution_count": null,
   "id": "229e54bd",
   "metadata": {},
   "outputs": [],
   "source": []
  },
  {
   "cell_type": "code",
   "execution_count": null,
   "id": "c66a9334",
   "metadata": {},
   "outputs": [],
   "source": []
  },
  {
   "cell_type": "code",
   "execution_count": null,
   "id": "29b0c02b",
   "metadata": {},
   "outputs": [],
   "source": []
  },
  {
   "cell_type": "code",
   "execution_count": null,
   "id": "db95d849",
   "metadata": {},
   "outputs": [],
   "source": []
  },
  {
   "cell_type": "code",
   "execution_count": null,
   "id": "7d723d7f",
   "metadata": {},
   "outputs": [],
   "source": []
  },
  {
   "cell_type": "code",
   "execution_count": null,
   "id": "6ed7ab7f",
   "metadata": {},
   "outputs": [],
   "source": []
  },
  {
   "cell_type": "code",
   "execution_count": null,
   "id": "febce380",
   "metadata": {},
   "outputs": [],
   "source": []
  },
  {
   "cell_type": "code",
   "execution_count": null,
   "id": "c4d90eb0",
   "metadata": {},
   "outputs": [],
   "source": []
  },
  {
   "cell_type": "code",
   "execution_count": null,
   "id": "9e813cdc",
   "metadata": {},
   "outputs": [],
   "source": []
  },
  {
   "cell_type": "code",
   "execution_count": null,
   "id": "c6019ec6",
   "metadata": {},
   "outputs": [],
   "source": []
  },
  {
   "cell_type": "code",
   "execution_count": null,
   "id": "fb660dae",
   "metadata": {},
   "outputs": [],
   "source": []
  },
  {
   "cell_type": "code",
   "execution_count": null,
   "id": "d9d6d1c4",
   "metadata": {},
   "outputs": [],
   "source": []
  },
  {
   "cell_type": "code",
   "execution_count": null,
   "id": "52edb0c2",
   "metadata": {},
   "outputs": [],
   "source": []
  },
  {
   "cell_type": "code",
   "execution_count": null,
   "id": "bb565cc1",
   "metadata": {},
   "outputs": [],
   "source": []
  },
  {
   "cell_type": "code",
   "execution_count": null,
   "id": "46142405",
   "metadata": {},
   "outputs": [],
   "source": []
  },
  {
   "cell_type": "code",
   "execution_count": null,
   "id": "f43f29b9",
   "metadata": {},
   "outputs": [],
   "source": []
  },
  {
   "cell_type": "code",
   "execution_count": null,
   "id": "b84d31a7",
   "metadata": {},
   "outputs": [],
   "source": []
  },
  {
   "cell_type": "code",
   "execution_count": null,
   "id": "bbe75ba3",
   "metadata": {},
   "outputs": [],
   "source": []
  }
 ],
 "metadata": {
  "kernelspec": {
   "display_name": "Python 3 (ipykernel)",
   "language": "python",
   "name": "python3"
  },
  "language_info": {
   "codemirror_mode": {
    "name": "ipython",
    "version": 3
   },
   "file_extension": ".py",
   "mimetype": "text/x-python",
   "name": "python",
   "nbconvert_exporter": "python",
   "pygments_lexer": "ipython3",
   "version": "3.11.3"
  }
 },
 "nbformat": 4,
 "nbformat_minor": 5
}
