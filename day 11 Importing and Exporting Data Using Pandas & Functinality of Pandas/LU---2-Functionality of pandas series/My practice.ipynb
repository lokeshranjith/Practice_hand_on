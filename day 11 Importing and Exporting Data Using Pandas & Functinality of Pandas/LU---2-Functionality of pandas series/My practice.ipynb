{
 "cells": [
  {
   "cell_type": "markdown",
   "id": "e9592d7b",
   "metadata": {},
   "source": [
    "# Demo-Functionality of pandas series"
   ]
  },
  {
   "cell_type": "markdown",
   "id": "af94245d",
   "metadata": {},
   "source": [
    "In this demo, you will be shown how to create series in Python and use various attributes and functionality of series using Pandas"
   ]
  },
  {
   "cell_type": "markdown",
   "id": "65ce1347",
   "metadata": {},
   "source": [
    "1) Create a panas series from a list x=[13,-5,7,19]\n",
    "2) Create a series using a numpy array having values [23,3.0,7,11] an d specifying index values as \"a,b,c,d\"\n",
    "3) Get thee values and indexx of the series of the above series\n",
    "4) Access individual elements of the string\n",
    "5) Assign new values to the elements"
   ]
  },
  {
   "cell_type": "code",
   "execution_count": 1,
   "id": "c058b8ed",
   "metadata": {},
   "outputs": [],
   "source": [
    "import numpy as np\n",
    "import pandas as pd"
   ]
  },
  {
   "cell_type": "code",
   "execution_count": 3,
   "id": "80517a16",
   "metadata": {},
   "outputs": [
    {
     "name": "stdout",
     "output_type": "stream",
     "text": [
      "0    13\n",
      "1    -5\n",
      "2     7\n",
      "3    19\n",
      "dtype: int64\n"
     ]
    }
   ],
   "source": [
    "x=[13,-5,7,19]\n",
    "s1=pd.Series(x)\n",
    "print(s1)"
   ]
  },
  {
   "cell_type": "code",
   "execution_count": 7,
   "id": "a94bf511",
   "metadata": {},
   "outputs": [
    {
     "name": "stdout",
     "output_type": "stream",
     "text": [
      "a    23.0\n",
      "b     3.0\n",
      "c     7.0\n",
      "d    11.0\n",
      "dtype: float64\n",
      "\n",
      " float64\n"
     ]
    }
   ],
   "source": [
    "y=np.array([23,3.0,7,11])\n",
    "s2=pd.Series(y,index=['a','b','c','d'])\n",
    "print(s2)\n",
    "print('\\n',s2.dtype)"
   ]
  },
  {
   "cell_type": "code",
   "execution_count": 8,
   "id": "e86dd355",
   "metadata": {},
   "outputs": [
    {
     "name": "stdout",
     "output_type": "stream",
     "text": [
      "Values : [23.  3.  7. 11.]\n",
      "Index : Index(['a', 'b', 'c', 'd'], dtype='object')\n"
     ]
    }
   ],
   "source": [
    "print(\"Values :\",s2.values)\n",
    "print(\"Index :\",s2.index)"
   ]
  },
  {
   "cell_type": "code",
   "execution_count": 12,
   "id": "910d3534",
   "metadata": {},
   "outputs": [
    {
     "name": "stdout",
     "output_type": "stream",
     "text": [
      "Third element : 7.0\n",
      "First two element :\n",
      "\n",
      "a    23.0\n",
      "b     3.0\n",
      "dtype: float64\n",
      "Element having index 'd':\n",
      "11.0\n"
     ]
    }
   ],
   "source": [
    "print(\"Third element :\",s2[2])\n",
    "print(\"First two element :\\n\")\n",
    "print(s2[0:2])\n",
    "print(\"Element having index 'd':\")\n",
    "print(s2['d'])"
   ]
  },
  {
   "cell_type": "code",
   "execution_count": 17,
   "id": "e1b5a117",
   "metadata": {},
   "outputs": [
    {
     "name": "stdout",
     "output_type": "stream",
     "text": [
      "a is: 23.0\n",
      "valeu is: 11.0\n"
     ]
    }
   ],
   "source": [
    "print('a is:',s2['a'])\n",
    "print(\"valeu is:\",s2[3])"
   ]
  },
  {
   "cell_type": "code",
   "execution_count": 19,
   "id": "f93a8cf9",
   "metadata": {},
   "outputs": [
    {
     "name": "stdout",
     "output_type": "stream",
     "text": [
      "a    23.0\n",
      "b     3.0\n",
      "c     7.0\n",
      "d    11.0\n",
      "dtype: float64\n"
     ]
    }
   ],
   "source": [
    "print(s2)"
   ]
  },
  {
   "cell_type": "code",
   "execution_count": 21,
   "id": "10566f43",
   "metadata": {},
   "outputs": [],
   "source": [
    "s2['a']=10"
   ]
  },
  {
   "cell_type": "code",
   "execution_count": 22,
   "id": "56142885",
   "metadata": {},
   "outputs": [],
   "source": [
    "s2[1]=99999"
   ]
  },
  {
   "cell_type": "code",
   "execution_count": 23,
   "id": "a7a0e115",
   "metadata": {},
   "outputs": [
    {
     "name": "stdout",
     "output_type": "stream",
     "text": [
      "a       10.0\n",
      "b    99999.0\n",
      "c        7.0\n",
      "d       11.0\n",
      "dtype: float64\n"
     ]
    }
   ],
   "source": [
    "print(s2)"
   ]
  },
  {
   "cell_type": "markdown",
   "id": "7d5b4e00",
   "metadata": {},
   "source": [
    "# Queation: 2\n"
   ]
  },
  {
   "cell_type": "markdown",
   "id": "7bf5a8a6",
   "metadata": {},
   "source": [
    "    From the raw data below create a pandas series\n",
    "   'Amit','Bob','Kate','A','B',np.nan,'Car','dog','Cat'\n",
    "   1) print all element in lower case\n",
    "   2) print all element in upper case\n",
    "   3) print the length of the element"
   ]
  },
  {
   "cell_type": "code",
   "execution_count": 72,
   "id": "a4ad87ab",
   "metadata": {},
   "outputs": [
    {
     "name": "stdout",
     "output_type": "stream",
     "text": [
      "Lower case:\n",
      "\n",
      "0    amit\n",
      "1     bob\n",
      "2    kate\n",
      "3       a\n",
      "4       b\n",
      "5     NaN\n",
      "6     car\n",
      "7     dog\n",
      "8     cat\n",
      "dtype: object \n",
      "\n",
      "Upper case :\n",
      "\n",
      " 0    AMIT\n",
      "1     BOB\n",
      "2    KATE\n",
      "3       A\n",
      "4       B\n",
      "5     NaN\n",
      "6     CAR\n",
      "7     DOG\n",
      "8     CAT\n",
      "dtype: object\n",
      "\n",
      " Length of str :\n",
      "\n",
      " 0    4.0\n",
      "1    3.0\n",
      "2    4.0\n",
      "3    1.0\n",
      "4    1.0\n",
      "5    NaN\n",
      "6    3.0\n",
      "7    3.0\n",
      "8    3.0\n",
      "dtype: float64\n"
     ]
    }
   ],
   "source": [
    "s=pd.Series(['Amit','Bob','Kate','A','B',np.nan,'Car','dog','Cat'])\n",
    "print(\"Lower case:\\n\")\n",
    "print(s.str.lower(),'\\n')\n",
    "\n",
    "print(\"Upper case :\")\n",
    "print('\\n',s.str.upper())\n",
    "print(\"\\n\",\"Length of str :\")\n",
    "print('\\n',s.str.len())"
   ]
  },
  {
   "cell_type": "markdown",
   "id": "24ae1ae5",
   "metadata": {},
   "source": [
    "# Question:3\n",
    " \n",
    "   From the raw data below create a pd series \n",
    " ' Arya', 'John ', ' jack ', 'Sam'\n",
    " 1) Stripping spaces form the left and right\n",
    " 2) Stripping spaces form the left only\n",
    " 3) Stripping spaces form the right only"
   ]
  },
  {
   "cell_type": "code",
   "execution_count": 57,
   "id": "10338e01",
   "metadata": {},
   "outputs": [
    {
     "name": "stdout",
     "output_type": "stream",
     "text": [
      "Index([' Arya', 'John ', ' jack ', 'Sam'], dtype='object')\n"
     ]
    }
   ],
   "source": [
    "# 3.1\n",
    "s = pd.Index([' Arya', 'John ', ' jack ', 'Sam'])\n",
    "\n",
    "print(s) "
   ]
  },
  {
   "cell_type": "code",
   "execution_count": 68,
   "id": "9e5fd15c",
   "metadata": {},
   "outputs": [
    {
     "name": "stdout",
     "output_type": "stream",
     "text": [
      "Index([' Ae', 'Jo', 'Kx', 'sm'], dtype='object')\n"
     ]
    }
   ],
   "source": [
    "m=pd.Index([' Ae','Jo','Kx','sm'])\n",
    "print(m)"
   ]
  },
  {
   "cell_type": "code",
   "execution_count": 69,
   "id": "ebff4bf6",
   "metadata": {},
   "outputs": [
    {
     "data": {
      "text/plain": [
       "Index(['Ae', 'Jo', 'Kx', 'sm'], dtype='object')"
      ]
     },
     "execution_count": 69,
     "metadata": {},
     "output_type": "execute_result"
    }
   ],
   "source": [
    "m.str.strip()"
   ]
  },
  {
   "cell_type": "code",
   "execution_count": 73,
   "id": "e1fade9c",
   "metadata": {},
   "outputs": [
    {
     "data": {
      "text/plain": [
       "Index(['Ae', 'Jo', 'Kx', 'sm'], dtype='object')"
      ]
     },
     "execution_count": 73,
     "metadata": {},
     "output_type": "execute_result"
    }
   ],
   "source": [
    "m.str.lstrip()"
   ]
  },
  {
   "cell_type": "code",
   "execution_count": 74,
   "id": "e274ae5b",
   "metadata": {},
   "outputs": [
    {
     "data": {
      "text/plain": [
       "Index([' Ae', 'Jo', 'Kx', 'sm'], dtype='object')"
      ]
     },
     "execution_count": 74,
     "metadata": {},
     "output_type": "execute_result"
    }
   ],
   "source": [
    "m.str.rstrip()"
   ]
  }
 ],
 "metadata": {
  "kernelspec": {
   "display_name": "Python 3 (ipykernel)",
   "language": "python",
   "name": "python3"
  },
  "language_info": {
   "codemirror_mode": {
    "name": "ipython",
    "version": 3
   },
   "file_extension": ".py",
   "mimetype": "text/x-python",
   "name": "python",
   "nbconvert_exporter": "python",
   "pygments_lexer": "ipython3",
   "version": "3.11.3"
  }
 },
 "nbformat": 4,
 "nbformat_minor": 5
}
