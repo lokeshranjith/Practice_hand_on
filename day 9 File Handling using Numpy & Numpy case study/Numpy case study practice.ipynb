{
 "cells": [
  {
   "cell_type": "code",
   "execution_count": 13,
   "id": "5ad3a952",
   "metadata": {},
   "outputs": [],
   "source": [
    "import numpy as np\n",
    "import random "
   ]
  },
  {
   "cell_type": "code",
   "execution_count": 14,
   "id": "7b2e9210",
   "metadata": {},
   "outputs": [
    {
     "name": "stdout",
     "output_type": "stream",
     "text": [
      "[1301 1302 1303 1304 1305 1306 1307 1308 1309 1310]\n"
     ]
    },
    {
     "data": {
      "text/plain": [
       "1000"
      ]
     },
     "execution_count": 14,
     "metadata": {},
     "output_type": "execute_result"
    }
   ],
   "source": [
    "movie_id=np.arange(1301,2301)\n",
    "print(movie_id[:10])\n",
    "movie_id.size"
   ]
  },
  {
   "cell_type": "code",
   "execution_count": 22,
   "id": "05af9142",
   "metadata": {},
   "outputs": [],
   "source": [
    "user_id=[]\n",
    "for i in range(20201,20301):\n",
    "    user_id.append(i)\n",
    "user_id=np.array(user_id)"
   ]
  },
  {
   "cell_type": "code",
   "execution_count": 24,
   "id": "e4f65e23",
   "metadata": {},
   "outputs": [
    {
     "data": {
      "text/plain": [
       "100"
      ]
     },
     "execution_count": 24,
     "metadata": {},
     "output_type": "execute_result"
    }
   ],
   "source": [
    "user_id.size"
   ]
  },
  {
   "cell_type": "code",
   "execution_count": 25,
   "id": "03c24aec",
   "metadata": {},
   "outputs": [
    {
     "data": {
      "text/plain": [
       "array([20201, 20202, 20203, 20204, 20205, 20206, 20207, 20208, 20209,\n",
       "       20210, 20211, 20212, 20213, 20214, 20215, 20216, 20217, 20218,\n",
       "       20219, 20220, 20221, 20222, 20223, 20224, 20225, 20226, 20227,\n",
       "       20228, 20229, 20230, 20231, 20232, 20233, 20234, 20235, 20236,\n",
       "       20237, 20238, 20239, 20240, 20241, 20242, 20243, 20244, 20245,\n",
       "       20246, 20247, 20248, 20249, 20250, 20251, 20252, 20253, 20254,\n",
       "       20255, 20256, 20257, 20258, 20259, 20260, 20261, 20262, 20263,\n",
       "       20264, 20265, 20266, 20267, 20268, 20269, 20270, 20271, 20272,\n",
       "       20273, 20274, 20275, 20276, 20277, 20278, 20279, 20280, 20281,\n",
       "       20282, 20283, 20284, 20285, 20286, 20287, 20288, 20289, 20290,\n",
       "       20291, 20292, 20293, 20294, 20295, 20296, 20297, 20298, 20299,\n",
       "       20300])"
      ]
     },
     "execution_count": 25,
     "metadata": {},
     "output_type": "execute_result"
    }
   ],
   "source": [
    "user_id"
   ]
  },
  {
   "cell_type": "code",
   "execution_count": 27,
   "id": "01e46e8c",
   "metadata": {},
   "outputs": [
    {
     "name": "stdout",
     "output_type": "stream",
     "text": [
      "[2 3 7]\n"
     ]
    }
   ],
   "source": [
    "#creating a Single - Dimensional Array\n",
    "arr=np.array([2,3,7])\n",
    "print(arr)"
   ]
  },
  {
   "cell_type": "code",
   "execution_count": 29,
   "id": "b2861a68",
   "metadata": {},
   "outputs": [
    {
     "name": "stdout",
     "output_type": "stream",
     "text": [
      "[[10 20 30]\n",
      " [40 50 60]]\n",
      "<class 'numpy.ndarray'>\n"
     ]
    }
   ],
   "source": [
    "#Creating a Mult-dimensional Array\n",
    "arr=np.array([[10,20,30,],[40,50,60,]])\n",
    "print(arr)\n",
    "print(type(arr))"
   ]
  },
  {
   "cell_type": "code",
   "execution_count": 30,
   "id": "aace43ea",
   "metadata": {},
   "outputs": [
    {
     "data": {
      "text/plain": [
       "array([[5, 5, 5],\n",
       "       [5, 5, 5]])"
      ]
     },
     "execution_count": 30,
     "metadata": {},
     "output_type": "execute_result"
    }
   ],
   "source": [
    "# Using np.full()\n",
    "X=np.full((2,3),5)\n",
    "X"
   ]
  },
  {
   "cell_type": "code",
   "execution_count": 33,
   "id": "d691ea1c",
   "metadata": {},
   "outputs": [
    {
     "name": "stdout",
     "output_type": "stream",
     "text": [
      "[ 0.  5. 10. 15. 20.]\n"
     ]
    }
   ],
   "source": [
    "#Using np.linspace()\n",
    "arr=np.linspace(0,20,5)#Returns a Linearly-Spaced Vector spacing\n",
    "print(arr)"
   ]
  },
  {
   "cell_type": "markdown",
   "id": "e196c414",
   "metadata": {},
   "source": [
    "#### Task 2: Create a matrix movies_matrix, to store users rating such that"
   ]
  },
  {
   "cell_type": "code",
   "execution_count": 34,
   "id": "010126f2",
   "metadata": {},
   "outputs": [],
   "source": [
    "import random"
   ]
  },
  {
   "cell_type": "code",
   "execution_count": 39,
   "id": "40db3d2c",
   "metadata": {},
   "outputs": [],
   "source": [
    "import random\n",
    "movie_matrix = []\n",
    "for user in range(100):\n",
    "    movies_rated_by_me = np.full(1000,-1)\n",
    "    num_movies_rated = random.randint(0,999)\n",
    "    #random.seed(num_movies_rated)\n",
    "    movies_that_i_will_rate = random.sample(range(0,1000),num_movies_rated)\n",
    "    #user rating for movies they chosed to rate\n",
    "    for index in movies_that_i_will_rate:\n",
    "        movies_rated_by_me[index] = random.randint(0,10)\n",
    "        movie_matrix.append(movies_rated_by_me)\n",
    "\n"
   ]
  },
  {
   "cell_type": "code",
   "execution_count": 38,
   "id": "93549c8a",
   "metadata": {},
   "outputs": [
    {
     "ename": "NameError",
     "evalue": "name 'num_movies_rated' is not defined",
     "output_type": "error",
     "traceback": [
      "\u001b[1;31m---------------------------------------------------------------------------\u001b[0m",
      "\u001b[1;31mNameError\u001b[0m                                 Traceback (most recent call last)",
      "Cell \u001b[1;32mIn[38], line 6\u001b[0m\n\u001b[0;32m      4\u001b[0m num_moive_rated\u001b[38;5;241m=\u001b[39mrandom\u001b[38;5;241m.\u001b[39mrandint(\u001b[38;5;241m0\u001b[39m,\u001b[38;5;241m999\u001b[39m)\n\u001b[0;32m      5\u001b[0m \u001b[38;5;66;03m#random.seed(nim_movie_rated)\u001b[39;00m\n\u001b[1;32m----> 6\u001b[0m movie_that_i_will_rate\u001b[38;5;241m=\u001b[39mrandom\u001b[38;5;241m.\u001b[39msample(\u001b[38;5;28mrange\u001b[39m(\u001b[38;5;241m0\u001b[39m,\u001b[38;5;241m1000\u001b[39m),num_movies_rated)\n\u001b[0;32m      7\u001b[0m \u001b[38;5;66;03m#user rating for movies they chosed to rate \u001b[39;00m\n\u001b[0;32m      8\u001b[0m \u001b[38;5;28;01mfor\u001b[39;00m index \u001b[38;5;129;01min\u001b[39;00m movies_that_i_will_rate:\n",
      "\u001b[1;31mNameError\u001b[0m: name 'num_movies_rated' is not defined"
     ]
    }
   ],
   "source": [
    "movie_matrix=[]\n",
    "for user in range(100):\n",
    "    movie_rated_by_me=np.full(1000,-1)\n",
    "    num_moive_rated=random.randint(0,999)\n",
    "    #random.seed(nim_movie_rated)\n",
    "    movie_that_i_will_rate=random.sample(range(0,1000),num_movies_rated)\n",
    "    #user rating for movies they chosed to rate \n",
    "    for index in movies_that_i_will_rate:\n",
    "        movies_rated_by_me[index]=random.randint(0,10)\n",
    "        movie_matrix.append(movies_rated_by_me)"
   ]
  },
  {
   "cell_type": "code",
   "execution_count": null,
   "id": "b1e9f0da",
   "metadata": {},
   "outputs": [],
   "source": []
  }
 ],
 "metadata": {
  "kernelspec": {
   "display_name": "Python 3 (ipykernel)",
   "language": "python",
   "name": "python3"
  },
  "language_info": {
   "codemirror_mode": {
    "name": "ipython",
    "version": 3
   },
   "file_extension": ".py",
   "mimetype": "text/x-python",
   "name": "python",
   "nbconvert_exporter": "python",
   "pygments_lexer": "ipython3",
   "version": "3.11.3"
  }
 },
 "nbformat": 4,
 "nbformat_minor": 5
}
