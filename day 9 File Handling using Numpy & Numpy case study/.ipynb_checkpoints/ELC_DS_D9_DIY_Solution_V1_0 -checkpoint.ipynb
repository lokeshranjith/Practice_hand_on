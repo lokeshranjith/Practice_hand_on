{
 "cells": [
  {
   "cell_type": "markdown",
   "metadata": {
    "id": "6_YTV1gSWU7u"
   },
   "source": [
    "##Day 9 - DIY Solution"
   ]
  },
  {
   "cell_type": "markdown",
   "metadata": {
    "id": "KNbvtkQfXAFq"
   },
   "source": [
    "**Q1. Problem Statement: Understanding File Operations**\n",
    "\n",
    "Write a Python program that reads text from a poem.txt file (Provided on the LMS) in read-only mode and prints it line-by-line.\n"
   ]
  },
  {
   "cell_type": "code",
   "execution_count": 1,
   "metadata": {
    "colab": {
     "base_uri": "https://localhost:8080/"
    },
    "id": "reP54njlXJru",
    "outputId": "a386d2e0-e15b-4439-ffa9-c7b88317568a"
   },
   "outputs": [
    {
     "ename": "UnicodeDecodeError",
     "evalue": "'charmap' codec can't decode byte 0x9d in position 267: character maps to <undefined>",
     "output_type": "error",
     "traceback": [
      "\u001b[1;31m---------------------------------------------------------------------------\u001b[0m",
      "\u001b[1;31mUnicodeDecodeError\u001b[0m                        Traceback (most recent call last)",
      "Cell \u001b[1;32mIn[1], line 3\u001b[0m\n\u001b[0;32m      1\u001b[0m \u001b[38;5;66;03m#Reading a text file\u001b[39;00m\n\u001b[0;32m      2\u001b[0m file \u001b[38;5;241m=\u001b[39m \u001b[38;5;28mopen\u001b[39m(\u001b[38;5;124m\"\u001b[39m\u001b[38;5;124mPoem.txt\u001b[39m\u001b[38;5;124m\"\u001b[39m,\u001b[38;5;124m\"\u001b[39m\u001b[38;5;124mr\u001b[39m\u001b[38;5;124m\"\u001b[39m)\n\u001b[1;32m----> 3\u001b[0m \u001b[38;5;28;01mfor\u001b[39;00m line \u001b[38;5;129;01min\u001b[39;00m file:\n\u001b[0;32m      4\u001b[0m     \u001b[38;5;28mprint\u001b[39m(line, end\u001b[38;5;241m=\u001b[39m\u001b[38;5;124m\"\u001b[39m\u001b[38;5;124m\"\u001b[39m)\n\u001b[0;32m      5\u001b[0m file\u001b[38;5;241m.\u001b[39mclose()\n",
      "File \u001b[1;32mC:\\ProgramData\\anaconda3\\Lib\\encodings\\cp1252.py:23\u001b[0m, in \u001b[0;36mIncrementalDecoder.decode\u001b[1;34m(self, input, final)\u001b[0m\n\u001b[0;32m     22\u001b[0m \u001b[38;5;28;01mdef\u001b[39;00m \u001b[38;5;21mdecode\u001b[39m(\u001b[38;5;28mself\u001b[39m, \u001b[38;5;28minput\u001b[39m, final\u001b[38;5;241m=\u001b[39m\u001b[38;5;28;01mFalse\u001b[39;00m):\n\u001b[1;32m---> 23\u001b[0m     \u001b[38;5;28;01mreturn\u001b[39;00m codecs\u001b[38;5;241m.\u001b[39mcharmap_decode(\u001b[38;5;28minput\u001b[39m,\u001b[38;5;28mself\u001b[39m\u001b[38;5;241m.\u001b[39merrors,decoding_table)[\u001b[38;5;241m0\u001b[39m]\n",
      "\u001b[1;31mUnicodeDecodeError\u001b[0m: 'charmap' codec can't decode byte 0x9d in position 267: character maps to <undefined>"
     ]
    }
   ],
   "source": [
    "#Reading a text file\n",
    "file = open(\"Poem.txt\",\"r\")\n",
    "for line in file:\n",
    "    print(line, end=\"\")\n",
    "file.close()"
   ]
  },
  {
   "cell_type": "markdown",
   "metadata": {
    "id": "A6Q4wIVJWZes"
   },
   "source": [
    "**Q2. Problem Statement: Modifying Text File using Python**\n",
    "\n",
    "Write a Python program that opens the poem.txt file (Provided on the LMS). Replace all the words in the poem, starting from “J” to “K,” and print the new version of the poem.\n"
   ]
  },
  {
   "cell_type": "code",
   "execution_count": null,
   "metadata": {
    "colab": {
     "base_uri": "https://localhost:8080/"
    },
    "id": "-y2vQYEqWCKw",
    "outputId": "a558cc16-24e6-4094-9e32-6aca93e631a6"
   },
   "outputs": [
    {
     "name": "stdout",
     "output_type": "stream",
     "text": [
      "Kack and Kill went up the hill\n",
      "To fetch a pail of water.\n",
      "Kack fell down and broke his crown,\n",
      "And Kill came tumbling after.\n",
      "Then up got Kack and said to Kill,\n",
      "As in his arms he took her,\n",
      "“Brush off that dirt for you’re not hurt,\n",
      "Let’s fetch that pail of water.”\n",
      "So Kack and Kill went up the hill\n",
      "To fetch the pail of water,\n",
      "And took it home to Mother dear,\n",
      "Who thanked her son and daughter.\n",
      "\n"
     ]
    }
   ],
   "source": [
    "file = open(\"/content/Poem.txt\",\"r\")\n",
    "data = file.read()\n",
    "for letter in data:\n",
    "    if letter == 'J':\n",
    "        print(\"K\",end=\"\")\n",
    "    else:\n",
    "        print(letter,end=\"\")\n",
    "file.close()"
   ]
  }
 ],
 "metadata": {
  "colab": {
   "collapsed_sections": [],
   "name": "DS_D9_DIY_Solution_V1.0.ipynb",
   "provenance": []
  },
  "kernelspec": {
   "display_name": "Python 3 (ipykernel)",
   "language": "python",
   "name": "python3"
  },
  "language_info": {
   "codemirror_mode": {
    "name": "ipython",
    "version": 3
   },
   "file_extension": ".py",
   "mimetype": "text/x-python",
   "name": "python",
   "nbconvert_exporter": "python",
   "pygments_lexer": "ipython3",
   "version": "3.11.3"
  }
 },
 "nbformat": 4,
 "nbformat_minor": 1
}
