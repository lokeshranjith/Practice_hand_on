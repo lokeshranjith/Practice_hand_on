{
 "cells": [
  {
   "cell_type": "markdown",
   "id": "961c4a2c",
   "metadata": {},
   "source": [
    "## lambda fuction is the Anonymous Function"
   ]
  },
  {
   "cell_type": "markdown",
   "id": "c76fbfd3",
   "metadata": {},
   "source": [
    "### Uses\n",
    "#### * lambda is a function that takes in other function as argument \n",
    "#### * in python, we generally use it as an argument to a higher_order function\n",
    "#### * lambda function are used a long with built-in fuctions like filter(), map()\n"
   ]
  },
  {
   "cell_type": "markdown",
   "id": "e4582324",
   "metadata": {},
   "source": [
    "## Syntax\n",
    "### f=lambda parameters:expression\n",
    "##### f=Function that accepts and stores the result of the expression\n",
    "##### lambda=Every lambda function beings with the \"lambda keywords\"\n",
    "##### parameter=lambda function can have multiple arguments/parameters separated by commas\n",
    "##### : = A colon is added after the arguments\n",
    "##### expressions =The expressionis the one which  returns an object"
   ]
  },
  {
   "cell_type": "markdown",
   "id": "ee5c2f4c",
   "metadata": {},
   "source": [
    "### Example:lanbda Function"
   ]
  },
  {
   "cell_type": "code",
   "execution_count": 16,
   "id": "37a7a9cd",
   "metadata": {},
   "outputs": [
    {
     "name": "stdout",
     "output_type": "stream",
     "text": [
      "30\n"
     ]
    }
   ],
   "source": [
    "sum=lambda x,y:x+y\n",
    "print(sum(10,20))"
   ]
  },
  {
   "cell_type": "code",
   "execution_count": 17,
   "id": "37ff2f95",
   "metadata": {},
   "outputs": [
    {
     "name": "stdout",
     "output_type": "stream",
     "text": [
      "200\n"
     ]
    }
   ],
   "source": [
    "mult=lambda a,b:a*b\n",
    "print(mult(10,20))"
   ]
  },
  {
   "cell_type": "code",
   "execution_count": 31,
   "id": "1d906c4f",
   "metadata": {},
   "outputs": [
    {
     "name": "stdout",
     "output_type": "stream",
     "text": [
      "[2, 4, 20, 10]\n"
     ]
    }
   ],
   "source": [
    "my_list=[1,2,4,3,5,9,5,20,10]\n",
    "new_list=list(filter(lambda num:(num%2==0),my_list))\n",
    "print(new_list)"
   ]
  },
  {
   "cell_type": "code",
   "execution_count": 32,
   "id": "a3848cd4",
   "metadata": {},
   "outputs": [
    {
     "name": "stdout",
     "output_type": "stream",
     "text": [
      "[10, 14, 44, 194, 46, 84, 108, 46, 44, 468]\n"
     ]
    }
   ],
   "source": [
    "my=[5,7,22,97,23,42,54,23,22,234]\n",
    "new=list(map(lambda x:x*2,my))\n",
    "print(new)"
   ]
  },
  {
   "cell_type": "code",
   "execution_count": 51,
   "id": "db42ea57",
   "metadata": {},
   "outputs": [
    {
     "name": "stdout",
     "output_type": "stream",
     "text": [
      "hello world\n"
     ]
    }
   ],
   "source": [
    "message=lambda : print(\"hello world\")\n",
    "message()"
   ]
  },
  {
   "cell_type": "code",
   "execution_count": 53,
   "id": "2d720dd2",
   "metadata": {},
   "outputs": [
    {
     "name": "stdout",
     "output_type": "stream",
     "text": [
      "happy morning lokesh\n"
     ]
    }
   ],
   "source": [
    "greeting=lambda name:print('happy morning',name)\n",
    "greeting(\"lokesh\")"
   ]
  },
  {
   "cell_type": "code",
   "execution_count": 59,
   "id": "d4590b4a",
   "metadata": {},
   "outputs": [
    {
     "name": "stdout",
     "output_type": "stream",
     "text": [
      "HAPPY MORNING\n"
     ]
    }
   ],
   "source": [
    "string='happy morning'\n",
    "upper=lambda string:string.upper()\n",
    "a=upper(string)\n",
    "print(a)"
   ]
  },
  {
   "cell_type": "code",
   "execution_count": 64,
   "id": "0b4f7373",
   "metadata": {},
   "outputs": [
    {
     "name": "stdout",
     "output_type": "stream",
     "text": [
      "lokesh\n"
     ]
    }
   ],
   "source": [
    "name='LOKESH'\n",
    "fun=lambda x:x.lower()\n",
    "print(fun(name))"
   ]
  },
  {
   "cell_type": "code",
   "execution_count": 65,
   "id": "3f6492a5",
   "metadata": {},
   "outputs": [
    {
     "name": "stdout",
     "output_type": "stream",
     "text": [
      "HAPPY BIRTHDAY\n"
     ]
    }
   ],
   "source": [
    "var=\"happy birthday\"\n",
    "greet=lambda x:x.upper()\n",
    "print(greet(var))"
   ]
  },
  {
   "cell_type": "code",
   "execution_count": 67,
   "id": "d50e9eab",
   "metadata": {},
   "outputs": [
    {
     "name": "stdout",
     "output_type": "stream",
     "text": [
      "cube values is :  125\n"
     ]
    }
   ],
   "source": [
    "cube=lambda x:x*x*x\n",
    "c=cube(5)\n",
    "print(\"cube values is : \",c)"
   ]
  },
  {
   "cell_type": "code",
   "execution_count": 69,
   "id": "9f1b8535",
   "metadata": {},
   "outputs": [
    {
     "name": "stdout",
     "output_type": "stream",
     "text": [
      "Enter the values ::lokesh\n",
      "happy birthday my dear:: LOKESH\n"
     ]
    }
   ],
   "source": [
    "c=input(\"Enter the values ::\")\n",
    "f=lambda x:x.upper()\n",
    "d=f(c)\n",
    "print(\"happy birthday my dear::\",d)"
   ]
  },
  {
   "cell_type": "code",
   "execution_count": 73,
   "id": "382b7f22",
   "metadata": {},
   "outputs": [
    {
     "name": "stdout",
     "output_type": "stream",
     "text": [
      "200\n"
     ]
    }
   ],
   "source": [
    "c=lambda a,b:a*b\n",
    "print(c(10,20))"
   ]
  },
  {
   "cell_type": "code",
   "execution_count": 72,
   "id": "d462d7a4",
   "metadata": {},
   "outputs": [
    {
     "name": "stdout",
     "output_type": "stream",
     "text": [
      "200\n"
     ]
    }
   ],
   "source": [
    "kk=(lambda a,b:a*b)(10,20)\n",
    "print(kk)"
   ]
  },
  {
   "cell_type": "code",
   "execution_count": null,
   "id": "aa35db4a",
   "metadata": {},
   "outputs": [],
   "source": [
    "l1=[4,2,13,21,5]\n",
    "l2=[]\n",
    "for i in l1:\n",
    "    tem=lambda i:i**2\n",
    "    l2.append(tem(i))\n",
    "print(l1)"
   ]
  },
  {
   "cell_type": "code",
   "execution_count": 89,
   "id": "b39dd7fb",
   "metadata": {},
   "outputs": [
    {
     "name": "stdout",
     "output_type": "stream",
     "text": [
      "12\n"
     ]
    }
   ],
   "source": [
    "def add(x):\n",
    "    return (lambda y:x+y)\n",
    "t=add(4)\n",
    "print(t(8))"
   ]
  },
  {
   "cell_type": "code",
   "execution_count": 90,
   "id": "7cc15e9a",
   "metadata": {},
   "outputs": [
    {
     "data": {
      "text/plain": [
       "420"
      ]
     },
     "execution_count": 90,
     "metadata": {},
     "output_type": "execute_result"
    }
   ],
   "source": [
    "high_order=lambda x,fun:x+fun(x)\n",
    "high_order(20,lambda x:x*x)"
   ]
  },
  {
   "cell_type": "code",
   "execution_count": null,
   "id": "337dbc3e",
   "metadata": {},
   "outputs": [],
   "source": []
  }
 ],
 "metadata": {
  "kernelspec": {
   "display_name": "Python 3 (ipykernel)",
   "language": "python",
   "name": "python3"
  },
  "language_info": {
   "codemirror_mode": {
    "name": "ipython",
    "version": 3
   },
   "file_extension": ".py",
   "mimetype": "text/x-python",
   "name": "python",
   "nbconvert_exporter": "python",
   "pygments_lexer": "ipython3",
   "version": "3.11.3"
  }
 },
 "nbformat": 4,
 "nbformat_minor": 5
}
