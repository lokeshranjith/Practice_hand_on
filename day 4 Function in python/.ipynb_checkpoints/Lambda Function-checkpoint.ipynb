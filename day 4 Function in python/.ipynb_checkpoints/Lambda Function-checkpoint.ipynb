{
 "cells": [
  {
   "cell_type": "markdown",
   "id": "961c4a2c",
   "metadata": {},
   "source": [
    "## lambda fuction is the Anonymous Function"
   ]
  },
  {
   "cell_type": "markdown",
   "id": "c76fbfd3",
   "metadata": {},
   "source": [
    "### Uses\n",
    "#### * lambda is a function that takes in other function as argument \n",
    "#### * in python, we generally use it as an argument to a higher_order function\n",
    "#### * lambda function are used a long with built-in fuctions like filter(), map()\n"
   ]
  },
  {
   "cell_type": "markdown",
   "id": "e4582324",
   "metadata": {},
   "source": [
    "## Syntax\n",
    "### f=lambda parameters:expression\n",
    "##### f=Function that accepts and stores the result of the expression\n",
    "##### lambda=Every lambda function beings with the \"lambda keywords\"\n",
    "##### parameter=lambda function can have multiple arguments/parameters separated by commas\n",
    "##### : = A colon is added after the arguments\n",
    "##### expressions =The expressionis the one which  returns an object"
   ]
  },
  {
   "cell_type": "markdown",
   "id": "ee5c2f4c",
   "metadata": {},
   "source": [
    "### Example:lambda Function"
   ]
  },
  {
   "cell_type": "code",
   "execution_count": 16,
   "id": "37a7a9cd",
   "metadata": {},
   "outputs": [
    {
     "name": "stdout",
     "output_type": "stream",
     "text": [
      "30\n"
     ]
    }
   ],
   "source": [
    "sum=lambda x,y:x+y\n",
    "print(sum(10,20))"
   ]
  },
  {
   "cell_type": "code",
   "execution_count": 17,
   "id": "37ff2f95",
   "metadata": {},
   "outputs": [
    {
     "name": "stdout",
     "output_type": "stream",
     "text": [
      "200\n"
     ]
    }
   ],
   "source": [
    "mult=lambda a,b:a*b\n",
    "print(mult(10,20))"
   ]
  },
  {
   "cell_type": "code",
   "execution_count": 31,
   "id": "1d906c4f",
   "metadata": {},
   "outputs": [
    {
     "name": "stdout",
     "output_type": "stream",
     "text": [
      "[2, 4, 20, 10]\n"
     ]
    }
   ],
   "source": [
    "my_list=[1,2,4,3,5,9,5,20,10]\n",
    "new_list=list(filter(lambda num:(num%2==0),my_list))\n",
    "print(new_list)"
   ]
  },
  {
   "cell_type": "code",
   "execution_count": 32,
   "id": "a3848cd4",
   "metadata": {},
   "outputs": [
    {
     "name": "stdout",
     "output_type": "stream",
     "text": [
      "[10, 14, 44, 194, 46, 84, 108, 46, 44, 468]\n"
     ]
    }
   ],
   "source": [
    "my=[5,7,22,97,23,42,54,23,22,234]\n",
    "new=list(map(lambda x:x*2,my))\n",
    "print(new)"
   ]
  },
  {
   "cell_type": "code",
   "execution_count": 51,
   "id": "db42ea57",
   "metadata": {},
   "outputs": [
    {
     "name": "stdout",
     "output_type": "stream",
     "text": [
      "hello world\n"
     ]
    }
   ],
   "source": [
    "message=lambda : print(\"hello world\")\n",
    "message()"
   ]
  },
  {
   "cell_type": "code",
   "execution_count": 53,
   "id": "2d720dd2",
   "metadata": {},
   "outputs": [
    {
     "name": "stdout",
     "output_type": "stream",
     "text": [
      "happy morning lokesh\n"
     ]
    }
   ],
   "source": [
    "greeting=lambda name:print('happy morning',name)\n",
    "greeting(\"lokesh\")"
   ]
  },
  {
   "cell_type": "code",
   "execution_count": 59,
   "id": "d4590b4a",
   "metadata": {},
   "outputs": [
    {
     "name": "stdout",
     "output_type": "stream",
     "text": [
      "HAPPY MORNING\n"
     ]
    }
   ],
   "source": [
    "string='happy morning'\n",
    "upper=lambda string:string.upper()\n",
    "a=upper(string)\n",
    "print(a)"
   ]
  },
  {
   "cell_type": "code",
   "execution_count": 64,
   "id": "0b4f7373",
   "metadata": {},
   "outputs": [
    {
     "name": "stdout",
     "output_type": "stream",
     "text": [
      "lokesh\n"
     ]
    }
   ],
   "source": [
    "name='LOKESH'\n",
    "fun=lambda x:x.lower()\n",
    "print(fun(name))"
   ]
  },
  {
   "cell_type": "code",
   "execution_count": 65,
   "id": "3f6492a5",
   "metadata": {},
   "outputs": [
    {
     "name": "stdout",
     "output_type": "stream",
     "text": [
      "HAPPY BIRTHDAY\n"
     ]
    }
   ],
   "source": [
    "var=\"happy birthday\"\n",
    "greet=lambda x:x.upper()\n",
    "print(greet(var))"
   ]
  },
  {
   "cell_type": "code",
   "execution_count": 67,
   "id": "d50e9eab",
   "metadata": {},
   "outputs": [
    {
     "name": "stdout",
     "output_type": "stream",
     "text": [
      "cube values is :  125\n"
     ]
    }
   ],
   "source": [
    "cube=lambda x:x*x*x\n",
    "c=cube(5)\n",
    "print(\"cube values is : \",c)"
   ]
  },
  {
   "cell_type": "code",
   "execution_count": 69,
   "id": "9f1b8535",
   "metadata": {},
   "outputs": [
    {
     "name": "stdout",
     "output_type": "stream",
     "text": [
      "Enter the values ::lokesh\n",
      "happy birthday my dear:: LOKESH\n"
     ]
    }
   ],
   "source": [
    "c=input(\"Enter the values ::\")\n",
    "f=lambda x:x.upper()\n",
    "d=f(c)\n",
    "print(\"happy birthday my dear::\",d)"
   ]
  },
  {
   "cell_type": "code",
   "execution_count": 73,
   "id": "382b7f22",
   "metadata": {},
   "outputs": [
    {
     "name": "stdout",
     "output_type": "stream",
     "text": [
      "200\n"
     ]
    }
   ],
   "source": [
    "c=lambda a,b:a*b\n",
    "print(c(10,20))"
   ]
  },
  {
   "cell_type": "code",
   "execution_count": 72,
   "id": "d462d7a4",
   "metadata": {},
   "outputs": [
    {
     "name": "stdout",
     "output_type": "stream",
     "text": [
      "200\n"
     ]
    }
   ],
   "source": [
    "kk=(lambda a,b:a*b)(10,20)\n",
    "print(kk)"
   ]
  },
  {
   "cell_type": "code",
   "execution_count": null,
   "id": "aa35db4a",
   "metadata": {},
   "outputs": [],
   "source": [
    "l1=[4,2,13,21,5]\n",
    "l2=[]\n",
    "for i in l1:\n",
    "    tem=lambda i:i**2\n",
    "    l2.append(tem(i))\n",
    "print(l1)"
   ]
  },
  {
   "cell_type": "code",
   "execution_count": 89,
   "id": "b39dd7fb",
   "metadata": {},
   "outputs": [
    {
     "name": "stdout",
     "output_type": "stream",
     "text": [
      "12\n"
     ]
    }
   ],
   "source": [
    "def add(x):\n",
    "    return (lambda y:x+y)\n",
    "t=add(4)\n",
    "print(t(8))"
   ]
  },
  {
   "cell_type": "raw",
   "id": "29a9e7a3",
   "metadata": {},
   "source": [
    "message=lambda arguments: expression\n",
    "message()"
   ]
  },
  {
   "cell_type": "code",
   "execution_count": 12,
   "id": "d94fba46",
   "metadata": {},
   "outputs": [
    {
     "name": "stdout",
     "output_type": "stream",
     "text": [
      "Hello world\n"
     ]
    }
   ],
   "source": [
    "message=lambda :print(\"Hello world\")\n",
    "message()"
   ]
  },
  {
   "cell_type": "code",
   "execution_count": 21,
   "id": "75654cf8",
   "metadata": {},
   "outputs": [
    {
     "name": "stdout",
     "output_type": "stream",
     "text": [
      "Good morning lokesh\n"
     ]
    }
   ],
   "source": [
    "message=lambda name : print(\"Good morning\",name)\n",
    "message('lokesh')"
   ]
  },
  {
   "cell_type": "code",
   "execution_count": 19,
   "id": "262d1774",
   "metadata": {},
   "outputs": [
    {
     "name": "stdout",
     "output_type": "stream",
     "text": [
      "15\n"
     ]
    }
   ],
   "source": [
    "add=lambda a:a+10\n",
    "print(add(5))"
   ]
  },
  {
   "cell_type": "code",
   "execution_count": 24,
   "id": "97847a54",
   "metadata": {},
   "outputs": [
    {
     "name": "stdout",
     "output_type": "stream",
     "text": [
      "10\n"
     ]
    }
   ],
   "source": [
    "sub=lambda a,b:a-b\n",
    "print(sub(20,10))"
   ]
  },
  {
   "cell_type": "code",
   "execution_count": 27,
   "id": "a5dc90d0",
   "metadata": {},
   "outputs": [
    {
     "name": "stdout",
     "output_type": "stream",
     "text": [
      "30\n",
      "5\n",
      "20\n",
      "2.0\n"
     ]
    }
   ],
   "source": [
    "add=lambda a,b:a+b\n",
    "sub=lambda a,b:a-b\n",
    "mul=lambda a,b:a*b\n",
    "div=lambda a,b:a/b\n",
    "print(add(20,10))\n",
    "print(sub(10,5))\n",
    "print(mul(2,10))\n",
    "print(div(20,10))"
   ]
  },
  {
   "cell_type": "code",
   "execution_count": 28,
   "id": "df344708",
   "metadata": {},
   "outputs": [
    {
     "data": {
      "text/plain": [
       "150"
      ]
     },
     "execution_count": 28,
     "metadata": {},
     "output_type": "execute_result"
    }
   ],
   "source": [
    "z=lambda a,b,c,d,e:a+b+c+d+e\n",
    "z(10,20,30,40,50)"
   ]
  },
  {
   "cell_type": "code",
   "execution_count": 30,
   "id": "732c003a",
   "metadata": {},
   "outputs": [
    {
     "name": "stdout",
     "output_type": "stream",
     "text": [
      "HAPPY LEARNING\n"
     ]
    }
   ],
   "source": [
    "str1=\"happy learning\"\n",
    "c=lambda alph:alph.upper()\n",
    "print(c(str1))"
   ]
  },
  {
   "cell_type": "markdown",
   "id": "619cc693",
   "metadata": {},
   "source": [
    "## user define and high order Function"
   ]
  },
  {
   "cell_type": "code",
   "execution_count": 90,
   "id": "7cc15e9a",
   "metadata": {},
   "outputs": [
    {
     "data": {
      "text/plain": [
       "420"
      ]
     },
     "execution_count": 90,
     "metadata": {},
     "output_type": "execute_result"
    }
   ],
   "source": [
    "high_order=lambda x,fun:x+fun(x)\n",
    "high_order(20,lambda x:x*x)"
   ]
  },
  {
   "cell_type": "code",
   "execution_count": 32,
   "id": "ca688b46",
   "metadata": {},
   "outputs": [
    {
     "name": "stdout",
     "output_type": "stream",
     "text": [
      "13\n"
     ]
    }
   ],
   "source": [
    "x=lambda a,b,c:a+b+c\n",
    "print(x(5,6,2))"
   ]
  },
  {
   "cell_type": "code",
   "execution_count": 36,
   "id": "2ce671ae",
   "metadata": {},
   "outputs": [
    {
     "data": {
      "text/plain": [
       "50"
      ]
     },
     "execution_count": 36,
     "metadata": {},
     "output_type": "execute_result"
    }
   ],
   "source": [
    "add=lambda a=10,b=20:a+b\n",
    "add(30)"
   ]
  },
  {
   "cell_type": "markdown",
   "id": "f5072c61",
   "metadata": {},
   "source": [
    "# *args"
   ]
  },
  {
   "cell_type": "code",
   "execution_count": 38,
   "id": "d020f096",
   "metadata": {},
   "outputs": [
    {
     "name": "stdout",
     "output_type": "stream",
     "text": [
      "300\n"
     ]
    }
   ],
   "source": [
    "add=lambda *args:sum(args)\n",
    "print(add(10,20,30,40,50,150))"
   ]
  },
  {
   "cell_type": "markdown",
   "id": "bfbf9515",
   "metadata": {},
   "source": [
    "## immediately involked function expression, defined and executed immediately"
   ]
  },
  {
   "cell_type": "code",
   "execution_count": 41,
   "id": "80f335eb",
   "metadata": {},
   "outputs": [
    {
     "data": {
      "text/plain": [
       "200"
      ]
     },
     "execution_count": 41,
     "metadata": {},
     "output_type": "execute_result"
    }
   ],
   "source": [
    "(lambda a,b:a*b)(10,20)"
   ]
  },
  {
   "cell_type": "markdown",
   "id": "f8187285",
   "metadata": {},
   "source": [
    "#  lambda with using for loop"
   ]
  },
  {
   "cell_type": "code",
   "execution_count": 48,
   "id": "194fce05",
   "metadata": {},
   "outputs": [
    {
     "name": "stdout",
     "output_type": "stream",
     "text": [
      "[16, 9, 169, 441, 25]\n"
     ]
    }
   ],
   "source": [
    "list1=[4,3,13,21,5]\n",
    "list2=[]\n",
    "\n",
    "for i in list1:\n",
    "    temp=lambda i:i**2\n",
    "    list2.append(temp(i))\n",
    "print(list2)"
   ]
  },
  {
   "cell_type": "markdown",
   "id": "23ae562e",
   "metadata": {},
   "source": [
    "# lambda with user defined functions"
   ]
  },
  {
   "cell_type": "code",
   "execution_count": 52,
   "id": "e8b83459",
   "metadata": {},
   "outputs": [
    {
     "name": "stdout",
     "output_type": "stream",
     "text": [
      "14\n"
     ]
    }
   ],
   "source": [
    "def add(x):\n",
    "    return (lambda y:x+y)\n",
    "t=add(4)\n",
    "print(t(10))"
   ]
  },
  {
   "cell_type": "markdown",
   "id": "23979630",
   "metadata": {},
   "source": [
    "## lambda with higher order functions\n",
    "####  #A function in python with another function as an argument or returns a function as an output"
   ]
  },
  {
   "cell_type": "code",
   "execution_count": 53,
   "id": "ff6be736",
   "metadata": {},
   "outputs": [
    {
     "data": {
      "text/plain": [
       "420"
      ]
     },
     "execution_count": 53,
     "metadata": {},
     "output_type": "execute_result"
    }
   ],
   "source": [
    "high_order=lambda x,fun:x+fun(x)\n",
    "high_order(20,lambda x:x*x)"
   ]
  },
  {
   "cell_type": "markdown",
   "id": "8c31b7ec",
   "metadata": {},
   "source": [
    "sample"
   ]
  },
  {
   "cell_type": "code",
   "execution_count": 55,
   "id": "73b7ffdb",
   "metadata": {},
   "outputs": [
    {
     "name": "stdout",
     "output_type": "stream",
     "text": [
      "['a', 'b', 'c', 'd', 'e', 'f', 'g', 'h', 'i', 'j', 'k', 'l', 'm', 'n', 'o', 'p', 'q', 'r', 's', 't', 'u', 'v', 'w', 'x', 'y', 'z']\n"
     ]
    }
   ],
   "source": [
    "def mul(n):\n",
    "    return (n)\n",
    "number=list('abcdefghijklmnopqrstuvwxyz')\n",
    "number2=[]\n",
    "for i in number:\n",
    "    number2.append(i)\n",
    "print(number2)"
   ]
  },
  {
   "cell_type": "code",
   "execution_count": 67,
   "id": "6be46c70",
   "metadata": {},
   "outputs": [
    {
     "name": "stdout",
     "output_type": "stream",
     "text": [
      "[2, 4, 6, 8, 10]\n"
     ]
    }
   ],
   "source": [
    "def add(n):\n",
    "    return (n+n)\n",
    "number=[1,2,3,4,5]\n",
    "number2=[]\n",
    "for num in number:\n",
    "    number2.append(add(num))\n",
    "print(number2)"
   ]
  },
  {
   "cell_type": "markdown",
   "id": "e4b8a230",
   "metadata": {},
   "source": [
    "# Map Function"
   ]
  },
  {
   "cell_type": "markdown",
   "id": "8e4b2505",
   "metadata": {},
   "source": [
    "### syntax\n",
    "#### map(function,iterables)"
   ]
  },
  {
   "cell_type": "code",
   "execution_count": 71,
   "id": "aff8cd43",
   "metadata": {},
   "outputs": [
    {
     "name": "stdout",
     "output_type": "stream",
     "text": [
      "[2, 4, 6, 8]\n",
      "<map object at 0x0000018E40EA6380>\n"
     ]
    }
   ],
   "source": [
    "def addition(n):\n",
    "    return(n+n)\n",
    "list1=(1,2,3,4)\n",
    "result=map(addition,list1)\n",
    "print(list(result))\n",
    "print(result)"
   ]
  },
  {
   "cell_type": "code",
   "execution_count": 72,
   "id": "5d13fc65",
   "metadata": {},
   "outputs": [
    {
     "name": "stdout",
     "output_type": "stream",
     "text": [
      "[2, 4, 6, 8, 10]\n"
     ]
    }
   ],
   "source": [
    "numbers=(1,2,3,4,5)\n",
    "result=map(lambda x:x+x,numbers)\n",
    "print(list(result))"
   ]
  },
  {
   "cell_type": "code",
   "execution_count": 76,
   "id": "817482fd",
   "metadata": {},
   "outputs": [
    {
     "name": "stdout",
     "output_type": "stream",
     "text": [
      "[50, 70, 90]\n"
     ]
    }
   ],
   "source": [
    "list1=[20,30,40]\n",
    "list2=[30,40,50]\n",
    "result=map(lambda x,y:x+y,list1,list2)\n",
    "print(list(result))\n"
   ]
  },
  {
   "cell_type": "code",
   "execution_count": 79,
   "id": "1d416782",
   "metadata": {},
   "outputs": [
    {
     "name": "stdout",
     "output_type": "stream",
     "text": [
      "['odd', 'even', 'odd', 'even', 'odd']\n"
     ]
    }
   ],
   "source": [
    "def even(num):\n",
    "    if num %2==0:\n",
    "        return \"even\"\n",
    "    else:\n",
    "        return \"odd\"\n",
    "number=[1,2,3,4,5]\n",
    "result=(map(even,number))\n",
    "print(list(result))"
   ]
  },
  {
   "cell_type": "code",
   "execution_count": 95,
   "id": "05f0f250",
   "metadata": {},
   "outputs": [
    {
     "name": "stdout",
     "output_type": "stream",
     "text": [
      "False\n",
      "True\n",
      "False\n",
      "True\n",
      "False\n"
     ]
    }
   ],
   "source": [
    "list1=[1,2,3,4,5]\n",
    "result=(map(lambda x:x%2==0,list1))\n",
    "for num in result:\n",
    "    print(num)"
   ]
  },
  {
   "cell_type": "markdown",
   "id": "c88a9552",
   "metadata": {},
   "source": [
    "# filter()"
   ]
  },
  {
   "cell_type": "markdown",
   "id": "188338c4",
   "metadata": {},
   "source": [
    "### syntax\n",
    "#### filter(function,iterable)"
   ]
  },
  {
   "cell_type": "code",
   "execution_count": 88,
   "id": "e68f70db",
   "metadata": {},
   "outputs": [
    {
     "name": "stdout",
     "output_type": "stream",
     "text": [
      "[2, 4]\n"
     ]
    }
   ],
   "source": [
    "def even(num):\n",
    "    if(num%2==0):\n",
    "        return True\n",
    "    else:\n",
    "        return False\n",
    "number=[1,2,3,4,5]\n",
    "result=list(filter(even,number))\n",
    "print(result)"
   ]
  },
  {
   "cell_type": "code",
   "execution_count": 93,
   "id": "6607fb6e",
   "metadata": {},
   "outputs": [
    {
     "name": "stdout",
     "output_type": "stream",
     "text": [
      "18\n",
      "24\n",
      "32\n"
     ]
    }
   ],
   "source": [
    "ages=[5,12,17,18,24,32]\n",
    "def myfunc(x):\n",
    "    if(x<18):\n",
    "        return False\n",
    "    else:\n",
    "        return True\n",
    "result=filter(myfunc,ages)\n",
    " \n",
    "for i in result:\n",
    "    print(i)"
   ]
  },
  {
   "cell_type": "code",
   "execution_count": 118,
   "id": "cdc3457d",
   "metadata": {},
   "outputs": [
    {
     "name": "stdout",
     "output_type": "stream",
     "text": [
      "\n",
      "Even Number\n",
      "2\n",
      "4\n",
      "12\n",
      "4\n",
      "312\n",
      "\n",
      "Odd Numbber\n",
      "1\n",
      "3\n",
      "5\n",
      "3\n",
      "1\n",
      "21\n",
      "121\n"
     ]
    }
   ],
   "source": [
    "list1=[1,2,3,4,5,12,3,4,1,21,121,312]\n",
    "result=(filter(lambda x:x%2==0,list1))\n",
    "result1=(filter(lambda x:x%2!=0,list1))\n",
    "print(\"\\nEven Number\")\n",
    "for num in result:\n",
    "    print(num)\n",
    "print(\"\\nOdd Numbber\")\n",
    "for j in result1:\n",
    "    print(j)"
   ]
  },
  {
   "cell_type": "code",
   "execution_count": 130,
   "id": "2ef9ada0",
   "metadata": {},
   "outputs": [
    {
     "name": "stdout",
     "output_type": "stream",
     "text": [
      "[3, 6, 9, 12, 15]\n"
     ]
    }
   ],
   "source": [
    "def multiple_of_three(num):\n",
    "    return(num%3==0)\n",
    "number =[1,3,4,5,6,9,12,15]\n",
    "result=list(filter(multiple_of_three,number))\n",
    "print(result)\n"
   ]
  },
  {
   "cell_type": "code",
   "execution_count": 132,
   "id": "1338d9ec",
   "metadata": {},
   "outputs": [
    {
     "name": "stdout",
     "output_type": "stream",
     "text": [
      "[3, 6, 9, 12, 15]\n"
     ]
    }
   ],
   "source": [
    "def multiple_of_three(num):\n",
    "    return(num%3==0)\n",
    "number =[1,3,4,5,6,9,12,15]\n",
    "result=list(filter(lambda x:multiple_of_three(x),number))\n",
    "print(result)"
   ]
  },
  {
   "cell_type": "markdown",
   "id": "342a550a",
   "metadata": {},
   "source": [
    "# reduce() \n",
    "### Syntax\n",
    "#### reduce(function,iterables)"
   ]
  },
  {
   "cell_type": "code",
   "execution_count": 134,
   "id": "7aa4ff16",
   "metadata": {},
   "outputs": [
    {
     "name": "stdout",
     "output_type": "stream",
     "text": [
      "15\n"
     ]
    }
   ],
   "source": [
    "import functools\n",
    "num=[1,2,3,4,5]\n",
    "def func(a,b):\n",
    "    return a+b\n",
    "print(functools.reduce(func,num))"
   ]
  },
  {
   "cell_type": "code",
   "execution_count": 135,
   "id": "78054c90",
   "metadata": {},
   "outputs": [
    {
     "name": "stdout",
     "output_type": "stream",
     "text": [
      "15\n"
     ]
    }
   ],
   "source": [
    "import functools\n",
    "num=[1,2,3,4,5]\n",
    "print(functools.reduce(lambda x,y:x+y,num))"
   ]
  },
  {
   "cell_type": "code",
   "execution_count": 138,
   "id": "d278415f",
   "metadata": {},
   "outputs": [
    {
     "name": "stdout",
     "output_type": "stream",
     "text": [
      "5\n"
     ]
    }
   ],
   "source": [
    "import functools\n",
    "num=[1,2,3,4,5]\n",
    "def maximum(a,b):\n",
    "    if(a>b):\n",
    "        return a\n",
    "    else:\n",
    "        return b\n",
    "print(functools.reduce(maximum,num))"
   ]
  },
  {
   "cell_type": "code",
   "execution_count": null,
   "id": "f6cbffcc",
   "metadata": {},
   "outputs": [],
   "source": []
  },
  {
   "cell_type": "code",
   "execution_count": null,
   "id": "b2eb37be",
   "metadata": {},
   "outputs": [],
   "source": []
  }
 ],
 "metadata": {
  "kernelspec": {
   "display_name": "Python 3 (ipykernel)",
   "language": "python",
   "name": "python3"
  },
  "language_info": {
   "codemirror_mode": {
    "name": "ipython",
    "version": 3
   },
   "file_extension": ".py",
   "mimetype": "text/x-python",
   "name": "python",
   "nbconvert_exporter": "python",
   "pygments_lexer": "ipython3",
   "version": "3.11.3"
  }
 },
 "nbformat": 4,
 "nbformat_minor": 5
}
