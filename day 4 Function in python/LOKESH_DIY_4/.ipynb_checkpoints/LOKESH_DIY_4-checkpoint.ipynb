{
 "cells": [
  {
   "cell_type": "markdown",
   "id": "37b29e44",
   "metadata": {},
   "source": [
    "### Q1. Problem Statement: Quotient and Remainder\n",
    "\n",
    "Write  a  Python  programwith  a  user-defined  functionthat  takes two integers  as  input,  dividend,  and  divisor.  Print the quotient  and  the remainder of the two numbers by dividing them using the “//” and “%” operators"
   ]
  },
  {
   "cell_type": "code",
   "execution_count": 3,
   "id": "00c400f3",
   "metadata": {},
   "outputs": [
    {
     "name": "stdout",
     "output_type": "stream",
     "text": [
      "\n",
      "Enter the dividend :25\n",
      "\n",
      "Enter the divisor:5\n",
      "\n",
      "Quotient: 5\n",
      "\n",
      "Remainder: 0\n"
     ]
    }
   ],
   "source": [
    "def Q(x,y):\n",
    "    return x//y\n",
    "def R(x,y):\n",
    "    return x%y\n",
    "div=int(input(\"\\nEnter the dividend :\"))\n",
    "dis=int(input(\"\\nEnter the divisor:\"))\n",
    "Quotient=Q(div,dis)\n",
    "remainder=R(div,dis)\n",
    "print(\"\\nQuotient:\",Quotient)\n",
    "print(\"\\nRemainder:\",remainder)"
   ]
  },
  {
   "cell_type": "code",
   "execution_count": 15,
   "id": "6eae5de1",
   "metadata": {},
   "outputs": [
    {
     "name": "stdout",
     "output_type": "stream",
     "text": [
      "\n",
      "Enter the dividend  :25\n",
      "\n",
      "Enter the divisor  :5\n",
      "\n",
      "Quotient 5\n",
      "\n",
      "Remainder 0\n"
     ]
    }
   ],
   "source": [
    "Quotient=int(input(\"\\nEnter the dividend  :\"))\n",
    "Remainder=int(input(\"\\nEnter the divisor  :\"))\n",
    "result=lambda x,y:x//y\n",
    "result1=lambda x,y:x%y\n",
    "print('\\nQuotient',result(Quotient,Remainder))\n",
    "print('\\nRemainder',result1(Quotient,Remainder))"
   ]
  },
  {
   "cell_type": "markdown",
   "id": "f4026e0f",
   "metadata": {},
   "source": [
    "### Q2. Problem Statement: Simple Interest Calculator\n",
    "#Write a program in Python tocalculatesimpleinterestusingthelambdafunction.\n",
    "#Hint:Simple interest =(p*R*t)/100, where P is the principal amount, R is the rate, and T is the time/number of years."
   ]
  },
  {
   "cell_type": "code",
   "execution_count": 21,
   "id": "04313354",
   "metadata": {},
   "outputs": [
    {
     "name": "stdout",
     "output_type": "stream",
     "text": [
      "\n",
      "enter the principle amount :40000\n",
      "\n",
      "enter the time of years :5\n",
      "\n",
      "enter the interest rate  :8\n",
      "\n",
      "The Simple Interest is; 16000.0\n"
     ]
    }
   ],
   "source": [
    "p=int(input('\\nenter the principle amount :'))\n",
    "t=int(input(\"\\nenter the time of years :\"))\n",
    "r=int(input(\"\\nenter the interest rate  :\"))\n",
    "simple_interest=lambda x,y,z:(x*y*z)/100\n",
    "print(\"\\nThe Simple Interest is;\",simple_interest(p,t,r))"
   ]
  }
 ],
 "metadata": {
  "kernelspec": {
   "display_name": "Python 3 (ipykernel)",
   "language": "python",
   "name": "python3"
  },
  "language_info": {
   "codemirror_mode": {
    "name": "ipython",
    "version": 3
   },
   "file_extension": ".py",
   "mimetype": "text/x-python",
   "name": "python",
   "nbconvert_exporter": "python",
   "pygments_lexer": "ipython3",
   "version": "3.11.3"
  }
 },
 "nbformat": 4,
 "nbformat_minor": 5
}
