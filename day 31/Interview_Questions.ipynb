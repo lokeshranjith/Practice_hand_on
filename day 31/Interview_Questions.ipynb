{
 "cells": [
  {
   "cell_type": "code",
   "execution_count": 1,
   "id": "7fb2fbb7",
   "metadata": {},
   "outputs": [
    {
     "name": "stdout",
     "output_type": "stream",
     "text": [
      "Hello Mr. Virat Kohli\n"
     ]
    }
   ],
   "source": [
    "print(\"Hello Mr. %s %s\" % ('Virat', 'Kohli'))"
   ]
  },
  {
   "cell_type": "code",
   "execution_count": 2,
   "id": "eb3fe1d1",
   "metadata": {},
   "outputs": [
    {
     "name": "stdout",
     "output_type": "stream",
     "text": [
      "48.0\n"
     ]
    }
   ],
   "source": [
    "def dummy(x):\n",
    "    return x**3/x*3\n",
    "\n",
    "x = dummy(4)\n",
    "print(x)"
   ]
  },
  {
   "cell_type": "code",
   "execution_count": 3,
   "id": "a010c5b9",
   "metadata": {},
   "outputs": [
    {
     "ename": "TypeError",
     "evalue": "'str' object cannot be interpreted as an integer",
     "output_type": "error",
     "traceback": [
      "\u001b[1;31m---------------------------------------------------------------------------\u001b[0m",
      "\u001b[1;31mTypeError\u001b[0m                                 Traceback (most recent call last)",
      "Cell \u001b[1;32mIn[3], line 4\u001b[0m\n\u001b[0;32m      1\u001b[0m \u001b[38;5;66;03m#What is the output of the following?\u001b[39;00m\n\u001b[0;32m      3\u001b[0m x \u001b[38;5;241m=\u001b[39m \u001b[38;5;124m'\u001b[39m\u001b[38;5;124mabcd\u001b[39m\u001b[38;5;124m'\u001b[39m\n\u001b[1;32m----> 4\u001b[0m \u001b[38;5;28;01mfor\u001b[39;00m i \u001b[38;5;129;01min\u001b[39;00m \u001b[38;5;28mrange\u001b[39m(x):\n\u001b[0;32m      5\u001b[0m    \u001b[38;5;28mprint\u001b[39m(i)\n",
      "\u001b[1;31mTypeError\u001b[0m: 'str' object cannot be interpreted as an integer"
     ]
    }
   ],
   "source": [
    "#What is the output of the following?\n",
    "\n",
    "x = 'abcd'\n",
    "for i in range(x):\n",
    "   print(i)"
   ]
  },
  {
   "cell_type": "code",
   "execution_count": 4,
   "id": "bf4d6afc",
   "metadata": {},
   "outputs": [
    {
     "name": "stdout",
     "output_type": "stream",
     "text": [
      "Output 1:  16\n",
      "Output 2:  64\n",
      "Output 3:  2.0\n"
     ]
    }
   ],
   "source": [
    "import math\n",
    "def sqrfunc(n):\n",
    "    return lambda n:n*n\n",
    "def cubefunc(n):\n",
    "    return lambda n:n*n*n\n",
    "def sqrtfunc(n):\n",
    "    return lambda n: math.sqrt(n)\n",
    "n= 4\n",
    "sqr = sqrfunc(n)\n",
    "cube= cubefunc(n)\n",
    "sqrrt=sqrtfunc(n)\n",
    "print(\"Output 1: \",sqr(n))\n",
    "print(\"Output 2: \",cube(n))\n",
    "print(\"Output 3: \",sqrrt(n))"
   ]
  },
  {
   "cell_type": "code",
   "execution_count": 5,
   "id": "2335fe8b",
   "metadata": {},
   "outputs": [
    {
     "name": "stdout",
     "output_type": "stream",
     "text": [
      "Max number:  6\n"
     ]
    }
   ],
   "source": [
    "def max_of_two( x, y ):\n",
    "    if x > y:\n",
    "        return x\n",
    "    return y\n",
    "def max_of_three( x, y, z ):\n",
    "    return max_of_two( x, max_of_two( y, z ) )\n",
    "\n",
    "n= 2\n",
    "if n==2:\n",
    "    x=5\n",
    "    y=6\n",
    "    print(\"Max number: \", max_of_two(x,y))\n",
    "elif n==3:\n",
    "    x=5\n",
    "    y=6\n",
    "    z=7\n",
    "    print(\"Max number: \",max_of_three(x,y,z))\n",
    "else:\n",
    "    print(\"Enter a smaller value of N!\")"
   ]
  },
  {
   "cell_type": "code",
   "execution_count": 7,
   "id": "0db22559",
   "metadata": {},
   "outputs": [
    {
     "name": "stdout",
     "output_type": "stream",
     "text": [
      "1,2,3,4,6,12\n"
     ]
    }
   ],
   "source": [
    "def factors(x,i):\n",
    "    s = 0\n",
    "    if i >= x:\n",
    "        return x\n",
    "    if x % i == 0:\n",
    "        s += i\n",
    "        print(s,end=',')\n",
    "    return factors(x,i+1)\n",
    "n = 12\n",
    "c = 1\n",
    "print(factors(n,c))"
   ]
  },
  {
   "cell_type": "code",
   "execution_count": 8,
   "id": "4280d320",
   "metadata": {},
   "outputs": [
    {
     "name": "stdout",
     "output_type": "stream",
     "text": [
      "50\n"
     ]
    }
   ],
   "source": [
    "N=20\n",
    "N_sum=10\n",
    "while N:\n",
    "    N_sum=N_sum+(N%5)*(N_sum*N)\n",
    "    N=N//10\n",
    "print(N_sum)"
   ]
  },
  {
   "cell_type": "code",
   "execution_count": 9,
   "id": "0a69f8b3",
   "metadata": {},
   "outputs": [
    {
     "ename": "NameError",
     "evalue": "name 'result' is not defined",
     "output_type": "error",
     "traceback": [
      "\u001b[1;31m---------------------------------------------------------------------------\u001b[0m",
      "\u001b[1;31mNameError\u001b[0m                                 Traceback (most recent call last)",
      "Cell \u001b[1;32mIn[9], line 20\u001b[0m\n\u001b[0;32m     17\u001b[0m     \u001b[38;5;28;01mfor\u001b[39;00m j \u001b[38;5;129;01min\u001b[39;00m \u001b[38;5;28mrange\u001b[39m(\u001b[38;5;28mlen\u001b[39m(X[\u001b[38;5;241m0\u001b[39m])):\n\u001b[0;32m     18\u001b[0m         matrix_sum[i][j] \u001b[38;5;241m=\u001b[39m X[i][j] \u001b[38;5;241m+\u001b[39m Y[i][j]\n\u001b[1;32m---> 20\u001b[0m \u001b[38;5;28;01mfor\u001b[39;00m r \u001b[38;5;129;01min\u001b[39;00m result:\n\u001b[0;32m     21\u001b[0m     \u001b[38;5;28mprint\u001b[39m(r)\n",
      "\u001b[1;31mNameError\u001b[0m: name 'result' is not defined"
     ]
    }
   ],
   "source": [
    "X = [[1,2,3],\n",
    "    [1,5,6],\n",
    "    [7,8,9]]\n",
    "\n",
    "Y = [[4,8,9],\n",
    "    [9,2,2],\n",
    "    [1,1,1]]\n",
    "\n",
    "\n",
    "matrix_sum = [[0,0,0],\n",
    "        [0,0,0],\n",
    "        [0,0,0]]\n",
    "\n",
    "# iterate through rows\n",
    "for i in range(len(X)):  \n",
    "# iterate through columns\n",
    "    for j in range(len(X[0])):\n",
    "        matrix_sum[i][j] = X[i][j] + Y[i][j]\n",
    "\n",
    "for r in result:\n",
    "    print(r)"
   ]
  },
  {
   "cell_type": "code",
   "execution_count": 10,
   "id": "c260a542",
   "metadata": {},
   "outputs": [
    {
     "name": "stdout",
     "output_type": "stream",
     "text": [
      "[ 0  5 12 21]\n"
     ]
    }
   ],
   "source": [
    "import numpy as np\n",
    "a= np.arange(4)\n",
    "b= np.arange(4,8)\n",
    "print(a*b)"
   ]
  },
  {
   "cell_type": "code",
   "execution_count": 12,
   "id": "60803f9d",
   "metadata": {},
   "outputs": [
    {
     "name": "stdout",
     "output_type": "stream",
     "text": [
      "p value is 0.1031971404730939\n"
     ]
    }
   ],
   "source": [
    "from scipy.stats import chi2_contingency\n",
    "data = [[207, 282, 241], [234, 242, 232]]\n",
    "stat, p, dof, expected = chi2_contingency(data)\n",
    "print(\"p value is \" + str(p))"
   ]
  },
  {
   "cell_type": "code",
   "execution_count": 13,
   "id": "b4fbe0bf",
   "metadata": {},
   "outputs": [
    {
     "name": "stdout",
     "output_type": "stream",
     "text": [
      "Mean is : 22.142857142857142\n"
     ]
    }
   ],
   "source": [
    "import statistics\n",
    "d1 = [4, 6, 45, 12, 78, 9, 1]\n",
    "nam = statistics.mean(d1)\n",
    "print(\"Mean is :\", nam)"
   ]
  },
  {
   "cell_type": "code",
   "execution_count": 14,
   "id": "f35e62de",
   "metadata": {},
   "outputs": [
    {
     "name": "stdout",
     "output_type": "stream",
     "text": [
      "Standard Deviation is 17.7426040929735 \n"
     ]
    }
   ],
   "source": [
    "nam = [22, 24, 12, 14, 56]\n",
    "print(\"Standard Deviation is % s \"% (statistics.stdev(nam)))"
   ]
  },
  {
   "cell_type": "code",
   "execution_count": 15,
   "id": "ac6ba791",
   "metadata": {},
   "outputs": [
    {
     "name": "stdout",
     "output_type": "stream",
     "text": [
      "Square Value of mia : [ 144   16  225 1296]\n"
     ]
    }
   ],
   "source": [
    "import numpy as np\n",
    "mia = [12, -4, -15, -36]\n",
    "print (\"Square Value of mia :\", np.square(mia))"
   ]
  },
  {
   "cell_type": "code",
   "execution_count": null,
   "id": "024f2052",
   "metadata": {},
   "outputs": [],
   "source": []
  }
 ],
 "metadata": {
  "kernelspec": {
   "display_name": "Python 3 (ipykernel)",
   "language": "python",
   "name": "python3"
  },
  "language_info": {
   "codemirror_mode": {
    "name": "ipython",
    "version": 3
   },
   "file_extension": ".py",
   "mimetype": "text/x-python",
   "name": "python",
   "nbconvert_exporter": "python",
   "pygments_lexer": "ipython3",
   "version": "3.11.5"
  }
 },
 "nbformat": 4,
 "nbformat_minor": 5
}
