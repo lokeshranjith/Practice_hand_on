{
 "cells": [
  {
   "cell_type": "code",
   "execution_count": 3,
   "id": "fa1bc17c",
   "metadata": {},
   "outputs": [
    {
     "name": "stdout",
     "output_type": "stream",
     "text": [
      "What is your name?shubham\n",
      "Alright shubham Welcome to your maths quiz\n",
      "Your question is 6 * 6\n",
      "What is your answer:8\n",
      "Incorrect. The Correct answer is 36\n"
     ]
    }
   ],
   "source": [
    "import random\n",
    "name=input(\"What is your name?\")\n",
    "print (\"Alright\",name,\"Welcome to your maths quiz\")\n",
    "score=0\n",
    "question=0\n",
    "finish= False\n",
    "ops = ['*']\n",
    "rand=random.randint(1,10)\n",
    "rand2=random.randint(1,10)\n",
    "operation = random.choice(ops)\n",
    "maths = eval(str(rand) + operation + str(rand2))\n",
    "print (\"Your question is\",rand,operation,rand2)\n",
    "question=question+1\n",
    "d=int(input (\"What is your answer:\"))\n",
    "if d==maths:\n",
    "    print (\"Correct\")\n",
    "    score=score+1\n",
    "else:\n",
    "    print (\"Incorrect. The Correct answer is\",maths)\n"
   ]
  },
  {
   "cell_type": "code",
   "execution_count": 4,
   "id": "d566a0ab",
   "metadata": {},
   "outputs": [
    {
     "name": "stdout",
     "output_type": "stream",
     "text": [
      "Vehicle Name: Volvo Bus Speed: 220 Mileage: 14\n"
     ]
    }
   ],
   "source": [
    "class Vehicle:\n",
    "    def __init__(self, name, max_speed, mileage):\n",
    "        self.name = name\n",
    "        self.max_speed = max_speed\n",
    "        self.mileage = mileage\n",
    "\n",
    "class Bus(Vehicle):\n",
    "    pass\n",
    "\n",
    "bus = Bus(\"Volvo Bus\", 220, 14)\n",
    "print(\"Vehicle Name:\", bus.name, \"Speed:\", bus.max_speed, \"Mileage:\", bus.mileage)"
   ]
  },
  {
   "cell_type": "code",
   "execution_count": null,
   "id": "57a190ef",
   "metadata": {},
   "outputs": [],
   "source": []
  }
 ],
 "metadata": {
  "kernelspec": {
   "display_name": "Python 3 (ipykernel)",
   "language": "python",
   "name": "python3"
  },
  "language_info": {
   "codemirror_mode": {
    "name": "ipython",
    "version": 3
   },
   "file_extension": ".py",
   "mimetype": "text/x-python",
   "name": "python",
   "nbconvert_exporter": "python",
   "pygments_lexer": "ipython3",
   "version": "3.11.3"
  }
 },
 "nbformat": 4,
 "nbformat_minor": 5
}
